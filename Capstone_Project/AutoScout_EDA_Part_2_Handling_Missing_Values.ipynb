{
 "cells": [
  {
   "cell_type": "markdown",
   "metadata": {
    "id": "Bv1I7_aas1L3"
   },
   "source": [
    "___\n",
    "\n",
    "<p style=\"text-align: center;\"><img src=\"https://docs.google.com/uc?id=1lY0Uj5R04yMY3-ZppPWxqCr5pvBLYPnV\" class=\"img-fluid\" \n",
    "alt=\"CLRSWY\"></p>\n",
    "\n",
    "## <p style=\"background-color:#FDFEFE; font-family:newtimeroman; color:#9d4f8c; font-size:100%; text-align:center; border-radius:10px 10px;\">WAY TO REINVENT YOURSELF</p>"
   ]
  },
  {
   "cell_type": "markdown",
   "metadata": {
    "id": "Bkw3_pB0s1L-"
   },
   "source": [
    "<img src=https://i.ibb.co/wJW61Y2/Used-cars.jpg width=\"700\" height=\"200\">\n",
    "\n",
    "## <p style=\"background-color:#FDFEFE; font-family:newtimeroman; color:#060108; font-size:200%; text-align:center; border-radius:10px 10px;\">The Capstone Project of Data Analytics Module</p>\n",
    "\n",
    "## <p style=\"background-color:#FDFEFE; font-family:newtimeroman; color:#060108; font-size:150%; text-align:center; border-radius:10px 10px;\">Car Price Prediction EDA</p>"
   ]
  },
  {
   "cell_type": "markdown",
   "metadata": {
    "id": "Z_oWczxZs1MA"
   },
   "source": [
    "## Introduction\n",
    "Welcome to \"***AutoScout Data Analysis Project***\". This is the capstone project of ***Data Analysis*** Module. **Auto Scout** data which using for this project, scraped from the on-line car trading company in 2019, contains many features of 9 different car models. In this project, you will have the opportunity to apply many commonly used algorithms for Data Cleaning and Exploratory Data Analysis by using many Python libraries such as Numpy, Pandas, Matplotlib, Seaborn, Scipy you will analyze clean dataset.\n",
    "\n",
    "### Some Reminders on Exploratory data analysis (EDA)\n",
    "\n",
    "Exploratory data analysis (EDA) is an especially important activity in the routine of a data analyst or scientist. It enables an in depth understanding of the dataset, define or discard hypotheses and create predictive models on a solid basis. It uses data manipulation techniques and several statistical tools to describe and understand the relationship between variables and how these can impact business. By means of EDA, we can obtain meaningful insights that can impact analysis under the following questions (If a checklist is good enough for pilots to use every flight, it’s good enough for data scientists to use with every dataset).\n",
    "1. What question are you trying to solve (or prove wrong)?\n",
    "2. What kind of data do you have?\n",
    "3. What’s missing from the data?\n",
    "4. Where are the outliers?\n",
    "5. How can you add, change or remove features to get more out of your data?\n",
    "\n",
    "**``Exploratory data analysis (EDA)``** is often an **iterative brainstorming process** where you pose a question, review the data, and develop further questions to investigate before beginning model development work. The image below shows how the brainstorming phase is connected with that of understanding the variables and how this in turn is connected again with the brainstorming phase.<br>\n",
    "\n",
    "<img src=https://i.ibb.co/k0MC950/EDA-Process.png width=\"300\" height=\"100\">\n",
    "\n",
    "[Image Credit: Andrew D.](https://towardsdatascience.com/exploratory-data-analysis-in-python-a-step-by-step-process-d0dfa6bf94ee)\n",
    "\n",
    "**``In this context, the project consists of 3 parts in general:``**\n",
    "* **The first part** is related to 'Data Cleaning'. It deals with Incorrect Headers, Incorrect Format, Anomalies, and Dropping useless columns.\n",
    "* **The second part** is related to 'Filling Data', in other words 'Imputation'. It deals with Missing Values. Categorical to numeric transformation is done as well.\n",
    "* **The third part** is related to 'Handling Outliers of Data' via Visualization libraries. So, some insights will be extracted.\n",
    "\n",
    "**``NOTE:``**  However, you are free to create your own style. You do NOT have to stick to the steps above. We, the DA & DV instructors, recommend you study each part separately to create a source notebook for each part title for your further studies. "
   ]
  },
  {
   "cell_type": "markdown",
   "metadata": {
    "id": "uGeKSdYds1MD"
   },
   "source": [
    "## PART- 2 `( Handling With Missing Vales )`"
   ]
  },
  {
   "cell_type": "code",
   "execution_count": 1,
   "metadata": {},
   "outputs": [],
   "source": [
    "import numpy as np\n",
    "import pandas as pd\n",
    "import seaborn as sns \n",
    "import matplotlib.pyplot as plt\n",
    "from scipy import stats\n",
    "from scipy.stats.mstats import winsorize\n",
    "\n",
    "import warnings\n",
    "warnings.filterwarnings(\"ignore\")\n",
    "warnings.warn(\"this will not show\")\n",
    "\n",
    "%matplotlib inline\n",
    "\n",
    "plt.rcParams[\"figure.figsize\"] = (10,6)\n",
    "\n",
    "sns.set_style(\"whitegrid\")\n",
    "pd.set_option('display.float_format', lambda x: '%.2f' % x)\n",
    "\n",
    "pd.options.display.max_rows = 100\n",
    "pd.options.display.max_columns = 100"
   ]
  },
  {
   "cell_type": "code",
   "execution_count": 2,
   "metadata": {},
   "outputs": [],
   "source": [
    "df = pd.read_csv(\"clean_scout.csv\")"
   ]
  },
  {
   "cell_type": "code",
   "execution_count": 3,
   "metadata": {},
   "outputs": [
    {
     "data": {
      "text/plain": [
       "(15919, 33)"
      ]
     },
     "execution_count": 3,
     "metadata": {},
     "output_type": "execute_result"
    }
   ],
   "source": [
    "df.shape"
   ]
  },
  {
   "cell_type": "code",
   "execution_count": 4,
   "metadata": {},
   "outputs": [
    {
     "name": "stdout",
     "output_type": "stream",
     "text": [
      "<class 'pandas.core.frame.DataFrame'>\n",
      "RangeIndex: 15919 entries, 0 to 15918\n",
      "Data columns (total 33 columns):\n",
      " #   Column               Non-Null Count  Dtype  \n",
      "---  ------               --------------  -----  \n",
      " 0   make_model           15919 non-null  object \n",
      " 1   body_type            15859 non-null  object \n",
      " 2   price                15919 non-null  int64  \n",
      " 3   vat                  11406 non-null  object \n",
      " 4   km                   14895 non-null  float64\n",
      " 5   hp_kw                15831 non-null  float64\n",
      " 6   type                 15917 non-null  object \n",
      " 7   previous_owners      9279 non-null   float64\n",
      " 8   inspection_new       3932 non-null   object \n",
      " 9   warranty             4853 non-null   float64\n",
      " 10  age                  14322 non-null  float64\n",
      " 11  body_color           15322 non-null  object \n",
      " 12  paint_type           10147 non-null  object \n",
      " 13  upholstery_type      11048 non-null  object \n",
      " 14  upholstery_color     10841 non-null  object \n",
      " 15  nr_of_doors          15707 non-null  float64\n",
      " 16  nr_of_seats          14942 non-null  float64\n",
      " 17  gearing_type         15919 non-null  object \n",
      " 18  displacement_cc      15423 non-null  float64\n",
      " 19  cylinders            10239 non-null  float64\n",
      " 20  weight_kg            8945 non-null   float64\n",
      " 21  drive_chain          9061 non-null   object \n",
      " 22  fuel                 15919 non-null  object \n",
      " 23  cons_comb            13886 non-null  float64\n",
      " 24  cons_city            13483 non-null  float64\n",
      " 25  cons_country         13543 non-null  float64\n",
      " 26  co2_emission         13483 non-null  float64\n",
      " 27  emission_class       12291 non-null  object \n",
      " 28  comfort_convenience  14999 non-null  object \n",
      " 29  entertainment_media  14545 non-null  object \n",
      " 30  extras               12957 non-null  object \n",
      " 31  safety_security      14937 non-null  object \n",
      " 32  gears                11207 non-null  float64\n",
      "dtypes: float64(15), int64(1), object(17)\n",
      "memory usage: 4.0+ MB\n"
     ]
    }
   ],
   "source": [
    "df.info()"
   ]
  },
  {
   "cell_type": "code",
   "execution_count": 5,
   "metadata": {},
   "outputs": [
    {
     "data": {
      "text/plain": [
       "inspection_new        75.30\n",
       "warranty              69.51\n",
       "weight_kg             43.81\n",
       "drive_chain           43.08\n",
       "previous_owners       41.71\n",
       "paint_type            36.26\n",
       "cylinders             35.68\n",
       "upholstery_color      31.90\n",
       "upholstery_type       30.60\n",
       "gears                 29.60\n",
       "vat                   28.35\n",
       "emission_class        22.79\n",
       "extras                18.61\n",
       "co2_emission          15.30\n",
       "cons_city             15.30\n",
       "cons_country          14.93\n",
       "cons_comb             12.77\n",
       "age                   10.03\n",
       "entertainment_media    8.63\n",
       "km                     6.43\n",
       "safety_security        6.17\n",
       "nr_of_seats            6.14\n",
       "comfort_convenience    5.78\n",
       "body_color             3.75\n",
       "displacement_cc        3.12\n",
       "nr_of_doors            1.33\n",
       "hp_kw                  0.55\n",
       "body_type              0.38\n",
       "type                   0.01\n",
       "fuel                   0.00\n",
       "gearing_type           0.00\n",
       "price                  0.00\n",
       "make_model             0.00\n",
       "dtype: float64"
      ]
     },
     "execution_count": 5,
     "metadata": {},
     "output_type": "execute_result"
    }
   ],
   "source": [
    "missing_percent=(df.isnull().sum()*100 / len(df)).sort_values(ascending=False)\n",
    "missing_percent"
   ]
  },
  {
   "cell_type": "code",
   "execution_count": 6,
   "metadata": {},
   "outputs": [
    {
     "data": {
      "text/plain": [
       "inspection_new         11987\n",
       "warranty               11066\n",
       "weight_kg               6974\n",
       "drive_chain             6858\n",
       "previous_owners         6640\n",
       "paint_type              5772\n",
       "cylinders               5680\n",
       "upholstery_color        5078\n",
       "upholstery_type         4871\n",
       "gears                   4712\n",
       "vat                     4513\n",
       "emission_class          3628\n",
       "extras                  2962\n",
       "co2_emission            2436\n",
       "cons_city               2436\n",
       "cons_country            2376\n",
       "cons_comb               2033\n",
       "age                     1597\n",
       "entertainment_media     1374\n",
       "km                      1024\n",
       "safety_security          982\n",
       "nr_of_seats              977\n",
       "comfort_convenience      920\n",
       "body_color               597\n",
       "displacement_cc          496\n",
       "nr_of_doors              212\n",
       "hp_kw                     88\n",
       "body_type                 60\n",
       "type                       2\n",
       "fuel                       0\n",
       "gearing_type               0\n",
       "price                      0\n",
       "make_model                 0\n",
       "dtype: int64"
      ]
     },
     "execution_count": 6,
     "metadata": {},
     "output_type": "execute_result"
    }
   ],
   "source": [
    "missing_total=(df.isnull().sum()).sort_values(ascending=False)\n",
    "missing_total"
   ]
  },
  {
   "cell_type": "markdown",
   "metadata": {},
   "source": [
    "## Examining the Features and Filling Missing Values"
   ]
  },
  {
   "cell_type": "code",
   "execution_count": 7,
   "metadata": {},
   "outputs": [],
   "source": [
    "# Creating a function to examine the features.\n",
    "\n",
    "def look_before(col):\n",
    "    print(\"column name    : \", col)\n",
    "    print(\"--------------------------------\")\n",
    "    print(\"per_of_nulls   : \", \"%\", round(df[col].isnull().sum()/df.shape[0]*100, 2))\n",
    "    print(\"num_of_nulls   : \", df[col].isnull().sum())\n",
    "    print(\"num_of_uniques : \", df[col].nunique())\n",
    "    print(\"--------------------------------\")\n",
    "    print(df[col].value_counts(dropna = False))"
   ]
  },
  {
   "cell_type": "markdown",
   "metadata": {},
   "source": [
    "### make_model"
   ]
  },
  {
   "cell_type": "code",
   "execution_count": 8,
   "metadata": {},
   "outputs": [
    {
     "name": "stdout",
     "output_type": "stream",
     "text": [
      "column name    :  make_model\n",
      "--------------------------------\n",
      "per_of_nulls   :  % 0.0\n",
      "num_of_nulls   :  0\n",
      "num_of_uniques :  9\n",
      "--------------------------------\n",
      "Audi A3           3097\n",
      "Audi A1           2614\n",
      "Opel Insignia     2598\n",
      "Opel Astra        2526\n",
      "Opel Corsa        2219\n",
      "Renault Clio      1839\n",
      "Renault Espace     991\n",
      "Renault Duster      34\n",
      "Audi A2              1\n",
      "Name: make_model, dtype: int64\n"
     ]
    }
   ],
   "source": [
    "look_before(\"make_model\")"
   ]
  },
  {
   "cell_type": "markdown",
   "metadata": {},
   "source": [
    "### body_type"
   ]
  },
  {
   "cell_type": "code",
   "execution_count": 9,
   "metadata": {},
   "outputs": [
    {
     "name": "stdout",
     "output_type": "stream",
     "text": [
      "column name    :  body_type\n",
      "--------------------------------\n",
      "per_of_nulls   :  % 0.38\n",
      "num_of_nulls   :  60\n",
      "num_of_uniques :  9\n",
      "--------------------------------\n",
      "Sedans           7903\n",
      "Station wagon    3553\n",
      "Compact          3153\n",
      "Van               783\n",
      "Other             290\n",
      "Transporter        88\n",
      "NaN                60\n",
      "Off-Road           56\n",
      "Coupe              25\n",
      "Convertible         8\n",
      "Name: body_type, dtype: int64\n"
     ]
    }
   ],
   "source": [
    "look_before(\"body_type\")"
   ]
  },
  {
   "cell_type": "code",
   "execution_count": 10,
   "metadata": {},
   "outputs": [
    {
     "data": {
      "text/plain": [
       "make_model      body_type    \n",
       "Audi A1         Sedans           1538\n",
       "                Compact          1039\n",
       "                Station wagon      21\n",
       "                Other              13\n",
       "                Coupe               2\n",
       "                Van                 1\n",
       "Audi A2         Off-Road            1\n",
       "Audi A3         Sedans           2598\n",
       "                Station wagon     282\n",
       "                Compact           182\n",
       "                Other              16\n",
       "                Convertible         8\n",
       "                NaN                 7\n",
       "                Coupe               4\n",
       "Opel Astra      Station wagon    1211\n",
       "                Sedans           1053\n",
       "                Compact           185\n",
       "                Other              67\n",
       "                NaN                 7\n",
       "                Coupe               2\n",
       "                Off-Road            1\n",
       "Opel Corsa      Compact          1230\n",
       "                Sedans            875\n",
       "                Other              87\n",
       "                Coupe              13\n",
       "                Transporter         7\n",
       "                Off-Road            3\n",
       "                NaN                 2\n",
       "                Van                 2\n",
       "Opel Insignia   Station wagon    1611\n",
       "                Sedans            900\n",
       "                Other              48\n",
       "                Compact            27\n",
       "                Off-Road            7\n",
       "                NaN                 3\n",
       "                Coupe               1\n",
       "                Van                 1\n",
       "Renault Clio    Sedans            918\n",
       "                Compact           484\n",
       "                Station wagon     337\n",
       "                Other              51\n",
       "                Transporter        29\n",
       "                NaN                15\n",
       "                Off-Road            2\n",
       "                Van                 2\n",
       "                Coupe               1\n",
       "Renault Duster  Off-Road           34\n",
       "Renault Espace  Van               777\n",
       "                Station wagon      91\n",
       "                Transporter        52\n",
       "                NaN                26\n",
       "                Sedans             21\n",
       "                Off-Road            8\n",
       "                Other               8\n",
       "                Compact             6\n",
       "                Coupe               2\n",
       "Name: body_type, dtype: int64"
      ]
     },
     "execution_count": 10,
     "metadata": {},
     "output_type": "execute_result"
    }
   ],
   "source": [
    "df.groupby('make_model')['body_type'].value_counts(dropna=False)"
   ]
  },
  {
   "cell_type": "code",
   "execution_count": 11,
   "metadata": {},
   "outputs": [],
   "source": [
    "# Filling the column according to the \"make_model\" column.\n",
    "\n",
    "df[\"body_type\"].fillna(df.groupby('make_model')['body_type'].transform(lambda x: x.mode()[0]), inplace=True)"
   ]
  },
  {
   "cell_type": "code",
   "execution_count": 12,
   "metadata": {},
   "outputs": [
    {
     "data": {
      "text/plain": [
       "0"
      ]
     },
     "execution_count": 12,
     "metadata": {},
     "output_type": "execute_result"
    }
   ],
   "source": [
    "df.body_type.isnull().sum()"
   ]
  },
  {
   "cell_type": "markdown",
   "metadata": {},
   "source": [
    "### price (target feature)"
   ]
  },
  {
   "cell_type": "code",
   "execution_count": 13,
   "metadata": {},
   "outputs": [
    {
     "name": "stdout",
     "output_type": "stream",
     "text": [
      "column name    :  price\n",
      "--------------------------------\n",
      "per_of_nulls   :  % 0.0\n",
      "num_of_nulls   :  0\n",
      "num_of_uniques :  2956\n",
      "--------------------------------\n",
      "14990    154\n",
      "15990    151\n",
      "10990    139\n",
      "15900    106\n",
      "17990    102\n",
      "        ... \n",
      "17559      1\n",
      "17560      1\n",
      "17570      1\n",
      "17575      1\n",
      "39875      1\n",
      "Name: price, Length: 2956, dtype: int64\n"
     ]
    }
   ],
   "source": [
    "look_before(\"price\")"
   ]
  },
  {
   "cell_type": "markdown",
   "metadata": {},
   "source": [
    "### vat"
   ]
  },
  {
   "cell_type": "code",
   "execution_count": 14,
   "metadata": {},
   "outputs": [
    {
     "name": "stdout",
     "output_type": "stream",
     "text": [
      "column name    :  vat\n",
      "--------------------------------\n",
      "per_of_nulls   :  % 28.35\n",
      "num_of_nulls   :  4513\n",
      "num_of_uniques :  2\n",
      "--------------------------------\n",
      "VAT deductible      10980\n",
      "NaN                  4513\n",
      "Price negotiable      426\n",
      "Name: vat, dtype: int64\n"
     ]
    }
   ],
   "source": [
    "look_before(\"vat\")"
   ]
  },
  {
   "cell_type": "code",
   "execution_count": 15,
   "metadata": {},
   "outputs": [],
   "source": [
    "df[\"vat\"] = df[\"vat\"].fillna(\"VAT non-deductible\")"
   ]
  },
  {
   "cell_type": "code",
   "execution_count": 16,
   "metadata": {},
   "outputs": [
    {
     "data": {
      "text/plain": [
       "0"
      ]
     },
     "execution_count": 16,
     "metadata": {},
     "output_type": "execute_result"
    }
   ],
   "source": [
    "df.vat.isnull().sum()"
   ]
  },
  {
   "cell_type": "markdown",
   "metadata": {},
   "source": [
    "### type"
   ]
  },
  {
   "cell_type": "code",
   "execution_count": 17,
   "metadata": {},
   "outputs": [
    {
     "name": "stdout",
     "output_type": "stream",
     "text": [
      "column name    :  type\n",
      "--------------------------------\n",
      "per_of_nulls   :  % 0.01\n",
      "num_of_nulls   :  2\n",
      "num_of_uniques :  5\n",
      "--------------------------------\n",
      "Used              11096\n",
      "New                1650\n",
      "Pre-registered     1364\n",
      "Employee's car     1011\n",
      "Demonstration       796\n",
      "NaN                   2\n",
      "Name: type, dtype: int64\n"
     ]
    }
   ],
   "source": [
    "look_before(\"type\")"
   ]
  },
  {
   "cell_type": "code",
   "execution_count": 18,
   "metadata": {},
   "outputs": [
    {
     "data": {
      "text/plain": [
       "0    Used\n",
       "dtype: object"
      ]
     },
     "execution_count": 18,
     "metadata": {},
     "output_type": "execute_result"
    }
   ],
   "source": [
    "df.type.mode()"
   ]
  },
  {
   "cell_type": "code",
   "execution_count": 19,
   "metadata": {},
   "outputs": [],
   "source": [
    "df[\"type\"]=df.type.fillna(df.type.mode()[0])"
   ]
  },
  {
   "cell_type": "code",
   "execution_count": 20,
   "metadata": {},
   "outputs": [
    {
     "data": {
      "text/plain": [
       "0"
      ]
     },
     "execution_count": 20,
     "metadata": {},
     "output_type": "execute_result"
    }
   ],
   "source": [
    "df.type.isnull().sum()"
   ]
  },
  {
   "cell_type": "markdown",
   "metadata": {},
   "source": [
    "### age"
   ]
  },
  {
   "cell_type": "code",
   "execution_count": 21,
   "metadata": {},
   "outputs": [
    {
     "name": "stdout",
     "output_type": "stream",
     "text": [
      "column name    :  age\n",
      "--------------------------------\n",
      "per_of_nulls   :  % 10.03\n",
      "num_of_nulls   :  1597\n",
      "num_of_uniques :  4\n",
      "--------------------------------\n",
      "1.00    4522\n",
      "3.00    3674\n",
      "2.00    3273\n",
      "0.00    2853\n",
      "NaN     1597\n",
      "Name: age, dtype: int64\n"
     ]
    }
   ],
   "source": [
    "look_before(\"age\")"
   ]
  },
  {
   "cell_type": "code",
   "execution_count": 22,
   "metadata": {},
   "outputs": [
    {
     "data": {
      "text/plain": [
       "0    Used\n",
       "dtype: object"
      ]
     },
     "execution_count": 22,
     "metadata": {},
     "output_type": "execute_result"
    }
   ],
   "source": [
    "df.type.mode()"
   ]
  },
  {
   "cell_type": "code",
   "execution_count": 23,
   "metadata": {},
   "outputs": [
    {
     "data": {
      "text/html": [
       "<div>\n",
       "<style scoped>\n",
       "    .dataframe tbody tr th:only-of-type {\n",
       "        vertical-align: middle;\n",
       "    }\n",
       "\n",
       "    .dataframe tbody tr th {\n",
       "        vertical-align: top;\n",
       "    }\n",
       "\n",
       "    .dataframe thead th {\n",
       "        text-align: right;\n",
       "    }\n",
       "</style>\n",
       "<table border=\"1\" class=\"dataframe\">\n",
       "  <thead>\n",
       "    <tr style=\"text-align: right;\">\n",
       "      <th></th>\n",
       "      <th>count</th>\n",
       "      <th>mean</th>\n",
       "      <th>std</th>\n",
       "      <th>min</th>\n",
       "      <th>25%</th>\n",
       "      <th>50%</th>\n",
       "      <th>75%</th>\n",
       "      <th>max</th>\n",
       "    </tr>\n",
       "    <tr>\n",
       "      <th>type</th>\n",
       "      <th></th>\n",
       "      <th></th>\n",
       "      <th></th>\n",
       "      <th></th>\n",
       "      <th></th>\n",
       "      <th></th>\n",
       "      <th></th>\n",
       "      <th></th>\n",
       "    </tr>\n",
       "  </thead>\n",
       "  <tbody>\n",
       "    <tr>\n",
       "      <th>Demonstration</th>\n",
       "      <td>791.00</td>\n",
       "      <td>0.24</td>\n",
       "      <td>0.52</td>\n",
       "      <td>0.00</td>\n",
       "      <td>0.00</td>\n",
       "      <td>0.00</td>\n",
       "      <td>0.00</td>\n",
       "      <td>3.00</td>\n",
       "    </tr>\n",
       "    <tr>\n",
       "      <th>Employee's car</th>\n",
       "      <td>1008.00</td>\n",
       "      <td>1.01</td>\n",
       "      <td>0.54</td>\n",
       "      <td>0.00</td>\n",
       "      <td>1.00</td>\n",
       "      <td>1.00</td>\n",
       "      <td>1.00</td>\n",
       "      <td>3.00</td>\n",
       "    </tr>\n",
       "    <tr>\n",
       "      <th>New</th>\n",
       "      <td>103.00</td>\n",
       "      <td>0.03</td>\n",
       "      <td>0.17</td>\n",
       "      <td>0.00</td>\n",
       "      <td>0.00</td>\n",
       "      <td>0.00</td>\n",
       "      <td>0.00</td>\n",
       "      <td>1.00</td>\n",
       "    </tr>\n",
       "    <tr>\n",
       "      <th>Pre-registered</th>\n",
       "      <td>1358.00</td>\n",
       "      <td>0.13</td>\n",
       "      <td>0.37</td>\n",
       "      <td>0.00</td>\n",
       "      <td>0.00</td>\n",
       "      <td>0.00</td>\n",
       "      <td>0.00</td>\n",
       "      <td>3.00</td>\n",
       "    </tr>\n",
       "    <tr>\n",
       "      <th>Used</th>\n",
       "      <td>11062.00</td>\n",
       "      <td>1.87</td>\n",
       "      <td>0.96</td>\n",
       "      <td>0.00</td>\n",
       "      <td>1.00</td>\n",
       "      <td>2.00</td>\n",
       "      <td>3.00</td>\n",
       "      <td>3.00</td>\n",
       "    </tr>\n",
       "  </tbody>\n",
       "</table>\n",
       "</div>"
      ],
      "text/plain": [
       "                  count  mean  std  min  25%  50%  75%  max\n",
       "type                                                       \n",
       "Demonstration    791.00  0.24 0.52 0.00 0.00 0.00 0.00 3.00\n",
       "Employee's car  1008.00  1.01 0.54 0.00 1.00 1.00 1.00 3.00\n",
       "New              103.00  0.03 0.17 0.00 0.00 0.00 0.00 1.00\n",
       "Pre-registered  1358.00  0.13 0.37 0.00 0.00 0.00 0.00 3.00\n",
       "Used           11062.00  1.87 0.96 0.00 1.00 2.00 3.00 3.00"
      ]
     },
     "execution_count": 23,
     "metadata": {},
     "output_type": "execute_result"
    }
   ],
   "source": [
    "df.groupby(\"type\").age.describe()"
   ]
  },
  {
   "cell_type": "code",
   "execution_count": 24,
   "metadata": {},
   "outputs": [],
   "source": [
    "#type göre gruplayıp age'ın medianı ile doldura\n",
    "df[\"age\"]=df.groupby(\"type\").age.apply(lambda x: x.fillna(x.median()))"
   ]
  },
  {
   "cell_type": "code",
   "execution_count": 25,
   "metadata": {},
   "outputs": [
    {
     "data": {
      "text/plain": [
       "0"
      ]
     },
     "execution_count": 25,
     "metadata": {},
     "output_type": "execute_result"
    }
   ],
   "source": [
    "df[\"age\"].isnull().sum()"
   ]
  },
  {
   "cell_type": "code",
   "execution_count": 26,
   "metadata": {},
   "outputs": [
    {
     "data": {
      "text/plain": [
       "count   15919.00\n",
       "mean        1.39\n",
       "std         1.12\n",
       "min         0.00\n",
       "25%         0.00\n",
       "50%         1.00\n",
       "75%         2.00\n",
       "max         3.00\n",
       "Name: age, dtype: float64"
      ]
     },
     "execution_count": 26,
     "metadata": {},
     "output_type": "execute_result"
    }
   ],
   "source": [
    "df.age.describe()"
   ]
  },
  {
   "cell_type": "markdown",
   "metadata": {},
   "source": [
    "### km"
   ]
  },
  {
   "cell_type": "code",
   "execution_count": 27,
   "metadata": {},
   "outputs": [
    {
     "name": "stdout",
     "output_type": "stream",
     "text": [
      "column name    :  km\n",
      "--------------------------------\n",
      "per_of_nulls   :  % 6.43\n",
      "num_of_nulls   :  1024\n",
      "num_of_uniques :  6689\n",
      "--------------------------------\n",
      "10.00       1045\n",
      "NaN         1024\n",
      "1.00         367\n",
      "5.00         170\n",
      "50.00        148\n",
      "            ... \n",
      "67469.00       1\n",
      "43197.00       1\n",
      "10027.00       1\n",
      "35882.00       1\n",
      "57.00          1\n",
      "Name: km, Length: 6690, dtype: int64\n"
     ]
    }
   ],
   "source": [
    "look_before(\"km\")"
   ]
  },
  {
   "cell_type": "code",
   "execution_count": 28,
   "metadata": {},
   "outputs": [
    {
     "data": {
      "text/plain": [
       "count    14895.00\n",
       "mean     34130.13\n",
       "std      37352.98\n",
       "min          0.00\n",
       "25%       5153.00\n",
       "50%      22740.00\n",
       "75%      49371.50\n",
       "max     317000.00\n",
       "Name: km, dtype: float64"
      ]
     },
     "execution_count": 28,
     "metadata": {},
     "output_type": "execute_result"
    }
   ],
   "source": [
    "df.km.describe()"
   ]
  },
  {
   "cell_type": "code",
   "execution_count": 29,
   "metadata": {},
   "outputs": [
    {
     "data": {
      "text/html": [
       "<div>\n",
       "<style scoped>\n",
       "    .dataframe tbody tr th:only-of-type {\n",
       "        vertical-align: middle;\n",
       "    }\n",
       "\n",
       "    .dataframe tbody tr th {\n",
       "        vertical-align: top;\n",
       "    }\n",
       "\n",
       "    .dataframe thead th {\n",
       "        text-align: right;\n",
       "    }\n",
       "</style>\n",
       "<table border=\"1\" class=\"dataframe\">\n",
       "  <thead>\n",
       "    <tr style=\"text-align: right;\">\n",
       "      <th></th>\n",
       "      <th></th>\n",
       "      <th>count</th>\n",
       "      <th>mean</th>\n",
       "      <th>std</th>\n",
       "      <th>min</th>\n",
       "      <th>25%</th>\n",
       "      <th>50%</th>\n",
       "      <th>75%</th>\n",
       "      <th>max</th>\n",
       "    </tr>\n",
       "    <tr>\n",
       "      <th>type</th>\n",
       "      <th>age</th>\n",
       "      <th></th>\n",
       "      <th></th>\n",
       "      <th></th>\n",
       "      <th></th>\n",
       "      <th></th>\n",
       "      <th></th>\n",
       "      <th></th>\n",
       "      <th></th>\n",
       "    </tr>\n",
       "  </thead>\n",
       "  <tbody>\n",
       "    <tr>\n",
       "      <th rowspan=\"4\" valign=\"top\">Demonstration</th>\n",
       "      <th>0.00</th>\n",
       "      <td>604.00</td>\n",
       "      <td>3373.87</td>\n",
       "      <td>3540.54</td>\n",
       "      <td>3.00</td>\n",
       "      <td>450.00</td>\n",
       "      <td>2900.00</td>\n",
       "      <td>5000.00</td>\n",
       "      <td>20000.00</td>\n",
       "    </tr>\n",
       "    <tr>\n",
       "      <th>1.00</th>\n",
       "      <td>130.00</td>\n",
       "      <td>8294.20</td>\n",
       "      <td>7998.99</td>\n",
       "      <td>8.00</td>\n",
       "      <td>1601.00</td>\n",
       "      <td>5192.50</td>\n",
       "      <td>13737.50</td>\n",
       "      <td>38400.00</td>\n",
       "    </tr>\n",
       "    <tr>\n",
       "      <th>2.00</th>\n",
       "      <td>27.00</td>\n",
       "      <td>25327.30</td>\n",
       "      <td>17914.69</td>\n",
       "      <td>20.00</td>\n",
       "      <td>15470.50</td>\n",
       "      <td>18900.00</td>\n",
       "      <td>28238.00</td>\n",
       "      <td>78000.00</td>\n",
       "    </tr>\n",
       "    <tr>\n",
       "      <th>3.00</th>\n",
       "      <td>2.00</td>\n",
       "      <td>45500.00</td>\n",
       "      <td>14849.24</td>\n",
       "      <td>35000.00</td>\n",
       "      <td>40250.00</td>\n",
       "      <td>45500.00</td>\n",
       "      <td>50750.00</td>\n",
       "      <td>56000.00</td>\n",
       "    </tr>\n",
       "    <tr>\n",
       "      <th rowspan=\"4\" valign=\"top\">Employee's car</th>\n",
       "      <th>0.00</th>\n",
       "      <td>121.00</td>\n",
       "      <td>4473.93</td>\n",
       "      <td>5473.43</td>\n",
       "      <td>1.00</td>\n",
       "      <td>150.00</td>\n",
       "      <td>3811.00</td>\n",
       "      <td>6300.00</td>\n",
       "      <td>37500.00</td>\n",
       "    </tr>\n",
       "    <tr>\n",
       "      <th>1.00</th>\n",
       "      <td>766.00</td>\n",
       "      <td>19295.28</td>\n",
       "      <td>9381.31</td>\n",
       "      <td>1.00</td>\n",
       "      <td>11267.75</td>\n",
       "      <td>21000.00</td>\n",
       "      <td>26957.50</td>\n",
       "      <td>80009.00</td>\n",
       "    </tr>\n",
       "    <tr>\n",
       "      <th>2.00</th>\n",
       "      <td>99.00</td>\n",
       "      <td>37926.51</td>\n",
       "      <td>21932.49</td>\n",
       "      <td>59.00</td>\n",
       "      <td>22138.00</td>\n",
       "      <td>37750.00</td>\n",
       "      <td>46500.00</td>\n",
       "      <td>112789.00</td>\n",
       "    </tr>\n",
       "    <tr>\n",
       "      <th>3.00</th>\n",
       "      <td>17.00</td>\n",
       "      <td>59123.65</td>\n",
       "      <td>28115.75</td>\n",
       "      <td>7790.00</td>\n",
       "      <td>40700.00</td>\n",
       "      <td>58962.00</td>\n",
       "      <td>84386.00</td>\n",
       "      <td>103000.00</td>\n",
       "    </tr>\n",
       "    <tr>\n",
       "      <th rowspan=\"2\" valign=\"top\">New</th>\n",
       "      <th>0.00</th>\n",
       "      <td>799.00</td>\n",
       "      <td>16.99</td>\n",
       "      <td>95.03</td>\n",
       "      <td>0.00</td>\n",
       "      <td>5.00</td>\n",
       "      <td>10.00</td>\n",
       "      <td>10.00</td>\n",
       "      <td>2500.00</td>\n",
       "    </tr>\n",
       "    <tr>\n",
       "      <th>1.00</th>\n",
       "      <td>2.00</td>\n",
       "      <td>53.50</td>\n",
       "      <td>65.76</td>\n",
       "      <td>7.00</td>\n",
       "      <td>30.25</td>\n",
       "      <td>53.50</td>\n",
       "      <td>76.75</td>\n",
       "      <td>100.00</td>\n",
       "    </tr>\n",
       "    <tr>\n",
       "      <th rowspan=\"4\" valign=\"top\">Pre-registered</th>\n",
       "      <th>0.00</th>\n",
       "      <td>1102.00</td>\n",
       "      <td>100.65</td>\n",
       "      <td>649.07</td>\n",
       "      <td>1.00</td>\n",
       "      <td>7.00</td>\n",
       "      <td>10.00</td>\n",
       "      <td>20.00</td>\n",
       "      <td>9998.00</td>\n",
       "    </tr>\n",
       "    <tr>\n",
       "      <th>1.00</th>\n",
       "      <td>134.00</td>\n",
       "      <td>435.51</td>\n",
       "      <td>1902.27</td>\n",
       "      <td>1.00</td>\n",
       "      <td>10.00</td>\n",
       "      <td>12.00</td>\n",
       "      <td>80.00</td>\n",
       "      <td>15378.00</td>\n",
       "    </tr>\n",
       "    <tr>\n",
       "      <th>2.00</th>\n",
       "      <td>9.00</td>\n",
       "      <td>1854.00</td>\n",
       "      <td>4129.20</td>\n",
       "      <td>1.00</td>\n",
       "      <td>1.00</td>\n",
       "      <td>99.00</td>\n",
       "      <td>153.00</td>\n",
       "      <td>12300.00</td>\n",
       "    </tr>\n",
       "    <tr>\n",
       "      <th>3.00</th>\n",
       "      <td>1.00</td>\n",
       "      <td>10.00</td>\n",
       "      <td>NaN</td>\n",
       "      <td>10.00</td>\n",
       "      <td>10.00</td>\n",
       "      <td>10.00</td>\n",
       "      <td>10.00</td>\n",
       "      <td>10.00</td>\n",
       "    </tr>\n",
       "    <tr>\n",
       "      <th rowspan=\"4\" valign=\"top\">Used</th>\n",
       "      <th>0.00</th>\n",
       "      <td>803.00</td>\n",
       "      <td>3712.17</td>\n",
       "      <td>8499.41</td>\n",
       "      <td>1.00</td>\n",
       "      <td>35.50</td>\n",
       "      <td>1233.00</td>\n",
       "      <td>5000.00</td>\n",
       "      <td>127022.00</td>\n",
       "    </tr>\n",
       "    <tr>\n",
       "      <th>1.00</th>\n",
       "      <td>3454.00</td>\n",
       "      <td>18807.50</td>\n",
       "      <td>10952.38</td>\n",
       "      <td>1.00</td>\n",
       "      <td>10800.00</td>\n",
       "      <td>18000.00</td>\n",
       "      <td>25096.25</td>\n",
       "      <td>136000.00</td>\n",
       "    </tr>\n",
       "    <tr>\n",
       "      <th>2.00</th>\n",
       "      <td>3171.00</td>\n",
       "      <td>41887.94</td>\n",
       "      <td>28563.95</td>\n",
       "      <td>5.00</td>\n",
       "      <td>21533.50</td>\n",
       "      <td>34732.00</td>\n",
       "      <td>55000.00</td>\n",
       "      <td>317000.00</td>\n",
       "    </tr>\n",
       "    <tr>\n",
       "      <th>3.00</th>\n",
       "      <td>3654.00</td>\n",
       "      <td>77566.42</td>\n",
       "      <td>39184.19</td>\n",
       "      <td>35.00</td>\n",
       "      <td>48103.75</td>\n",
       "      <td>73000.00</td>\n",
       "      <td>99987.50</td>\n",
       "      <td>291800.00</td>\n",
       "    </tr>\n",
       "  </tbody>\n",
       "</table>\n",
       "</div>"
      ],
      "text/plain": [
       "                      count     mean      std      min      25%      50%  \\\n",
       "type           age                                                         \n",
       "Demonstration  0.00  604.00  3373.87  3540.54     3.00   450.00  2900.00   \n",
       "               1.00  130.00  8294.20  7998.99     8.00  1601.00  5192.50   \n",
       "               2.00   27.00 25327.30 17914.69    20.00 15470.50 18900.00   \n",
       "               3.00    2.00 45500.00 14849.24 35000.00 40250.00 45500.00   \n",
       "Employee's car 0.00  121.00  4473.93  5473.43     1.00   150.00  3811.00   \n",
       "               1.00  766.00 19295.28  9381.31     1.00 11267.75 21000.00   \n",
       "               2.00   99.00 37926.51 21932.49    59.00 22138.00 37750.00   \n",
       "               3.00   17.00 59123.65 28115.75  7790.00 40700.00 58962.00   \n",
       "New            0.00  799.00    16.99    95.03     0.00     5.00    10.00   \n",
       "               1.00    2.00    53.50    65.76     7.00    30.25    53.50   \n",
       "Pre-registered 0.00 1102.00   100.65   649.07     1.00     7.00    10.00   \n",
       "               1.00  134.00   435.51  1902.27     1.00    10.00    12.00   \n",
       "               2.00    9.00  1854.00  4129.20     1.00     1.00    99.00   \n",
       "               3.00    1.00    10.00      NaN    10.00    10.00    10.00   \n",
       "Used           0.00  803.00  3712.17  8499.41     1.00    35.50  1233.00   \n",
       "               1.00 3454.00 18807.50 10952.38     1.00 10800.00 18000.00   \n",
       "               2.00 3171.00 41887.94 28563.95     5.00 21533.50 34732.00   \n",
       "               3.00 3654.00 77566.42 39184.19    35.00 48103.75 73000.00   \n",
       "\n",
       "                         75%       max  \n",
       "type           age                      \n",
       "Demonstration  0.00  5000.00  20000.00  \n",
       "               1.00 13737.50  38400.00  \n",
       "               2.00 28238.00  78000.00  \n",
       "               3.00 50750.00  56000.00  \n",
       "Employee's car 0.00  6300.00  37500.00  \n",
       "               1.00 26957.50  80009.00  \n",
       "               2.00 46500.00 112789.00  \n",
       "               3.00 84386.00 103000.00  \n",
       "New            0.00    10.00   2500.00  \n",
       "               1.00    76.75    100.00  \n",
       "Pre-registered 0.00    20.00   9998.00  \n",
       "               1.00    80.00  15378.00  \n",
       "               2.00   153.00  12300.00  \n",
       "               3.00    10.00     10.00  \n",
       "Used           0.00  5000.00 127022.00  \n",
       "               1.00 25096.25 136000.00  \n",
       "               2.00 55000.00 317000.00  \n",
       "               3.00 99987.50 291800.00  "
      ]
     },
     "execution_count": 29,
     "metadata": {},
     "output_type": "execute_result"
    }
   ],
   "source": [
    "df.groupby([\"type\",\"age\"]).km.describe()"
   ]
  },
  {
   "cell_type": "code",
   "execution_count": 30,
   "metadata": {},
   "outputs": [],
   "source": [
    "df[\"km\"]=  df.groupby([\"type\",\"age\"]).km.apply(lambda x: x.fillna(x.mean()))"
   ]
  },
  {
   "cell_type": "code",
   "execution_count": 31,
   "metadata": {},
   "outputs": [
    {
     "data": {
      "text/plain": [
       "count    15919.00\n",
       "mean     31967.47\n",
       "std      37069.15\n",
       "min          0.00\n",
       "25%       2000.00\n",
       "50%      20413.00\n",
       "75%      46898.50\n",
       "max     317000.00\n",
       "Name: km, dtype: float64"
      ]
     },
     "execution_count": 31,
     "metadata": {},
     "output_type": "execute_result"
    }
   ],
   "source": [
    "df.km.describe()"
   ]
  },
  {
   "cell_type": "code",
   "execution_count": 32,
   "metadata": {},
   "outputs": [
    {
     "data": {
      "text/plain": [
       "0"
      ]
     },
     "execution_count": 32,
     "metadata": {},
     "output_type": "execute_result"
    }
   ],
   "source": [
    "df.km.isnull().sum()"
   ]
  },
  {
   "cell_type": "markdown",
   "metadata": {},
   "source": [
    "## previous_owners"
   ]
  },
  {
   "cell_type": "code",
   "execution_count": 33,
   "metadata": {},
   "outputs": [
    {
     "name": "stdout",
     "output_type": "stream",
     "text": [
      "column name    :  previous_owners\n",
      "--------------------------------\n",
      "per_of_nulls   :  % 41.71\n",
      "num_of_nulls   :  6640\n",
      "num_of_uniques :  5\n",
      "--------------------------------\n",
      "1.00    8294\n",
      "NaN     6640\n",
      "2.00     778\n",
      "0.00     188\n",
      "3.00      17\n",
      "4.00       2\n",
      "Name: previous_owners, dtype: int64\n"
     ]
    }
   ],
   "source": [
    "look_before(\"previous_owners\")"
   ]
  },
  {
   "cell_type": "code",
   "execution_count": 34,
   "metadata": {},
   "outputs": [
    {
     "data": {
      "text/html": [
       "<div>\n",
       "<style scoped>\n",
       "    .dataframe tbody tr th:only-of-type {\n",
       "        vertical-align: middle;\n",
       "    }\n",
       "\n",
       "    .dataframe tbody tr th {\n",
       "        vertical-align: top;\n",
       "    }\n",
       "\n",
       "    .dataframe thead th {\n",
       "        text-align: right;\n",
       "    }\n",
       "</style>\n",
       "<table border=\"1\" class=\"dataframe\">\n",
       "  <thead>\n",
       "    <tr style=\"text-align: right;\">\n",
       "      <th></th>\n",
       "      <th>count</th>\n",
       "      <th>mean</th>\n",
       "      <th>std</th>\n",
       "      <th>min</th>\n",
       "      <th>25%</th>\n",
       "      <th>50%</th>\n",
       "      <th>75%</th>\n",
       "      <th>max</th>\n",
       "    </tr>\n",
       "    <tr>\n",
       "      <th>type</th>\n",
       "      <th></th>\n",
       "      <th></th>\n",
       "      <th></th>\n",
       "      <th></th>\n",
       "      <th></th>\n",
       "      <th></th>\n",
       "      <th></th>\n",
       "      <th></th>\n",
       "    </tr>\n",
       "  </thead>\n",
       "  <tbody>\n",
       "    <tr>\n",
       "      <th>Demonstration</th>\n",
       "      <td>514.00</td>\n",
       "      <td>1.01</td>\n",
       "      <td>0.11</td>\n",
       "      <td>1.00</td>\n",
       "      <td>1.00</td>\n",
       "      <td>1.00</td>\n",
       "      <td>1.00</td>\n",
       "      <td>2.00</td>\n",
       "    </tr>\n",
       "    <tr>\n",
       "      <th>Employee's car</th>\n",
       "      <td>655.00</td>\n",
       "      <td>1.01</td>\n",
       "      <td>0.15</td>\n",
       "      <td>0.00</td>\n",
       "      <td>1.00</td>\n",
       "      <td>1.00</td>\n",
       "      <td>1.00</td>\n",
       "      <td>2.00</td>\n",
       "    </tr>\n",
       "    <tr>\n",
       "      <th>New</th>\n",
       "      <td>179.00</td>\n",
       "      <td>0.08</td>\n",
       "      <td>0.28</td>\n",
       "      <td>0.00</td>\n",
       "      <td>0.00</td>\n",
       "      <td>0.00</td>\n",
       "      <td>0.00</td>\n",
       "      <td>1.00</td>\n",
       "    </tr>\n",
       "    <tr>\n",
       "      <th>Pre-registered</th>\n",
       "      <td>845.00</td>\n",
       "      <td>1.01</td>\n",
       "      <td>0.08</td>\n",
       "      <td>1.00</td>\n",
       "      <td>1.00</td>\n",
       "      <td>1.00</td>\n",
       "      <td>1.00</td>\n",
       "      <td>2.00</td>\n",
       "    </tr>\n",
       "    <tr>\n",
       "      <th>Used</th>\n",
       "      <td>7086.00</td>\n",
       "      <td>1.11</td>\n",
       "      <td>0.33</td>\n",
       "      <td>0.00</td>\n",
       "      <td>1.00</td>\n",
       "      <td>1.00</td>\n",
       "      <td>1.00</td>\n",
       "      <td>4.00</td>\n",
       "    </tr>\n",
       "  </tbody>\n",
       "</table>\n",
       "</div>"
      ],
      "text/plain": [
       "                 count  mean  std  min  25%  50%  75%  max\n",
       "type                                                      \n",
       "Demonstration   514.00  1.01 0.11 1.00 1.00 1.00 1.00 2.00\n",
       "Employee's car  655.00  1.01 0.15 0.00 1.00 1.00 1.00 2.00\n",
       "New             179.00  0.08 0.28 0.00 0.00 0.00 0.00 1.00\n",
       "Pre-registered  845.00  1.01 0.08 1.00 1.00 1.00 1.00 2.00\n",
       "Used           7086.00  1.11 0.33 0.00 1.00 1.00 1.00 4.00"
      ]
     },
     "execution_count": 34,
     "metadata": {},
     "output_type": "execute_result"
    }
   ],
   "source": [
    "df.groupby(\"type\").previous_owners.describe()"
   ]
  },
  {
   "cell_type": "code",
   "execution_count": 35,
   "metadata": {},
   "outputs": [
    {
     "data": {
      "text/plain": [
       "type\n",
       "Demonstration    1.00\n",
       "Employee's car   1.00\n",
       "New              0.00\n",
       "Pre-registered   1.00\n",
       "Used             1.00\n",
       "Name: previous_owners, dtype: float64"
      ]
     },
     "execution_count": 35,
     "metadata": {},
     "output_type": "execute_result"
    }
   ],
   "source": [
    "df.groupby(\"type\").previous_owners.apply(lambda x : x.mode()[0])"
   ]
  },
  {
   "cell_type": "code",
   "execution_count": 36,
   "metadata": {},
   "outputs": [
    {
     "data": {
      "text/plain": [
       "age\n",
       "0.00   1.00\n",
       "1.00   1.00\n",
       "2.00   1.00\n",
       "3.00   1.00\n",
       "Name: previous_owners, dtype: float64"
      ]
     },
     "execution_count": 36,
     "metadata": {},
     "output_type": "execute_result"
    }
   ],
   "source": [
    "df.groupby(\"age\").previous_owners.apply(lambda x : x.mode()[0])"
   ]
  },
  {
   "cell_type": "code",
   "execution_count": 37,
   "metadata": {},
   "outputs": [
    {
     "data": {
      "text/plain": [
       "type\n",
       "Demonstration    1.00\n",
       "Employee's car   1.00\n",
       "New              0.00\n",
       "Pre-registered   1.00\n",
       "Used             1.00\n",
       "Name: previous_owners, dtype: float64"
      ]
     },
     "execution_count": 37,
     "metadata": {},
     "output_type": "execute_result"
    }
   ],
   "source": [
    "df.groupby(\"type\").previous_owners.apply(lambda x : x.mode()[0])"
   ]
  },
  {
   "cell_type": "code",
   "execution_count": 38,
   "metadata": {},
   "outputs": [
    {
     "data": {
      "text/plain": [
       "type\n",
       "Demonstration      282\n",
       "Employee's car     356\n",
       "New               1471\n",
       "Pre-registered     519\n",
       "Used              4012\n",
       "Name: previous_owners, dtype: int64"
      ]
     },
     "execution_count": 38,
     "metadata": {},
     "output_type": "execute_result"
    }
   ],
   "source": [
    "df.groupby(\"type\").previous_owners.apply(lambda x: x.isnull().sum())"
   ]
  },
  {
   "cell_type": "code",
   "execution_count": 39,
   "metadata": {},
   "outputs": [
    {
     "data": {
      "text/plain": [
       "type            age \n",
       "Demonstration   0.00     242\n",
       "                1.00      34\n",
       "                2.00       5\n",
       "                3.00       1\n",
       "Employee's car  0.00      54\n",
       "                1.00     223\n",
       "                2.00      71\n",
       "                3.00       8\n",
       "New             0.00    1469\n",
       "                1.00       2\n",
       "Pre-registered  0.00     454\n",
       "                1.00      62\n",
       "                2.00       3\n",
       "                3.00       0\n",
       "Used            0.00     433\n",
       "                1.00    1153\n",
       "                2.00    1205\n",
       "                3.00    1221\n",
       "Name: previous_owners, dtype: int64"
      ]
     },
     "execution_count": 39,
     "metadata": {},
     "output_type": "execute_result"
    }
   ],
   "source": [
    "df.groupby([\"type\", \"age\"]).previous_owners.apply(lambda x: x.isnull().sum())"
   ]
  },
  {
   "cell_type": "code",
   "execution_count": 40,
   "metadata": {},
   "outputs": [
    {
     "data": {
      "text/html": [
       "<div>\n",
       "<style scoped>\n",
       "    .dataframe tbody tr th:only-of-type {\n",
       "        vertical-align: middle;\n",
       "    }\n",
       "\n",
       "    .dataframe tbody tr th {\n",
       "        vertical-align: top;\n",
       "    }\n",
       "\n",
       "    .dataframe thead th {\n",
       "        text-align: right;\n",
       "    }\n",
       "</style>\n",
       "<table border=\"1\" class=\"dataframe\">\n",
       "  <thead>\n",
       "    <tr style=\"text-align: right;\">\n",
       "      <th></th>\n",
       "      <th>count</th>\n",
       "      <th>mean</th>\n",
       "      <th>std</th>\n",
       "      <th>min</th>\n",
       "      <th>25%</th>\n",
       "      <th>50%</th>\n",
       "      <th>75%</th>\n",
       "      <th>max</th>\n",
       "    </tr>\n",
       "    <tr>\n",
       "      <th>previous_owners</th>\n",
       "      <th></th>\n",
       "      <th></th>\n",
       "      <th></th>\n",
       "      <th></th>\n",
       "      <th></th>\n",
       "      <th></th>\n",
       "      <th></th>\n",
       "      <th></th>\n",
       "    </tr>\n",
       "  </thead>\n",
       "  <tbody>\n",
       "    <tr>\n",
       "      <th>0.00</th>\n",
       "      <td>188.00</td>\n",
       "      <td>20773.60</td>\n",
       "      <td>7661.82</td>\n",
       "      <td>6299.00</td>\n",
       "      <td>14993.00</td>\n",
       "      <td>21725.00</td>\n",
       "      <td>24492.50</td>\n",
       "      <td>52120.00</td>\n",
       "    </tr>\n",
       "    <tr>\n",
       "      <th>1.00</th>\n",
       "      <td>8294.00</td>\n",
       "      <td>17215.68</td>\n",
       "      <td>6575.14</td>\n",
       "      <td>5250.00</td>\n",
       "      <td>12680.00</td>\n",
       "      <td>16275.00</td>\n",
       "      <td>20840.00</td>\n",
       "      <td>74600.00</td>\n",
       "    </tr>\n",
       "    <tr>\n",
       "      <th>2.00</th>\n",
       "      <td>778.00</td>\n",
       "      <td>14953.49</td>\n",
       "      <td>5208.81</td>\n",
       "      <td>6400.00</td>\n",
       "      <td>10950.00</td>\n",
       "      <td>14990.00</td>\n",
       "      <td>17537.50</td>\n",
       "      <td>35990.00</td>\n",
       "    </tr>\n",
       "    <tr>\n",
       "      <th>3.00</th>\n",
       "      <td>17.00</td>\n",
       "      <td>14676.24</td>\n",
       "      <td>5901.81</td>\n",
       "      <td>7500.00</td>\n",
       "      <td>10598.00</td>\n",
       "      <td>13100.00</td>\n",
       "      <td>17900.00</td>\n",
       "      <td>27000.00</td>\n",
       "    </tr>\n",
       "    <tr>\n",
       "      <th>4.00</th>\n",
       "      <td>2.00</td>\n",
       "      <td>20150.00</td>\n",
       "      <td>1626.35</td>\n",
       "      <td>19000.00</td>\n",
       "      <td>19575.00</td>\n",
       "      <td>20150.00</td>\n",
       "      <td>20725.00</td>\n",
       "      <td>21300.00</td>\n",
       "    </tr>\n",
       "  </tbody>\n",
       "</table>\n",
       "</div>"
      ],
      "text/plain": [
       "                  count     mean     std      min      25%      50%      75%  \\\n",
       "previous_owners                                                                \n",
       "0.00             188.00 20773.60 7661.82  6299.00 14993.00 21725.00 24492.50   \n",
       "1.00            8294.00 17215.68 6575.14  5250.00 12680.00 16275.00 20840.00   \n",
       "2.00             778.00 14953.49 5208.81  6400.00 10950.00 14990.00 17537.50   \n",
       "3.00              17.00 14676.24 5901.81  7500.00 10598.00 13100.00 17900.00   \n",
       "4.00               2.00 20150.00 1626.35 19000.00 19575.00 20150.00 20725.00   \n",
       "\n",
       "                     max  \n",
       "previous_owners           \n",
       "0.00            52120.00  \n",
       "1.00            74600.00  \n",
       "2.00            35990.00  \n",
       "3.00            27000.00  \n",
       "4.00            21300.00  "
      ]
     },
     "execution_count": 40,
     "metadata": {},
     "output_type": "execute_result"
    }
   ],
   "source": [
    "df.groupby(\"previous_owners\").price.describe()"
   ]
  },
  {
   "cell_type": "code",
   "execution_count": 41,
   "metadata": {},
   "outputs": [
    {
     "data": {
      "text/plain": [
       "0       2.00\n",
       "1       1.00\n",
       "2       1.00\n",
       "3       1.00\n",
       "4       1.00\n",
       "        ... \n",
       "15914   0.00\n",
       "15915   1.00\n",
       "15916   1.00\n",
       "15917   1.00\n",
       "15918   1.00\n",
       "Name: previous_owners, Length: 15919, dtype: float64"
      ]
     },
     "execution_count": 41,
     "metadata": {},
     "output_type": "execute_result"
    }
   ],
   "source": [
    "df[\"previous_owners\"] = df.groupby(\"type\").previous_owners.apply(lambda x : x.fillna(x.mode()[0]))\n",
    "df[\"previous_owners\"] "
   ]
  },
  {
   "cell_type": "code",
   "execution_count": 42,
   "metadata": {},
   "outputs": [
    {
     "data": {
      "text/plain": [
       "0"
      ]
     },
     "execution_count": 42,
     "metadata": {},
     "output_type": "execute_result"
    }
   ],
   "source": [
    "df[\"previous_owners\"].isnull().sum()"
   ]
  },
  {
   "cell_type": "markdown",
   "metadata": {},
   "source": [
    "### inspection_new"
   ]
  },
  {
   "cell_type": "code",
   "execution_count": 43,
   "metadata": {},
   "outputs": [
    {
     "name": "stdout",
     "output_type": "stream",
     "text": [
      "column name    :  inspection_new\n",
      "--------------------------------\n",
      "per_of_nulls   :  % 75.3\n",
      "num_of_nulls   :  11987\n",
      "num_of_uniques :  1\n",
      "--------------------------------\n",
      "NaN    11987\n",
      "Yes     3932\n",
      "Name: inspection_new, dtype: int64\n"
     ]
    }
   ],
   "source": [
    "look_before(\"inspection_new\")"
   ]
  },
  {
   "cell_type": "code",
   "execution_count": 44,
   "metadata": {},
   "outputs": [],
   "source": [
    "df[\"inspection_new\"].fillna(\"-\", inplace=True)"
   ]
  },
  {
   "cell_type": "code",
   "execution_count": 45,
   "metadata": {},
   "outputs": [
    {
     "data": {
      "text/plain": [
       "-      11987\n",
       "Yes     3932\n",
       "Name: inspection_new, dtype: int64"
      ]
     },
     "execution_count": 45,
     "metadata": {},
     "output_type": "execute_result"
    }
   ],
   "source": [
    "df[\"inspection_new\"].value_counts(dropna=False)"
   ]
  },
  {
   "cell_type": "code",
   "execution_count": 46,
   "metadata": {},
   "outputs": [
    {
     "data": {
      "text/html": [
       "<div>\n",
       "<style scoped>\n",
       "    .dataframe tbody tr th:only-of-type {\n",
       "        vertical-align: middle;\n",
       "    }\n",
       "\n",
       "    .dataframe tbody tr th {\n",
       "        vertical-align: top;\n",
       "    }\n",
       "\n",
       "    .dataframe thead th {\n",
       "        text-align: right;\n",
       "    }\n",
       "</style>\n",
       "<table border=\"1\" class=\"dataframe\">\n",
       "  <thead>\n",
       "    <tr style=\"text-align: right;\">\n",
       "      <th></th>\n",
       "      <th></th>\n",
       "      <th></th>\n",
       "      <th></th>\n",
       "      <th>count</th>\n",
       "      <th>mean</th>\n",
       "      <th>std</th>\n",
       "      <th>min</th>\n",
       "      <th>25%</th>\n",
       "      <th>50%</th>\n",
       "      <th>75%</th>\n",
       "      <th>max</th>\n",
       "    </tr>\n",
       "    <tr>\n",
       "      <th>make_model</th>\n",
       "      <th>body_type</th>\n",
       "      <th>age</th>\n",
       "      <th>inspection_new</th>\n",
       "      <th></th>\n",
       "      <th></th>\n",
       "      <th></th>\n",
       "      <th></th>\n",
       "      <th></th>\n",
       "      <th></th>\n",
       "      <th></th>\n",
       "      <th></th>\n",
       "    </tr>\n",
       "  </thead>\n",
       "  <tbody>\n",
       "    <tr>\n",
       "      <th rowspan=\"5\" valign=\"top\">Audi A1</th>\n",
       "      <th rowspan=\"5\" valign=\"top\">Compact</th>\n",
       "      <th rowspan=\"2\" valign=\"top\">0.00</th>\n",
       "      <th>-</th>\n",
       "      <td>243.00</td>\n",
       "      <td>24206.37</td>\n",
       "      <td>3530.09</td>\n",
       "      <td>16220.00</td>\n",
       "      <td>21435.00</td>\n",
       "      <td>23480.00</td>\n",
       "      <td>27390.00</td>\n",
       "      <td>31990.00</td>\n",
       "    </tr>\n",
       "    <tr>\n",
       "      <th>Yes</th>\n",
       "      <td>134.00</td>\n",
       "      <td>22505.37</td>\n",
       "      <td>3094.13</td>\n",
       "      <td>14900.00</td>\n",
       "      <td>20388.00</td>\n",
       "      <td>22400.00</td>\n",
       "      <td>22942.25</td>\n",
       "      <td>29197.00</td>\n",
       "    </tr>\n",
       "    <tr>\n",
       "      <th rowspan=\"2\" valign=\"top\">1.00</th>\n",
       "      <th>-</th>\n",
       "      <td>150.00</td>\n",
       "      <td>19065.31</td>\n",
       "      <td>2836.07</td>\n",
       "      <td>14500.00</td>\n",
       "      <td>16490.00</td>\n",
       "      <td>18800.00</td>\n",
       "      <td>21949.75</td>\n",
       "      <td>23777.00</td>\n",
       "    </tr>\n",
       "    <tr>\n",
       "      <th>Yes</th>\n",
       "      <td>117.00</td>\n",
       "      <td>18002.93</td>\n",
       "      <td>2303.34</td>\n",
       "      <td>13980.00</td>\n",
       "      <td>16445.00</td>\n",
       "      <td>16900.00</td>\n",
       "      <td>19988.00</td>\n",
       "      <td>23829.00</td>\n",
       "    </tr>\n",
       "    <tr>\n",
       "      <th>2.00</th>\n",
       "      <th>-</th>\n",
       "      <td>115.00</td>\n",
       "      <td>16425.67</td>\n",
       "      <td>1985.79</td>\n",
       "      <td>10999.00</td>\n",
       "      <td>15450.00</td>\n",
       "      <td>15850.00</td>\n",
       "      <td>16890.00</td>\n",
       "      <td>22150.00</td>\n",
       "    </tr>\n",
       "    <tr>\n",
       "      <th>...</th>\n",
       "      <th>...</th>\n",
       "      <th>...</th>\n",
       "      <th>...</th>\n",
       "      <td>...</td>\n",
       "      <td>...</td>\n",
       "      <td>...</td>\n",
       "      <td>...</td>\n",
       "      <td>...</td>\n",
       "      <td>...</td>\n",
       "      <td>...</td>\n",
       "      <td>...</td>\n",
       "    </tr>\n",
       "    <tr>\n",
       "      <th rowspan=\"5\" valign=\"top\">Renault Espace</th>\n",
       "      <th rowspan=\"5\" valign=\"top\">Van</th>\n",
       "      <th>1.00</th>\n",
       "      <th>Yes</th>\n",
       "      <td>33.00</td>\n",
       "      <td>33000.88</td>\n",
       "      <td>3414.04</td>\n",
       "      <td>29385.00</td>\n",
       "      <td>29990.00</td>\n",
       "      <td>31899.00</td>\n",
       "      <td>35300.00</td>\n",
       "      <td>38990.00</td>\n",
       "    </tr>\n",
       "    <tr>\n",
       "      <th rowspan=\"2\" valign=\"top\">2.00</th>\n",
       "      <th>-</th>\n",
       "      <td>147.00</td>\n",
       "      <td>26893.53</td>\n",
       "      <td>3626.25</td>\n",
       "      <td>14600.00</td>\n",
       "      <td>24990.00</td>\n",
       "      <td>25500.00</td>\n",
       "      <td>28982.50</td>\n",
       "      <td>35930.00</td>\n",
       "    </tr>\n",
       "    <tr>\n",
       "      <th>Yes</th>\n",
       "      <td>3.00</td>\n",
       "      <td>32059.67</td>\n",
       "      <td>8523.29</td>\n",
       "      <td>26990.00</td>\n",
       "      <td>27139.50</td>\n",
       "      <td>27289.00</td>\n",
       "      <td>34594.50</td>\n",
       "      <td>41900.00</td>\n",
       "    </tr>\n",
       "    <tr>\n",
       "      <th rowspan=\"2\" valign=\"top\">3.00</th>\n",
       "      <th>-</th>\n",
       "      <td>173.00</td>\n",
       "      <td>22125.37</td>\n",
       "      <td>3161.76</td>\n",
       "      <td>12990.00</td>\n",
       "      <td>19900.00</td>\n",
       "      <td>22222.00</td>\n",
       "      <td>24500.00</td>\n",
       "      <td>27900.00</td>\n",
       "    </tr>\n",
       "    <tr>\n",
       "      <th>Yes</th>\n",
       "      <td>30.00</td>\n",
       "      <td>21790.10</td>\n",
       "      <td>3690.17</td>\n",
       "      <td>12614.00</td>\n",
       "      <td>19085.00</td>\n",
       "      <td>21982.50</td>\n",
       "      <td>24825.00</td>\n",
       "      <td>26970.00</td>\n",
       "    </tr>\n",
       "  </tbody>\n",
       "</table>\n",
       "<p>239 rows × 8 columns</p>\n",
       "</div>"
      ],
      "text/plain": [
       "                                              count     mean     std      min  \\\n",
       "make_model     body_type age  inspection_new                                    \n",
       "Audi A1        Compact   0.00 -              243.00 24206.37 3530.09 16220.00   \n",
       "                              Yes            134.00 22505.37 3094.13 14900.00   \n",
       "                         1.00 -              150.00 19065.31 2836.07 14500.00   \n",
       "                              Yes            117.00 18002.93 2303.34 13980.00   \n",
       "                         2.00 -              115.00 16425.67 1985.79 10999.00   \n",
       "...                                             ...      ...     ...      ...   \n",
       "Renault Espace Van       1.00 Yes             33.00 33000.88 3414.04 29385.00   \n",
       "                         2.00 -              147.00 26893.53 3626.25 14600.00   \n",
       "                              Yes              3.00 32059.67 8523.29 26990.00   \n",
       "                         3.00 -              173.00 22125.37 3161.76 12990.00   \n",
       "                              Yes             30.00 21790.10 3690.17 12614.00   \n",
       "\n",
       "                                                  25%      50%      75%  \\\n",
       "make_model     body_type age  inspection_new                              \n",
       "Audi A1        Compact   0.00 -              21435.00 23480.00 27390.00   \n",
       "                              Yes            20388.00 22400.00 22942.25   \n",
       "                         1.00 -              16490.00 18800.00 21949.75   \n",
       "                              Yes            16445.00 16900.00 19988.00   \n",
       "                         2.00 -              15450.00 15850.00 16890.00   \n",
       "...                                               ...      ...      ...   \n",
       "Renault Espace Van       1.00 Yes            29990.00 31899.00 35300.00   \n",
       "                         2.00 -              24990.00 25500.00 28982.50   \n",
       "                              Yes            27139.50 27289.00 34594.50   \n",
       "                         3.00 -              19900.00 22222.00 24500.00   \n",
       "                              Yes            19085.00 21982.50 24825.00   \n",
       "\n",
       "                                                  max  \n",
       "make_model     body_type age  inspection_new           \n",
       "Audi A1        Compact   0.00 -              31990.00  \n",
       "                              Yes            29197.00  \n",
       "                         1.00 -              23777.00  \n",
       "                              Yes            23829.00  \n",
       "                         2.00 -              22150.00  \n",
       "...                                               ...  \n",
       "Renault Espace Van       1.00 Yes            38990.00  \n",
       "                         2.00 -              35930.00  \n",
       "                              Yes            41900.00  \n",
       "                         3.00 -              27900.00  \n",
       "                              Yes            26970.00  \n",
       "\n",
       "[239 rows x 8 columns]"
      ]
     },
     "execution_count": 46,
     "metadata": {},
     "output_type": "execute_result"
    }
   ],
   "source": [
    "df.groupby([\"make_model\", \"body_type\", \"age\", \"inspection_new\"]).price.describe()"
   ]
  },
  {
   "cell_type": "code",
   "execution_count": 47,
   "metadata": {},
   "outputs": [],
   "source": [
    "df[\"inspection_new\"].replace(\"-\", \"No\", inplace=True)"
   ]
  },
  {
   "cell_type": "code",
   "execution_count": 48,
   "metadata": {},
   "outputs": [
    {
     "data": {
      "text/plain": [
       "No     11987\n",
       "Yes     3932\n",
       "Name: inspection_new, dtype: int64"
      ]
     },
     "execution_count": 48,
     "metadata": {},
     "output_type": "execute_result"
    }
   ],
   "source": [
    "df[\"inspection_new\"].value_counts(dropna=False)"
   ]
  },
  {
   "cell_type": "code",
   "execution_count": 49,
   "metadata": {},
   "outputs": [],
   "source": [
    "df[\"inspection_new\"].replace([\"Yes\", \"No\"], [1,0], inplace = True)"
   ]
  },
  {
   "cell_type": "code",
   "execution_count": 50,
   "metadata": {},
   "outputs": [
    {
     "data": {
      "text/plain": [
       "0    11987\n",
       "1     3932\n",
       "Name: inspection_new, dtype: int64"
      ]
     },
     "execution_count": 50,
     "metadata": {},
     "output_type": "execute_result"
    }
   ],
   "source": [
    "df[\"inspection_new\"].value_counts(dropna=False)"
   ]
  },
  {
   "cell_type": "code",
   "execution_count": 51,
   "metadata": {},
   "outputs": [
    {
     "data": {
      "text/plain": [
       "0"
      ]
     },
     "execution_count": 51,
     "metadata": {},
     "output_type": "execute_result"
    }
   ],
   "source": [
    "df.inspection_new.isnull().sum()"
   ]
  },
  {
   "cell_type": "markdown",
   "metadata": {},
   "source": [
    "### upholstery_type"
   ]
  },
  {
   "cell_type": "code",
   "execution_count": 52,
   "metadata": {},
   "outputs": [
    {
     "name": "stdout",
     "output_type": "stream",
     "text": [
      "column name    :  upholstery_type\n",
      "--------------------------------\n",
      "per_of_nulls   :  % 30.6\n",
      "num_of_nulls   :  4871\n",
      "num_of_uniques :  5\n",
      "--------------------------------\n",
      "Cloth           8423\n",
      "NaN             4871\n",
      "Part leather    1499\n",
      "Full leather    1009\n",
      "Velour            60\n",
      "alcantara         57\n",
      "Name: upholstery_type, dtype: int64\n"
     ]
    }
   ],
   "source": [
    "look_before(\"upholstery_type\")"
   ]
  },
  {
   "cell_type": "code",
   "execution_count": 53,
   "metadata": {},
   "outputs": [],
   "source": [
    "df[\"upholstery_type\"].replace([\"Velour\", \"alcantara\", \"Part leather\", \"Full leather\"], [\"Cloth\", \"Part/Full Leather\", \"Part/Full Leather\", \"Part/Full Leather\"], inplace=True)"
   ]
  },
  {
   "cell_type": "code",
   "execution_count": 54,
   "metadata": {},
   "outputs": [
    {
     "data": {
      "text/plain": [
       "Cloth                8483\n",
       "NaN                  4871\n",
       "Part/Full Leather    2565\n",
       "Name: upholstery_type, dtype: int64"
      ]
     },
     "execution_count": 54,
     "metadata": {},
     "output_type": "execute_result"
    }
   ],
   "source": [
    "df[\"upholstery_type\"].value_counts(dropna=False)"
   ]
  },
  {
   "cell_type": "code",
   "execution_count": 55,
   "metadata": {},
   "outputs": [],
   "source": [
    "def fill(df, group_col1, group_col2, col_name, method): # method can be \"mode\" or \"median\" or \"ffill\"\n",
    "    if method == \"mode\":\n",
    "        for group1 in list(df[group_col1].unique()):\n",
    "            for group2 in list(df[group_col2].unique()):\n",
    "                cond1 = df[group_col1]==group1\n",
    "                cond2 = (df[group_col1]==group1) & (df[group_col2]==group2)\n",
    "                mode1 = list(df[cond1][col_name].mode())\n",
    "                mode2 = list(df[cond2][col_name].mode())\n",
    "                if mode2 != []:\n",
    "                    df.loc[cond2, col_name] = df.loc[cond2, col_name].fillna(df[cond2][col_name].mode()[0])\n",
    "                elif mode1 != []:\n",
    "                    df.loc[cond2, col_name] = df.loc[cond2, col_name].fillna(df[cond1][col_name].mode()[0])\n",
    "                else:\n",
    "                    df.loc[cond2, col_name] = df.loc[cond2, col_name].fillna(df[col_name].mode()[0])\n",
    "                \n",
    "    elif method == \"median\":\n",
    "        for group1 in list(df[group_col1].unique()):\n",
    "            for group2 in list(df[group_col2].unique()):\n",
    "                cond1 = df[group_col1]==group1\n",
    "                cond2 = (df[group_col1]==group1) & (df[group_col2]==group2)\n",
    "                df.loc[cond2, col_name] = df.loc[cond2, col_name].fillna(df[cond2][col_name].median()).fillna(df[cond1][col_name].median()).fillna(df[col_name].median())\n",
    "                \n",
    "    elif method == \"ffill\":           \n",
    "        for group1 in list(df[group_col1].unique()):\n",
    "            for group2 in list(df[group_col2].unique()):\n",
    "                cond2 = (df[group_col1]==group1) & (df[group_col2]==group2)\n",
    "                df.loc[cond2, col_name] = df.loc[cond2, col_name].fillna(method=\"ffill\").fillna(method=\"bfill\")\n",
    "                \n",
    "        for group1 in list(df[group_col1].unique()):\n",
    "            cond1 = df[group_col1]==group1\n",
    "            df.loc[cond1, col_name] = df.loc[cond1, col_name].fillna(method=\"ffill\").fillna(method=\"bfill\")            \n",
    "           \n",
    "        df[col_name] = df[col_name].fillna(method=\"ffill\").fillna(method=\"bfill\")\n",
    "    \n",
    "    print(\"Number of NaN : \",df[col_name].isnull().sum())\n",
    "    print(\"------------------\")\n",
    "    print(df[col_name].value_counts(dropna=False))"
   ]
  },
  {
   "cell_type": "code",
   "execution_count": 56,
   "metadata": {},
   "outputs": [
    {
     "name": "stdout",
     "output_type": "stream",
     "text": [
      "Number of NaN :  0\n",
      "------------------\n",
      "Cloth                12261\n",
      "Part/Full Leather     3658\n",
      "Name: upholstery_type, dtype: int64\n"
     ]
    }
   ],
   "source": [
    "fill(df, \"make_model\", \"body_type\", \"upholstery_type\", \"ffill\")"
   ]
  },
  {
   "cell_type": "markdown",
   "metadata": {},
   "source": [
    "### upholstery_color"
   ]
  },
  {
   "cell_type": "code",
   "execution_count": 57,
   "metadata": {},
   "outputs": [
    {
     "name": "stdout",
     "output_type": "stream",
     "text": [
      "column name    :  upholstery_color\n",
      "--------------------------------\n",
      "per_of_nulls   :  % 31.9\n",
      "num_of_nulls   :  5078\n",
      "num_of_uniques :  10\n",
      "--------------------------------\n",
      "Black     8201\n",
      "NaN       5078\n",
      "Grey      1376\n",
      "Other      960\n",
      "Brown      207\n",
      "Beige       54\n",
      "Blue        16\n",
      "White       13\n",
      "Red          9\n",
      "Yellow       4\n",
      "Orange       1\n",
      "Name: upholstery_color, dtype: int64\n"
     ]
    }
   ],
   "source": [
    "look_before(\"upholstery_color\")"
   ]
  },
  {
   "cell_type": "code",
   "execution_count": 58,
   "metadata": {},
   "outputs": [],
   "source": [
    "df.drop(\"upholstery_color\", axis=1, inplace=True)"
   ]
  },
  {
   "cell_type": "markdown",
   "metadata": {},
   "source": [
    "### body_color"
   ]
  },
  {
   "cell_type": "code",
   "execution_count": 59,
   "metadata": {},
   "outputs": [
    {
     "name": "stdout",
     "output_type": "stream",
     "text": [
      "column name    :  body_color\n",
      "--------------------------------\n",
      "per_of_nulls   :  % 3.75\n",
      "num_of_nulls   :  597\n",
      "num_of_uniques :  14\n",
      "--------------------------------\n",
      "Black     3745\n",
      "Grey      3505\n",
      "White     3406\n",
      "Silver    1647\n",
      "Blue      1431\n",
      "Red        957\n",
      "NaN        597\n",
      "Brown      289\n",
      "Green      154\n",
      "Beige      108\n",
      "Yellow      51\n",
      "Violet      18\n",
      "Bronze       6\n",
      "Orange       3\n",
      "Gold         2\n",
      "Name: body_color, dtype: int64\n"
     ]
    }
   ],
   "source": [
    "look_before(\"body_color\")"
   ]
  },
  {
   "cell_type": "code",
   "execution_count": 60,
   "metadata": {},
   "outputs": [
    {
     "data": {
      "text/html": [
       "<div>\n",
       "<style scoped>\n",
       "    .dataframe tbody tr th:only-of-type {\n",
       "        vertical-align: middle;\n",
       "    }\n",
       "\n",
       "    .dataframe tbody tr th {\n",
       "        vertical-align: top;\n",
       "    }\n",
       "\n",
       "    .dataframe thead th {\n",
       "        text-align: right;\n",
       "    }\n",
       "</style>\n",
       "<table border=\"1\" class=\"dataframe\">\n",
       "  <thead>\n",
       "    <tr style=\"text-align: right;\">\n",
       "      <th></th>\n",
       "      <th></th>\n",
       "      <th></th>\n",
       "      <th>count</th>\n",
       "      <th>mean</th>\n",
       "      <th>std</th>\n",
       "      <th>min</th>\n",
       "      <th>25%</th>\n",
       "      <th>50%</th>\n",
       "      <th>75%</th>\n",
       "      <th>max</th>\n",
       "    </tr>\n",
       "    <tr>\n",
       "      <th>make_model</th>\n",
       "      <th>body_type</th>\n",
       "      <th>body_color</th>\n",
       "      <th></th>\n",
       "      <th></th>\n",
       "      <th></th>\n",
       "      <th></th>\n",
       "      <th></th>\n",
       "      <th></th>\n",
       "      <th></th>\n",
       "      <th></th>\n",
       "    </tr>\n",
       "  </thead>\n",
       "  <tbody>\n",
       "    <tr>\n",
       "      <th rowspan=\"5\" valign=\"top\">Audi A1</th>\n",
       "      <th rowspan=\"5\" valign=\"top\">Compact</th>\n",
       "      <th>Beige</th>\n",
       "      <td>6.00</td>\n",
       "      <td>20556.50</td>\n",
       "      <td>2475.51</td>\n",
       "      <td>16240.00</td>\n",
       "      <td>19766.75</td>\n",
       "      <td>21420.00</td>\n",
       "      <td>21700.00</td>\n",
       "      <td>23250.00</td>\n",
       "    </tr>\n",
       "    <tr>\n",
       "      <th>Black</th>\n",
       "      <td>320.00</td>\n",
       "      <td>18196.28</td>\n",
       "      <td>4206.97</td>\n",
       "      <td>9950.00</td>\n",
       "      <td>14990.00</td>\n",
       "      <td>16890.00</td>\n",
       "      <td>21390.00</td>\n",
       "      <td>28997.00</td>\n",
       "    </tr>\n",
       "    <tr>\n",
       "      <th>Blue</th>\n",
       "      <td>96.00</td>\n",
       "      <td>19145.41</td>\n",
       "      <td>4541.86</td>\n",
       "      <td>11444.00</td>\n",
       "      <td>15870.00</td>\n",
       "      <td>16925.00</td>\n",
       "      <td>22226.00</td>\n",
       "      <td>28980.00</td>\n",
       "    </tr>\n",
       "    <tr>\n",
       "      <th>Brown</th>\n",
       "      <td>9.00</td>\n",
       "      <td>16982.00</td>\n",
       "      <td>2964.39</td>\n",
       "      <td>11445.00</td>\n",
       "      <td>15993.00</td>\n",
       "      <td>16820.00</td>\n",
       "      <td>18850.00</td>\n",
       "      <td>20750.00</td>\n",
       "    </tr>\n",
       "    <tr>\n",
       "      <th>Green</th>\n",
       "      <td>17.00</td>\n",
       "      <td>23558.12</td>\n",
       "      <td>3849.70</td>\n",
       "      <td>19388.00</td>\n",
       "      <td>19388.00</td>\n",
       "      <td>22490.00</td>\n",
       "      <td>28240.00</td>\n",
       "      <td>28400.00</td>\n",
       "    </tr>\n",
       "    <tr>\n",
       "      <th>...</th>\n",
       "      <th>...</th>\n",
       "      <th>...</th>\n",
       "      <td>...</td>\n",
       "      <td>...</td>\n",
       "      <td>...</td>\n",
       "      <td>...</td>\n",
       "      <td>...</td>\n",
       "      <td>...</td>\n",
       "      <td>...</td>\n",
       "      <td>...</td>\n",
       "    </tr>\n",
       "    <tr>\n",
       "      <th rowspan=\"5\" valign=\"top\">Renault Espace</th>\n",
       "      <th rowspan=\"5\" valign=\"top\">Van</th>\n",
       "      <th>Brown</th>\n",
       "      <td>27.00</td>\n",
       "      <td>25718.26</td>\n",
       "      <td>9649.96</td>\n",
       "      <td>12614.00</td>\n",
       "      <td>19225.00</td>\n",
       "      <td>22990.00</td>\n",
       "      <td>27187.50</td>\n",
       "      <td>47990.00</td>\n",
       "    </tr>\n",
       "    <tr>\n",
       "      <th>Grey</th>\n",
       "      <td>299.00</td>\n",
       "      <td>30307.20</td>\n",
       "      <td>8619.53</td>\n",
       "      <td>15500.00</td>\n",
       "      <td>24875.00</td>\n",
       "      <td>28140.00</td>\n",
       "      <td>34649.00</td>\n",
       "      <td>64332.00</td>\n",
       "    </tr>\n",
       "    <tr>\n",
       "      <th>Silver</th>\n",
       "      <td>36.00</td>\n",
       "      <td>27373.00</td>\n",
       "      <td>4809.68</td>\n",
       "      <td>12990.00</td>\n",
       "      <td>24560.00</td>\n",
       "      <td>28500.00</td>\n",
       "      <td>29900.00</td>\n",
       "      <td>35100.00</td>\n",
       "    </tr>\n",
       "    <tr>\n",
       "      <th>Violet</th>\n",
       "      <td>11.00</td>\n",
       "      <td>24434.27</td>\n",
       "      <td>4603.89</td>\n",
       "      <td>19900.00</td>\n",
       "      <td>20499.50</td>\n",
       "      <td>23900.00</td>\n",
       "      <td>26299.00</td>\n",
       "      <td>34990.00</td>\n",
       "    </tr>\n",
       "    <tr>\n",
       "      <th>White</th>\n",
       "      <td>173.00</td>\n",
       "      <td>32830.31</td>\n",
       "      <td>7611.78</td>\n",
       "      <td>12990.00</td>\n",
       "      <td>28975.00</td>\n",
       "      <td>31975.00</td>\n",
       "      <td>35975.00</td>\n",
       "      <td>64298.00</td>\n",
       "    </tr>\n",
       "  </tbody>\n",
       "</table>\n",
       "<p>261 rows × 8 columns</p>\n",
       "</div>"
      ],
      "text/plain": [
       "                                     count     mean     std      min      25%  \\\n",
       "make_model     body_type body_color                                             \n",
       "Audi A1        Compact   Beige        6.00 20556.50 2475.51 16240.00 19766.75   \n",
       "                         Black      320.00 18196.28 4206.97  9950.00 14990.00   \n",
       "                         Blue        96.00 19145.41 4541.86 11444.00 15870.00   \n",
       "                         Brown        9.00 16982.00 2964.39 11445.00 15993.00   \n",
       "                         Green       17.00 23558.12 3849.70 19388.00 19388.00   \n",
       "...                                    ...      ...     ...      ...      ...   \n",
       "Renault Espace Van       Brown       27.00 25718.26 9649.96 12614.00 19225.00   \n",
       "                         Grey       299.00 30307.20 8619.53 15500.00 24875.00   \n",
       "                         Silver      36.00 27373.00 4809.68 12990.00 24560.00   \n",
       "                         Violet      11.00 24434.27 4603.89 19900.00 20499.50   \n",
       "                         White      173.00 32830.31 7611.78 12990.00 28975.00   \n",
       "\n",
       "                                         50%      75%      max  \n",
       "make_model     body_type body_color                             \n",
       "Audi A1        Compact   Beige      21420.00 21700.00 23250.00  \n",
       "                         Black      16890.00 21390.00 28997.00  \n",
       "                         Blue       16925.00 22226.00 28980.00  \n",
       "                         Brown      16820.00 18850.00 20750.00  \n",
       "                         Green      22490.00 28240.00 28400.00  \n",
       "...                                      ...      ...      ...  \n",
       "Renault Espace Van       Brown      22990.00 27187.50 47990.00  \n",
       "                         Grey       28140.00 34649.00 64332.00  \n",
       "                         Silver     28500.00 29900.00 35100.00  \n",
       "                         Violet     23900.00 26299.00 34990.00  \n",
       "                         White      31975.00 35975.00 64298.00  \n",
       "\n",
       "[261 rows x 8 columns]"
      ]
     },
     "execution_count": 60,
     "metadata": {},
     "output_type": "execute_result"
    }
   ],
   "source": [
    "df.groupby([\"make_model\", \"body_type\", 'body_color']).price.describe()"
   ]
  },
  {
   "cell_type": "code",
   "execution_count": 61,
   "metadata": {},
   "outputs": [
    {
     "name": "stdout",
     "output_type": "stream",
     "text": [
      "Number of NaN :  0\n",
      "------------------\n",
      "Black     3941\n",
      "Grey      3839\n",
      "White     3469\n",
      "Silver    1647\n",
      "Blue      1431\n",
      "Red        957\n",
      "Brown      289\n",
      "Green      158\n",
      "Beige      108\n",
      "Yellow      51\n",
      "Violet      18\n",
      "Bronze       6\n",
      "Orange       3\n",
      "Gold         2\n",
      "Name: body_color, dtype: int64\n"
     ]
    }
   ],
   "source": [
    "fill(df, \"make_model\", \"body_type\", \"body_color\", \"mode\")"
   ]
  },
  {
   "cell_type": "markdown",
   "metadata": {},
   "source": [
    "### paint_type"
   ]
  },
  {
   "cell_type": "code",
   "execution_count": 62,
   "metadata": {},
   "outputs": [
    {
     "name": "stdout",
     "output_type": "stream",
     "text": [
      "column name    :  paint_type\n",
      "--------------------------------\n",
      "per_of_nulls   :  % 36.26\n",
      "num_of_nulls   :  5772\n",
      "num_of_uniques :  3\n",
      "--------------------------------\n",
      "Metallic       9794\n",
      "NaN            5772\n",
      "Uni/basic       347\n",
      "Perl effect       6\n",
      "Name: paint_type, dtype: int64\n"
     ]
    }
   ],
   "source": [
    "look_before(\"paint_type\")"
   ]
  },
  {
   "cell_type": "code",
   "execution_count": 63,
   "metadata": {},
   "outputs": [
    {
     "data": {
      "text/html": [
       "<div>\n",
       "<style scoped>\n",
       "    .dataframe tbody tr th:only-of-type {\n",
       "        vertical-align: middle;\n",
       "    }\n",
       "\n",
       "    .dataframe tbody tr th {\n",
       "        vertical-align: top;\n",
       "    }\n",
       "\n",
       "    .dataframe thead th {\n",
       "        text-align: right;\n",
       "    }\n",
       "</style>\n",
       "<table border=\"1\" class=\"dataframe\">\n",
       "  <thead>\n",
       "    <tr style=\"text-align: right;\">\n",
       "      <th></th>\n",
       "      <th></th>\n",
       "      <th></th>\n",
       "      <th></th>\n",
       "      <th>count</th>\n",
       "      <th>mean</th>\n",
       "      <th>std</th>\n",
       "      <th>min</th>\n",
       "      <th>25%</th>\n",
       "      <th>50%</th>\n",
       "      <th>75%</th>\n",
       "      <th>max</th>\n",
       "    </tr>\n",
       "    <tr>\n",
       "      <th>make_model</th>\n",
       "      <th>body_type</th>\n",
       "      <th>age</th>\n",
       "      <th>paint_type</th>\n",
       "      <th></th>\n",
       "      <th></th>\n",
       "      <th></th>\n",
       "      <th></th>\n",
       "      <th></th>\n",
       "      <th></th>\n",
       "      <th></th>\n",
       "      <th></th>\n",
       "    </tr>\n",
       "  </thead>\n",
       "  <tbody>\n",
       "    <tr>\n",
       "      <th rowspan=\"5\" valign=\"top\">Audi A1</th>\n",
       "      <th rowspan=\"5\" valign=\"top\">Compact</th>\n",
       "      <th rowspan=\"2\" valign=\"top\">0.00</th>\n",
       "      <th>Metallic</th>\n",
       "      <td>229.00</td>\n",
       "      <td>24622.26</td>\n",
       "      <td>3172.06</td>\n",
       "      <td>17880.00</td>\n",
       "      <td>21990.00</td>\n",
       "      <td>23700.00</td>\n",
       "      <td>27780.00</td>\n",
       "      <td>31990.00</td>\n",
       "    </tr>\n",
       "    <tr>\n",
       "      <th>Uni/basic</th>\n",
       "      <td>2.00</td>\n",
       "      <td>19888.00</td>\n",
       "      <td>0.00</td>\n",
       "      <td>19888.00</td>\n",
       "      <td>19888.00</td>\n",
       "      <td>19888.00</td>\n",
       "      <td>19888.00</td>\n",
       "      <td>19888.00</td>\n",
       "    </tr>\n",
       "    <tr>\n",
       "      <th>1.00</th>\n",
       "      <th>Metallic</th>\n",
       "      <td>212.00</td>\n",
       "      <td>18861.65</td>\n",
       "      <td>2674.02</td>\n",
       "      <td>13980.00</td>\n",
       "      <td>16448.75</td>\n",
       "      <td>17515.00</td>\n",
       "      <td>21482.50</td>\n",
       "      <td>23829.00</td>\n",
       "    </tr>\n",
       "    <tr>\n",
       "      <th rowspan=\"2\" valign=\"top\">2.00</th>\n",
       "      <th>Metallic</th>\n",
       "      <td>108.00</td>\n",
       "      <td>17001.35</td>\n",
       "      <td>2294.78</td>\n",
       "      <td>10999.00</td>\n",
       "      <td>15450.00</td>\n",
       "      <td>15954.50</td>\n",
       "      <td>18957.50</td>\n",
       "      <td>22150.00</td>\n",
       "    </tr>\n",
       "    <tr>\n",
       "      <th>Uni/basic</th>\n",
       "      <td>1.00</td>\n",
       "      <td>17900.00</td>\n",
       "      <td>NaN</td>\n",
       "      <td>17900.00</td>\n",
       "      <td>17900.00</td>\n",
       "      <td>17900.00</td>\n",
       "      <td>17900.00</td>\n",
       "      <td>17900.00</td>\n",
       "    </tr>\n",
       "    <tr>\n",
       "      <th>...</th>\n",
       "      <th>...</th>\n",
       "      <th>...</th>\n",
       "      <th>...</th>\n",
       "      <td>...</td>\n",
       "      <td>...</td>\n",
       "      <td>...</td>\n",
       "      <td>...</td>\n",
       "      <td>...</td>\n",
       "      <td>...</td>\n",
       "      <td>...</td>\n",
       "      <td>...</td>\n",
       "    </tr>\n",
       "    <tr>\n",
       "      <th rowspan=\"5\" valign=\"top\">Renault Espace</th>\n",
       "      <th rowspan=\"5\" valign=\"top\">Van</th>\n",
       "      <th>1.00</th>\n",
       "      <th>Uni/basic</th>\n",
       "      <td>6.00</td>\n",
       "      <td>29056.67</td>\n",
       "      <td>3244.17</td>\n",
       "      <td>24750.00</td>\n",
       "      <td>26900.00</td>\n",
       "      <td>29400.00</td>\n",
       "      <td>31900.00</td>\n",
       "      <td>31990.00</td>\n",
       "    </tr>\n",
       "    <tr>\n",
       "      <th rowspan=\"2\" valign=\"top\">2.00</th>\n",
       "      <th>Metallic</th>\n",
       "      <td>91.00</td>\n",
       "      <td>27069.63</td>\n",
       "      <td>3698.38</td>\n",
       "      <td>16950.00</td>\n",
       "      <td>25490.00</td>\n",
       "      <td>25490.00</td>\n",
       "      <td>28700.00</td>\n",
       "      <td>41900.00</td>\n",
       "    </tr>\n",
       "    <tr>\n",
       "      <th>Uni/basic</th>\n",
       "      <td>2.00</td>\n",
       "      <td>26700.00</td>\n",
       "      <td>3535.53</td>\n",
       "      <td>24200.00</td>\n",
       "      <td>25450.00</td>\n",
       "      <td>26700.00</td>\n",
       "      <td>27950.00</td>\n",
       "      <td>29200.00</td>\n",
       "    </tr>\n",
       "    <tr>\n",
       "      <th rowspan=\"2\" valign=\"top\">3.00</th>\n",
       "      <th>Metallic</th>\n",
       "      <td>134.00</td>\n",
       "      <td>22325.57</td>\n",
       "      <td>3269.42</td>\n",
       "      <td>12614.00</td>\n",
       "      <td>19900.00</td>\n",
       "      <td>21990.00</td>\n",
       "      <td>24900.00</td>\n",
       "      <td>27900.00</td>\n",
       "    </tr>\n",
       "    <tr>\n",
       "      <th>Uni/basic</th>\n",
       "      <td>3.00</td>\n",
       "      <td>22628.33</td>\n",
       "      <td>2094.72</td>\n",
       "      <td>20995.00</td>\n",
       "      <td>21447.50</td>\n",
       "      <td>21900.00</td>\n",
       "      <td>23445.00</td>\n",
       "      <td>24990.00</td>\n",
       "    </tr>\n",
       "  </tbody>\n",
       "</table>\n",
       "<p>190 rows × 8 columns</p>\n",
       "</div>"
      ],
      "text/plain": [
       "                                          count     mean     std      min  \\\n",
       "make_model     body_type age  paint_type                                    \n",
       "Audi A1        Compact   0.00 Metallic   229.00 24622.26 3172.06 17880.00   \n",
       "                              Uni/basic    2.00 19888.00    0.00 19888.00   \n",
       "                         1.00 Metallic   212.00 18861.65 2674.02 13980.00   \n",
       "                         2.00 Metallic   108.00 17001.35 2294.78 10999.00   \n",
       "                              Uni/basic    1.00 17900.00     NaN 17900.00   \n",
       "...                                         ...      ...     ...      ...   \n",
       "Renault Espace Van       1.00 Uni/basic    6.00 29056.67 3244.17 24750.00   \n",
       "                         2.00 Metallic    91.00 27069.63 3698.38 16950.00   \n",
       "                              Uni/basic    2.00 26700.00 3535.53 24200.00   \n",
       "                         3.00 Metallic   134.00 22325.57 3269.42 12614.00   \n",
       "                              Uni/basic    3.00 22628.33 2094.72 20995.00   \n",
       "\n",
       "                                              25%      50%      75%      max  \n",
       "make_model     body_type age  paint_type                                      \n",
       "Audi A1        Compact   0.00 Metallic   21990.00 23700.00 27780.00 31990.00  \n",
       "                              Uni/basic  19888.00 19888.00 19888.00 19888.00  \n",
       "                         1.00 Metallic   16448.75 17515.00 21482.50 23829.00  \n",
       "                         2.00 Metallic   15450.00 15954.50 18957.50 22150.00  \n",
       "                              Uni/basic  17900.00 17900.00 17900.00 17900.00  \n",
       "...                                           ...      ...      ...      ...  \n",
       "Renault Espace Van       1.00 Uni/basic  26900.00 29400.00 31900.00 31990.00  \n",
       "                         2.00 Metallic   25490.00 25490.00 28700.00 41900.00  \n",
       "                              Uni/basic  25450.00 26700.00 27950.00 29200.00  \n",
       "                         3.00 Metallic   19900.00 21990.00 24900.00 27900.00  \n",
       "                              Uni/basic  21447.50 21900.00 23445.00 24990.00  \n",
       "\n",
       "[190 rows x 8 columns]"
      ]
     },
     "execution_count": 63,
     "metadata": {},
     "output_type": "execute_result"
    }
   ],
   "source": [
    "df.groupby([\"make_model\", \"body_type\", \"age\", 'paint_type']).price.describe()"
   ]
  },
  {
   "cell_type": "code",
   "execution_count": 64,
   "metadata": {},
   "outputs": [
    {
     "name": "stdout",
     "output_type": "stream",
     "text": [
      "Number of NaN :  0\n",
      "------------------\n",
      "Metallic       15523\n",
      "Uni/basic        390\n",
      "Perl effect        6\n",
      "Name: paint_type, dtype: int64\n"
     ]
    }
   ],
   "source": [
    "fill(df, \"make_model\", \"body_type\", \"paint_type\", \"mode\")"
   ]
  },
  {
   "cell_type": "markdown",
   "metadata": {},
   "source": [
    "### nr_of_doors"
   ]
  },
  {
   "cell_type": "code",
   "execution_count": 65,
   "metadata": {},
   "outputs": [
    {
     "name": "stdout",
     "output_type": "stream",
     "text": [
      "column name    :  nr_of_doors\n",
      "--------------------------------\n",
      "per_of_nulls   :  % 1.33\n",
      "num_of_nulls   :  212\n",
      "num_of_uniques :  6\n",
      "--------------------------------\n",
      "5.00    11575\n",
      "4.00     3079\n",
      "3.00      832\n",
      "2.00      219\n",
      "NaN       212\n",
      "1.00        1\n",
      "7.00        1\n",
      "Name: nr_of_doors, dtype: int64\n"
     ]
    }
   ],
   "source": [
    "look_before(\"nr_of_doors\")"
   ]
  },
  {
   "cell_type": "code",
   "execution_count": 66,
   "metadata": {},
   "outputs": [
    {
     "name": "stdout",
     "output_type": "stream",
     "text": [
      "Number of NaN :  0\n",
      "------------------\n",
      "5.00    11787\n",
      "4.00     3079\n",
      "3.00      832\n",
      "2.00      219\n",
      "1.00        1\n",
      "7.00        1\n",
      "Name: nr_of_doors, dtype: int64\n"
     ]
    }
   ],
   "source": [
    "fill(df, \"make_model\", \"body_type\", \"nr_of_doors\", \"mode\")"
   ]
  },
  {
   "cell_type": "markdown",
   "metadata": {},
   "source": [
    "### nr_of_seats"
   ]
  },
  {
   "cell_type": "code",
   "execution_count": 67,
   "metadata": {},
   "outputs": [
    {
     "name": "stdout",
     "output_type": "stream",
     "text": [
      "column name    :  nr_of_seats\n",
      "--------------------------------\n",
      "per_of_nulls   :  % 6.14\n",
      "num_of_nulls   :  977\n",
      "num_of_uniques :  6\n",
      "--------------------------------\n",
      "5.00    13336\n",
      "4.00     1125\n",
      "NaN       977\n",
      "7.00      362\n",
      "2.00      116\n",
      "6.00        2\n",
      "3.00        1\n",
      "Name: nr_of_seats, dtype: int64\n"
     ]
    }
   ],
   "source": [
    "look_before(\"nr_of_seats\")"
   ]
  },
  {
   "cell_type": "code",
   "execution_count": 68,
   "metadata": {},
   "outputs": [
    {
     "name": "stdout",
     "output_type": "stream",
     "text": [
      "Number of NaN :  0\n",
      "------------------\n",
      "5.00    14308\n",
      "4.00     1127\n",
      "7.00      362\n",
      "2.00      119\n",
      "6.00        2\n",
      "3.00        1\n",
      "Name: nr_of_seats, dtype: int64\n"
     ]
    }
   ],
   "source": [
    "fill(df, \"make_model\", \"body_type\", \"nr_of_seats\", \"mode\")"
   ]
  },
  {
   "cell_type": "markdown",
   "metadata": {},
   "source": [
    "### cylinders"
   ]
  },
  {
   "cell_type": "code",
   "execution_count": 69,
   "metadata": {},
   "outputs": [
    {
     "name": "stdout",
     "output_type": "stream",
     "text": [
      "column name    :  cylinders\n",
      "--------------------------------\n",
      "per_of_nulls   :  % 35.68\n",
      "num_of_nulls   :  5680\n",
      "num_of_uniques :  7\n",
      "--------------------------------\n",
      "4.00    8105\n",
      "NaN     5680\n",
      "3.00    2104\n",
      "5.00      22\n",
      "6.00       3\n",
      "8.00       2\n",
      "2.00       2\n",
      "1.00       1\n",
      "Name: cylinders, dtype: int64\n"
     ]
    }
   ],
   "source": [
    "look_before(\"cylinders\")"
   ]
  },
  {
   "cell_type": "code",
   "execution_count": 70,
   "metadata": {},
   "outputs": [
    {
     "name": "stdout",
     "output_type": "stream",
     "text": [
      "Number of NaN :  0\n",
      "------------------\n",
      "4.00    12926\n",
      "3.00     2963\n",
      "5.00       22\n",
      "6.00        3\n",
      "8.00        2\n",
      "2.00        2\n",
      "1.00        1\n",
      "Name: cylinders, dtype: int64\n"
     ]
    }
   ],
   "source": [
    "fill(df, \"make_model\", \"body_type\", \"cylinders\", \"mode\")"
   ]
  },
  {
   "cell_type": "code",
   "execution_count": 71,
   "metadata": {},
   "outputs": [],
   "source": [
    "df.drop(\"cylinders\", axis = 1, inplace = True)"
   ]
  },
  {
   "cell_type": "markdown",
   "metadata": {},
   "source": [
    "### drive_chain"
   ]
  },
  {
   "cell_type": "code",
   "execution_count": 72,
   "metadata": {},
   "outputs": [
    {
     "name": "stdout",
     "output_type": "stream",
     "text": [
      "column name    :  drive_chain\n",
      "--------------------------------\n",
      "per_of_nulls   :  % 43.08\n",
      "num_of_nulls   :  6858\n",
      "num_of_uniques :  3\n",
      "--------------------------------\n",
      "front    8886\n",
      "NaN      6858\n",
      "4WD       171\n",
      "rear        4\n",
      "Name: drive_chain, dtype: int64\n"
     ]
    }
   ],
   "source": [
    "look_before(\"drive_chain\")"
   ]
  },
  {
   "cell_type": "code",
   "execution_count": 73,
   "metadata": {},
   "outputs": [
    {
     "name": "stdout",
     "output_type": "stream",
     "text": [
      "Number of NaN :  0\n",
      "------------------\n",
      "front    15711\n",
      "4WD        204\n",
      "rear         4\n",
      "Name: drive_chain, dtype: int64\n"
     ]
    }
   ],
   "source": [
    "fill(df, \"make_model\", \"body_type\", \"drive_chain\", \"mode\")"
   ]
  },
  {
   "cell_type": "markdown",
   "metadata": {},
   "source": [
    "### emission_class"
   ]
  },
  {
   "cell_type": "code",
   "execution_count": 74,
   "metadata": {},
   "outputs": [
    {
     "name": "stdout",
     "output_type": "stream",
     "text": [
      "column name    :  emission_class\n",
      "--------------------------------\n",
      "per_of_nulls   :  % 22.79\n",
      "num_of_nulls   :  3628\n",
      "num_of_uniques :  3\n",
      "--------------------------------\n",
      "Euro 6    12173\n",
      "NaN        3628\n",
      "Euro 5       78\n",
      "Euro 4       40\n",
      "Name: emission_class, dtype: int64\n"
     ]
    }
   ],
   "source": [
    "look_before(\"emission_class\")"
   ]
  },
  {
   "cell_type": "code",
   "execution_count": 75,
   "metadata": {},
   "outputs": [
    {
     "name": "stdout",
     "output_type": "stream",
     "text": [
      "Number of NaN :  0\n",
      "------------------\n",
      "Euro 6    15770\n",
      "Euro 5       99\n",
      "Euro 4       50\n",
      "Name: emission_class, dtype: int64\n"
     ]
    }
   ],
   "source": [
    "fill(df, \"age\", \"fuel\", \"emission_class\", \"ffill\")"
   ]
  },
  {
   "cell_type": "code",
   "execution_count": 76,
   "metadata": {},
   "outputs": [],
   "source": [
    "df.drop(\"emission_class\", axis=1, inplace=True)"
   ]
  },
  {
   "cell_type": "markdown",
   "metadata": {},
   "source": [
    "### gears"
   ]
  },
  {
   "cell_type": "code",
   "execution_count": 77,
   "metadata": {},
   "outputs": [
    {
     "name": "stdout",
     "output_type": "stream",
     "text": [
      "column name    :  gears\n",
      "--------------------------------\n",
      "per_of_nulls   :  % 29.6\n",
      "num_of_nulls   :  4712\n",
      "num_of_uniques :  10\n",
      "--------------------------------\n",
      "6.00     5822\n",
      "NaN      4712\n",
      "5.00     3239\n",
      "7.00     1908\n",
      "8.00      224\n",
      "9.00        6\n",
      "1.00        2\n",
      "3.00        2\n",
      "4.00        2\n",
      "2.00        1\n",
      "50.00       1\n",
      "Name: gears, dtype: int64\n"
     ]
    }
   ],
   "source": [
    "look_before(\"gears\")"
   ]
  },
  {
   "cell_type": "code",
   "execution_count": 78,
   "metadata": {},
   "outputs": [
    {
     "data": {
      "text/html": [
       "<div>\n",
       "<style scoped>\n",
       "    .dataframe tbody tr th:only-of-type {\n",
       "        vertical-align: middle;\n",
       "    }\n",
       "\n",
       "    .dataframe tbody tr th {\n",
       "        vertical-align: top;\n",
       "    }\n",
       "\n",
       "    .dataframe thead th {\n",
       "        text-align: right;\n",
       "    }\n",
       "</style>\n",
       "<table border=\"1\" class=\"dataframe\">\n",
       "  <thead>\n",
       "    <tr style=\"text-align: right;\">\n",
       "      <th></th>\n",
       "      <th></th>\n",
       "      <th></th>\n",
       "      <th></th>\n",
       "      <th>count</th>\n",
       "      <th>mean</th>\n",
       "      <th>std</th>\n",
       "      <th>min</th>\n",
       "      <th>25%</th>\n",
       "      <th>50%</th>\n",
       "      <th>75%</th>\n",
       "      <th>max</th>\n",
       "    </tr>\n",
       "    <tr>\n",
       "      <th>make_model</th>\n",
       "      <th>body_type</th>\n",
       "      <th>gearing_type</th>\n",
       "      <th>gears</th>\n",
       "      <th></th>\n",
       "      <th></th>\n",
       "      <th></th>\n",
       "      <th></th>\n",
       "      <th></th>\n",
       "      <th></th>\n",
       "      <th></th>\n",
       "      <th></th>\n",
       "    </tr>\n",
       "  </thead>\n",
       "  <tbody>\n",
       "    <tr>\n",
       "      <th rowspan=\"5\" valign=\"top\">Audi A1</th>\n",
       "      <th rowspan=\"5\" valign=\"top\">Compact</th>\n",
       "      <th rowspan=\"4\" valign=\"top\">Automatic</th>\n",
       "      <th>5.00</th>\n",
       "      <td>3.00</td>\n",
       "      <td>22184.33</td>\n",
       "      <td>3421.30</td>\n",
       "      <td>18497.00</td>\n",
       "      <td>20648.50</td>\n",
       "      <td>22800.00</td>\n",
       "      <td>24028.00</td>\n",
       "      <td>25256.00</td>\n",
       "    </tr>\n",
       "    <tr>\n",
       "      <th>6.00</th>\n",
       "      <td>6.00</td>\n",
       "      <td>21038.33</td>\n",
       "      <td>4282.04</td>\n",
       "      <td>16430.00</td>\n",
       "      <td>18725.00</td>\n",
       "      <td>20920.00</td>\n",
       "      <td>21060.00</td>\n",
       "      <td>28860.00</td>\n",
       "    </tr>\n",
       "    <tr>\n",
       "      <th>7.00</th>\n",
       "      <td>199.00</td>\n",
       "      <td>22059.25</td>\n",
       "      <td>3918.12</td>\n",
       "      <td>13990.00</td>\n",
       "      <td>18970.00</td>\n",
       "      <td>21790.00</td>\n",
       "      <td>24365.00</td>\n",
       "      <td>29181.00</td>\n",
       "    </tr>\n",
       "    <tr>\n",
       "      <th>8.00</th>\n",
       "      <td>1.00</td>\n",
       "      <td>16880.00</td>\n",
       "      <td>NaN</td>\n",
       "      <td>16880.00</td>\n",
       "      <td>16880.00</td>\n",
       "      <td>16880.00</td>\n",
       "      <td>16880.00</td>\n",
       "      <td>16880.00</td>\n",
       "    </tr>\n",
       "    <tr>\n",
       "      <th>Manual</th>\n",
       "      <th>5.00</th>\n",
       "      <td>277.00</td>\n",
       "      <td>16329.47</td>\n",
       "      <td>3040.93</td>\n",
       "      <td>9950.00</td>\n",
       "      <td>13990.00</td>\n",
       "      <td>15900.00</td>\n",
       "      <td>16940.00</td>\n",
       "      <td>22990.00</td>\n",
       "    </tr>\n",
       "    <tr>\n",
       "      <th>...</th>\n",
       "      <th>...</th>\n",
       "      <th>...</th>\n",
       "      <th>...</th>\n",
       "      <td>...</td>\n",
       "      <td>...</td>\n",
       "      <td>...</td>\n",
       "      <td>...</td>\n",
       "      <td>...</td>\n",
       "      <td>...</td>\n",
       "      <td>...</td>\n",
       "      <td>...</td>\n",
       "    </tr>\n",
       "    <tr>\n",
       "      <th rowspan=\"5\" valign=\"top\">Renault Espace</th>\n",
       "      <th rowspan=\"5\" valign=\"top\">Van</th>\n",
       "      <th>Automatic</th>\n",
       "      <th>9.00</th>\n",
       "      <td>6.00</td>\n",
       "      <td>52208.50</td>\n",
       "      <td>2735.33</td>\n",
       "      <td>48765.00</td>\n",
       "      <td>50002.75</td>\n",
       "      <td>52711.00</td>\n",
       "      <td>54414.25</td>\n",
       "      <td>54982.00</td>\n",
       "    </tr>\n",
       "    <tr>\n",
       "      <th rowspan=\"2\" valign=\"top\">Manual</th>\n",
       "      <th>6.00</th>\n",
       "      <td>50.00</td>\n",
       "      <td>22798.56</td>\n",
       "      <td>6056.78</td>\n",
       "      <td>12614.00</td>\n",
       "      <td>18847.50</td>\n",
       "      <td>21937.50</td>\n",
       "      <td>25799.75</td>\n",
       "      <td>47990.00</td>\n",
       "    </tr>\n",
       "    <tr>\n",
       "      <th>7.00</th>\n",
       "      <td>1.00</td>\n",
       "      <td>36590.00</td>\n",
       "      <td>NaN</td>\n",
       "      <td>36590.00</td>\n",
       "      <td>36590.00</td>\n",
       "      <td>36590.00</td>\n",
       "      <td>36590.00</td>\n",
       "      <td>36590.00</td>\n",
       "    </tr>\n",
       "    <tr>\n",
       "      <th rowspan=\"2\" valign=\"top\">Semi-automatic</th>\n",
       "      <th>6.00</th>\n",
       "      <td>11.00</td>\n",
       "      <td>28885.45</td>\n",
       "      <td>11439.11</td>\n",
       "      <td>16900.00</td>\n",
       "      <td>21450.00</td>\n",
       "      <td>24900.00</td>\n",
       "      <td>32750.00</td>\n",
       "      <td>56950.00</td>\n",
       "    </tr>\n",
       "    <tr>\n",
       "      <th>7.00</th>\n",
       "      <td>1.00</td>\n",
       "      <td>19900.00</td>\n",
       "      <td>NaN</td>\n",
       "      <td>19900.00</td>\n",
       "      <td>19900.00</td>\n",
       "      <td>19900.00</td>\n",
       "      <td>19900.00</td>\n",
       "      <td>19900.00</td>\n",
       "    </tr>\n",
       "  </tbody>\n",
       "</table>\n",
       "<p>173 rows × 8 columns</p>\n",
       "</div>"
      ],
      "text/plain": [
       "                                               count     mean      std  \\\n",
       "make_model     body_type gearing_type   gears                            \n",
       "Audi A1        Compact   Automatic      5.00    3.00 22184.33  3421.30   \n",
       "                                        6.00    6.00 21038.33  4282.04   \n",
       "                                        7.00  199.00 22059.25  3918.12   \n",
       "                                        8.00    1.00 16880.00      NaN   \n",
       "                         Manual         5.00  277.00 16329.47  3040.93   \n",
       "...                                              ...      ...      ...   \n",
       "Renault Espace Van       Automatic      9.00    6.00 52208.50  2735.33   \n",
       "                         Manual         6.00   50.00 22798.56  6056.78   \n",
       "                                        7.00    1.00 36590.00      NaN   \n",
       "                         Semi-automatic 6.00   11.00 28885.45 11439.11   \n",
       "                                        7.00    1.00 19900.00      NaN   \n",
       "\n",
       "                                                   min      25%      50%  \\\n",
       "make_model     body_type gearing_type   gears                              \n",
       "Audi A1        Compact   Automatic      5.00  18497.00 20648.50 22800.00   \n",
       "                                        6.00  16430.00 18725.00 20920.00   \n",
       "                                        7.00  13990.00 18970.00 21790.00   \n",
       "                                        8.00  16880.00 16880.00 16880.00   \n",
       "                         Manual         5.00   9950.00 13990.00 15900.00   \n",
       "...                                                ...      ...      ...   \n",
       "Renault Espace Van       Automatic      9.00  48765.00 50002.75 52711.00   \n",
       "                         Manual         6.00  12614.00 18847.50 21937.50   \n",
       "                                        7.00  36590.00 36590.00 36590.00   \n",
       "                         Semi-automatic 6.00  16900.00 21450.00 24900.00   \n",
       "                                        7.00  19900.00 19900.00 19900.00   \n",
       "\n",
       "                                                   75%      max  \n",
       "make_model     body_type gearing_type   gears                    \n",
       "Audi A1        Compact   Automatic      5.00  24028.00 25256.00  \n",
       "                                        6.00  21060.00 28860.00  \n",
       "                                        7.00  24365.00 29181.00  \n",
       "                                        8.00  16880.00 16880.00  \n",
       "                         Manual         5.00  16940.00 22990.00  \n",
       "...                                                ...      ...  \n",
       "Renault Espace Van       Automatic      9.00  54414.25 54982.00  \n",
       "                         Manual         6.00  25799.75 47990.00  \n",
       "                                        7.00  36590.00 36590.00  \n",
       "                         Semi-automatic 6.00  32750.00 56950.00  \n",
       "                                        7.00  19900.00 19900.00  \n",
       "\n",
       "[173 rows x 8 columns]"
      ]
     },
     "execution_count": 78,
     "metadata": {},
     "output_type": "execute_result"
    }
   ],
   "source": [
    "df.groupby([\"make_model\", \"body_type\", \"gearing_type\", \"gears\"]).price.describe()"
   ]
  },
  {
   "cell_type": "code",
   "execution_count": 79,
   "metadata": {},
   "outputs": [],
   "source": [
    "for group1 in list(df[\"make_model\"].unique()):\n",
    "    for group2 in list(df[\"body_type\"].unique()):\n",
    "        for group3 in list(df[\"gearing_type\"].unique()):\n",
    "            cond1 = df[\"make_model\"]==group1\n",
    "            cond2 = (df[\"make_model\"]==group1) & (df[\"body_type\"]==group2)\n",
    "            cond3 = (df[\"make_model\"]==group1) & (df[\"body_type\"]==group2) & (df[\"gearing_type\"]==group3)\n",
    "            mode1 = list(df[cond1][\"gears\"].mode())\n",
    "            mode2 = list(df[cond2][\"gears\"].mode())\n",
    "            mode3 = list(df[cond3][\"gears\"].mode())\n",
    "            if mode3 != []:\n",
    "                df.loc[cond3, \"gears\"] = df.loc[cond3, \"gears\"].fillna(df[cond3][\"gears\"].mode()[0])\n",
    "            elif mode2 != []:\n",
    "                df.loc[cond3, \"gears\"] = df.loc[cond3, \"gears\"].fillna(df[cond2][\"gears\"].mode()[0])\n",
    "            elif mode1 != []:\n",
    "                df.loc[cond3, \"gears\"] = df.loc[cond3, \"gears\"].fillna(df[cond1][\"gears\"].mode()[0])\n",
    "            else:\n",
    "                df.loc[cond3, \"gears\"] = df.loc[cond3, \"gears\"].fillna(df[\"gears\"].mode()[0])"
   ]
  },
  {
   "cell_type": "code",
   "execution_count": 80,
   "metadata": {},
   "outputs": [
    {
     "data": {
      "text/plain": [
       "6.00     8615\n",
       "5.00     4255\n",
       "7.00     2810\n",
       "8.00      225\n",
       "9.00        6\n",
       "1.00        2\n",
       "3.00        2\n",
       "4.00        2\n",
       "2.00        1\n",
       "50.00       1\n",
       "Name: gears, dtype: int64"
      ]
     },
     "execution_count": 80,
     "metadata": {},
     "output_type": "execute_result"
    }
   ],
   "source": [
    "df[\"gears\"].value_counts(dropna=False)"
   ]
  },
  {
   "cell_type": "code",
   "execution_count": 81,
   "metadata": {},
   "outputs": [
    {
     "data": {
      "text/plain": [
       "0"
      ]
     },
     "execution_count": 81,
     "metadata": {},
     "output_type": "execute_result"
    }
   ],
   "source": [
    "df[\"gears\"].isnull().sum()"
   ]
  },
  {
   "cell_type": "markdown",
   "metadata": {},
   "source": [
    "### hp_kw"
   ]
  },
  {
   "cell_type": "code",
   "execution_count": 82,
   "metadata": {},
   "outputs": [
    {
     "name": "stdout",
     "output_type": "stream",
     "text": [
      "column name    :  hp_kw\n",
      "--------------------------------\n",
      "per_of_nulls   :  % 0.55\n",
      "num_of_nulls   :  88\n",
      "num_of_uniques :  80\n",
      "--------------------------------\n",
      "85.00     2542\n",
      "66.00     2122\n",
      "81.00     1402\n",
      "100.00    1308\n",
      "110.00    1112\n",
      "70.00      888\n",
      "125.00     707\n",
      "51.00      695\n",
      "55.00      569\n",
      "118.00     516\n",
      "92.00      466\n",
      "121.00     392\n",
      "147.00     380\n",
      "77.00      345\n",
      "56.00      286\n",
      "54.00      276\n",
      "103.00     253\n",
      "87.00      232\n",
      "165.00     194\n",
      "88.00      177\n",
      "60.00      160\n",
      "162.00      98\n",
      "NaN         88\n",
      "74.00       81\n",
      "96.00       72\n",
      "71.00       59\n",
      "101.00      47\n",
      "67.00       40\n",
      "154.00      39\n",
      "122.00      35\n",
      "119.00      30\n",
      "164.00      27\n",
      "135.00      24\n",
      "82.00       22\n",
      "52.00       22\n",
      "78.00       20\n",
      "1.00        20\n",
      "294.00      18\n",
      "146.00      18\n",
      "141.00      16\n",
      "57.00       10\n",
      "104.00       8\n",
      "120.00       8\n",
      "191.00       7\n",
      "112.00       7\n",
      "155.00       6\n",
      "117.00       6\n",
      "184.00       5\n",
      "90.00        4\n",
      "76.00        4\n",
      "65.00        4\n",
      "149.00       3\n",
      "80.00        3\n",
      "168.00       3\n",
      "98.00        3\n",
      "93.00        3\n",
      "228.00       2\n",
      "270.00       2\n",
      "53.00        2\n",
      "140.00       2\n",
      "86.00        2\n",
      "167.00       2\n",
      "127.00       2\n",
      "89.00        2\n",
      "143.00       2\n",
      "63.00        2\n",
      "40.00        2\n",
      "150.00       2\n",
      "163.00       1\n",
      "115.00       1\n",
      "132.00       1\n",
      "75.00        1\n",
      "4.00         1\n",
      "137.00       1\n",
      "123.00       1\n",
      "133.00       1\n",
      "84.00        1\n",
      "195.00       1\n",
      "44.00        1\n",
      "239.00       1\n",
      "9.00         1\n",
      "Name: hp_kw, dtype: int64\n"
     ]
    }
   ],
   "source": [
    "look_before(\"hp_kw\")"
   ]
  },
  {
   "cell_type": "code",
   "execution_count": 83,
   "metadata": {},
   "outputs": [
    {
     "data": {
      "text/html": [
       "<div>\n",
       "<style scoped>\n",
       "    .dataframe tbody tr th:only-of-type {\n",
       "        vertical-align: middle;\n",
       "    }\n",
       "\n",
       "    .dataframe tbody tr th {\n",
       "        vertical-align: top;\n",
       "    }\n",
       "\n",
       "    .dataframe thead th {\n",
       "        text-align: right;\n",
       "    }\n",
       "</style>\n",
       "<table border=\"1\" class=\"dataframe\">\n",
       "  <thead>\n",
       "    <tr style=\"text-align: right;\">\n",
       "      <th></th>\n",
       "      <th></th>\n",
       "      <th></th>\n",
       "      <th>count</th>\n",
       "      <th>mean</th>\n",
       "      <th>std</th>\n",
       "      <th>min</th>\n",
       "      <th>25%</th>\n",
       "      <th>50%</th>\n",
       "      <th>75%</th>\n",
       "      <th>max</th>\n",
       "    </tr>\n",
       "    <tr>\n",
       "      <th>make_model</th>\n",
       "      <th>body_type</th>\n",
       "      <th>hp_kw</th>\n",
       "      <th></th>\n",
       "      <th></th>\n",
       "      <th></th>\n",
       "      <th></th>\n",
       "      <th></th>\n",
       "      <th></th>\n",
       "      <th></th>\n",
       "      <th></th>\n",
       "    </tr>\n",
       "  </thead>\n",
       "  <tbody>\n",
       "    <tr>\n",
       "      <th rowspan=\"5\" valign=\"top\">Audi A1</th>\n",
       "      <th rowspan=\"5\" valign=\"top\">Compact</th>\n",
       "      <th>60.00</th>\n",
       "      <td>58.00</td>\n",
       "      <td>15189.83</td>\n",
       "      <td>1663.61</td>\n",
       "      <td>10900.00</td>\n",
       "      <td>14390.00</td>\n",
       "      <td>15774.50</td>\n",
       "      <td>16345.00</td>\n",
       "      <td>16978.00</td>\n",
       "    </tr>\n",
       "    <tr>\n",
       "      <th>66.00</th>\n",
       "      <td>162.00</td>\n",
       "      <td>15398.21</td>\n",
       "      <td>1934.30</td>\n",
       "      <td>10490.00</td>\n",
       "      <td>14042.50</td>\n",
       "      <td>15465.00</td>\n",
       "      <td>16445.00</td>\n",
       "      <td>23700.00</td>\n",
       "    </tr>\n",
       "    <tr>\n",
       "      <th>70.00</th>\n",
       "      <td>332.00</td>\n",
       "      <td>17983.26</td>\n",
       "      <td>3315.81</td>\n",
       "      <td>9950.00</td>\n",
       "      <td>15480.00</td>\n",
       "      <td>17447.00</td>\n",
       "      <td>21190.00</td>\n",
       "      <td>28990.00</td>\n",
       "    </tr>\n",
       "    <tr>\n",
       "      <th>71.00</th>\n",
       "      <td>32.00</td>\n",
       "      <td>20831.59</td>\n",
       "      <td>2410.84</td>\n",
       "      <td>15890.00</td>\n",
       "      <td>18937.50</td>\n",
       "      <td>21425.00</td>\n",
       "      <td>22462.25</td>\n",
       "      <td>25256.00</td>\n",
       "    </tr>\n",
       "    <tr>\n",
       "      <th>85.00</th>\n",
       "      <td>330.00</td>\n",
       "      <td>22604.10</td>\n",
       "      <td>4572.57</td>\n",
       "      <td>11100.00</td>\n",
       "      <td>19700.00</td>\n",
       "      <td>22497.00</td>\n",
       "      <td>26980.00</td>\n",
       "      <td>31990.00</td>\n",
       "    </tr>\n",
       "    <tr>\n",
       "      <th>...</th>\n",
       "      <th>...</th>\n",
       "      <th>...</th>\n",
       "      <td>...</td>\n",
       "      <td>...</td>\n",
       "      <td>...</td>\n",
       "      <td>...</td>\n",
       "      <td>...</td>\n",
       "      <td>...</td>\n",
       "      <td>...</td>\n",
       "      <td>...</td>\n",
       "    </tr>\n",
       "    <tr>\n",
       "      <th rowspan=\"5\" valign=\"top\">Renault Espace</th>\n",
       "      <th rowspan=\"5\" valign=\"top\">Van</th>\n",
       "      <th>149.00</th>\n",
       "      <td>1.00</td>\n",
       "      <td>27990.00</td>\n",
       "      <td>NaN</td>\n",
       "      <td>27990.00</td>\n",
       "      <td>27990.00</td>\n",
       "      <td>27990.00</td>\n",
       "      <td>27990.00</td>\n",
       "      <td>27990.00</td>\n",
       "    </tr>\n",
       "    <tr>\n",
       "      <th>150.00</th>\n",
       "      <td>1.00</td>\n",
       "      <td>43545.00</td>\n",
       "      <td>NaN</td>\n",
       "      <td>43545.00</td>\n",
       "      <td>43545.00</td>\n",
       "      <td>43545.00</td>\n",
       "      <td>43545.00</td>\n",
       "      <td>43545.00</td>\n",
       "    </tr>\n",
       "    <tr>\n",
       "      <th>165.00</th>\n",
       "      <td>174.00</td>\n",
       "      <td>38180.24</td>\n",
       "      <td>7926.98</td>\n",
       "      <td>26800.00</td>\n",
       "      <td>31990.00</td>\n",
       "      <td>35934.50</td>\n",
       "      <td>40991.75</td>\n",
       "      <td>64332.00</td>\n",
       "    </tr>\n",
       "    <tr>\n",
       "      <th>167.00</th>\n",
       "      <td>2.00</td>\n",
       "      <td>37990.00</td>\n",
       "      <td>2828.43</td>\n",
       "      <td>35990.00</td>\n",
       "      <td>36990.00</td>\n",
       "      <td>37990.00</td>\n",
       "      <td>38990.00</td>\n",
       "      <td>39990.00</td>\n",
       "    </tr>\n",
       "    <tr>\n",
       "      <th>168.00</th>\n",
       "      <td>3.00</td>\n",
       "      <td>38410.00</td>\n",
       "      <td>1712.66</td>\n",
       "      <td>36590.00</td>\n",
       "      <td>37620.00</td>\n",
       "      <td>38650.00</td>\n",
       "      <td>39320.00</td>\n",
       "      <td>39990.00</td>\n",
       "    </tr>\n",
       "  </tbody>\n",
       "</table>\n",
       "<p>332 rows × 8 columns</p>\n",
       "</div>"
      ],
      "text/plain": [
       "                                 count     mean     std      min      25%  \\\n",
       "make_model     body_type hp_kw                                              \n",
       "Audi A1        Compact   60.00   58.00 15189.83 1663.61 10900.00 14390.00   \n",
       "                         66.00  162.00 15398.21 1934.30 10490.00 14042.50   \n",
       "                         70.00  332.00 17983.26 3315.81  9950.00 15480.00   \n",
       "                         71.00   32.00 20831.59 2410.84 15890.00 18937.50   \n",
       "                         85.00  330.00 22604.10 4572.57 11100.00 19700.00   \n",
       "...                                ...      ...     ...      ...      ...   \n",
       "Renault Espace Van       149.00   1.00 27990.00     NaN 27990.00 27990.00   \n",
       "                         150.00   1.00 43545.00     NaN 43545.00 43545.00   \n",
       "                         165.00 174.00 38180.24 7926.98 26800.00 31990.00   \n",
       "                         167.00   2.00 37990.00 2828.43 35990.00 36990.00   \n",
       "                         168.00   3.00 38410.00 1712.66 36590.00 37620.00   \n",
       "\n",
       "                                     50%      75%      max  \n",
       "make_model     body_type hp_kw                              \n",
       "Audi A1        Compact   60.00  15774.50 16345.00 16978.00  \n",
       "                         66.00  15465.00 16445.00 23700.00  \n",
       "                         70.00  17447.00 21190.00 28990.00  \n",
       "                         71.00  21425.00 22462.25 25256.00  \n",
       "                         85.00  22497.00 26980.00 31990.00  \n",
       "...                                  ...      ...      ...  \n",
       "Renault Espace Van       149.00 27990.00 27990.00 27990.00  \n",
       "                         150.00 43545.00 43545.00 43545.00  \n",
       "                         165.00 35934.50 40991.75 64332.00  \n",
       "                         167.00 37990.00 38990.00 39990.00  \n",
       "                         168.00 38650.00 39320.00 39990.00  \n",
       "\n",
       "[332 rows x 8 columns]"
      ]
     },
     "execution_count": 83,
     "metadata": {},
     "output_type": "execute_result"
    }
   ],
   "source": [
    "df.groupby([\"make_model\", \"body_type\",\"hp_kw\"]).price.describe()"
   ]
  },
  {
   "cell_type": "code",
   "execution_count": 84,
   "metadata": {},
   "outputs": [
    {
     "name": "stdout",
     "output_type": "stream",
     "text": [
      "Number of NaN :  0\n",
      "------------------\n",
      "85.00     2543\n",
      "66.00     2124\n",
      "81.00     1403\n",
      "100.00    1315\n",
      "110.00    1113\n",
      "70.00      890\n",
      "125.00     710\n",
      "51.00      696\n",
      "55.00      589\n",
      "118.00     550\n",
      "92.00      466\n",
      "121.00     392\n",
      "147.00     380\n",
      "77.00      353\n",
      "56.00      294\n",
      "54.00      276\n",
      "103.00     253\n",
      "87.00      232\n",
      "165.00     194\n",
      "88.00      177\n",
      "60.00      160\n",
      "162.00      98\n",
      "74.00       81\n",
      "96.00       72\n",
      "71.00       59\n",
      "101.00      47\n",
      "67.00       40\n",
      "154.00      39\n",
      "122.00      35\n",
      "119.00      30\n",
      "164.00      27\n",
      "135.00      24\n",
      "52.00       22\n",
      "82.00       22\n",
      "1.00        20\n",
      "78.00       20\n",
      "294.00      18\n",
      "146.00      18\n",
      "141.00      16\n",
      "57.00       10\n",
      "120.00       8\n",
      "104.00       8\n",
      "112.00       7\n",
      "191.00       7\n",
      "155.00       6\n",
      "117.00       6\n",
      "184.00       5\n",
      "65.00        4\n",
      "90.00        4\n",
      "76.00        4\n",
      "168.00       3\n",
      "98.00        3\n",
      "149.00       3\n",
      "80.00        3\n",
      "93.00        3\n",
      "167.00       2\n",
      "228.00       2\n",
      "53.00        2\n",
      "143.00       2\n",
      "150.00       2\n",
      "140.00       2\n",
      "270.00       2\n",
      "63.00        2\n",
      "40.00        2\n",
      "127.00       2\n",
      "86.00        2\n",
      "89.00        2\n",
      "163.00       1\n",
      "132.00       1\n",
      "115.00       1\n",
      "239.00       1\n",
      "4.00         1\n",
      "137.00       1\n",
      "133.00       1\n",
      "84.00        1\n",
      "123.00       1\n",
      "44.00        1\n",
      "195.00       1\n",
      "75.00        1\n",
      "9.00         1\n",
      "Name: hp_kw, dtype: int64\n"
     ]
    }
   ],
   "source": [
    "fill(df, \"make_model\", \"body_type\", \"hp_kw\", \"mode\")"
   ]
  },
  {
   "cell_type": "markdown",
   "metadata": {},
   "source": [
    "### displacement_cc"
   ]
  },
  {
   "cell_type": "code",
   "execution_count": 85,
   "metadata": {},
   "outputs": [
    {
     "name": "stdout",
     "output_type": "stream",
     "text": [
      "column name    :  displacement_cc\n",
      "--------------------------------\n",
      "per_of_nulls   :  % 3.12\n",
      "num_of_nulls   :  496\n",
      "num_of_uniques :  77\n",
      "--------------------------------\n",
      "1598.00     4761\n",
      "999.00      2438\n",
      "1398.00     1314\n",
      "1399.00      749\n",
      "1229.00      677\n",
      "1956.00      670\n",
      "1461.00      595\n",
      "1490.00      559\n",
      "NaN          496\n",
      "1422.00      467\n",
      "1197.00      353\n",
      "898.00       351\n",
      "1395.00      320\n",
      "1968.00      301\n",
      "1149.00      288\n",
      "1618.00      212\n",
      "1798.00      210\n",
      "1498.00      196\n",
      "1600.00      130\n",
      "1248.00      110\n",
      "1997.00      103\n",
      "1364.00      102\n",
      "1400.00       90\n",
      "998.00        72\n",
      "1500.00       50\n",
      "2000.00       46\n",
      "1000.00       40\n",
      "1.00          36\n",
      "1998.00       25\n",
      "2480.00       20\n",
      "1200.00       18\n",
      "1984.00       18\n",
      "1397.00       11\n",
      "899.00        11\n",
      "160.00         6\n",
      "929.00         5\n",
      "1499.00        5\n",
      "997.00         4\n",
      "1596.00        4\n",
      "139.00         4\n",
      "900.00         4\n",
      "1599.00        3\n",
      "1199.00        3\n",
      "1396.00        3\n",
      "1495.00        2\n",
      "1589.00        2\n",
      "1300.00        2\n",
      "2.00           2\n",
      "995.00         2\n",
      "1496.00        1\n",
      "890.00         1\n",
      "1580.00        1\n",
      "1995.00        1\n",
      "1333.00        1\n",
      "54.00          1\n",
      "1533.00        1\n",
      "1100.00        1\n",
      "1350.00        1\n",
      "16000.00       1\n",
      "1856.00        1\n",
      "1568.00        1\n",
      "1896.00        1\n",
      "1584.00        1\n",
      "996.00         1\n",
      "1696.00        1\n",
      "1686.00        1\n",
      "15898.00       1\n",
      "1368.00        1\n",
      "140.00         1\n",
      "973.00         1\n",
      "1239.00        1\n",
      "1369.00        1\n",
      "1390.00        1\n",
      "122.00         1\n",
      "1198.00        1\n",
      "1195.00        1\n",
      "2967.00        1\n",
      "1800.00        1\n",
      "Name: displacement_cc, dtype: int64\n"
     ]
    }
   ],
   "source": [
    "look_before(\"displacement_cc\")"
   ]
  },
  {
   "cell_type": "code",
   "execution_count": 86,
   "metadata": {},
   "outputs": [
    {
     "data": {
      "text/html": [
       "<div>\n",
       "<style scoped>\n",
       "    .dataframe tbody tr th:only-of-type {\n",
       "        vertical-align: middle;\n",
       "    }\n",
       "\n",
       "    .dataframe tbody tr th {\n",
       "        vertical-align: top;\n",
       "    }\n",
       "\n",
       "    .dataframe thead th {\n",
       "        text-align: right;\n",
       "    }\n",
       "</style>\n",
       "<table border=\"1\" class=\"dataframe\">\n",
       "  <thead>\n",
       "    <tr style=\"text-align: right;\">\n",
       "      <th></th>\n",
       "      <th></th>\n",
       "      <th></th>\n",
       "      <th>count</th>\n",
       "      <th>mean</th>\n",
       "      <th>std</th>\n",
       "      <th>min</th>\n",
       "      <th>25%</th>\n",
       "      <th>50%</th>\n",
       "      <th>75%</th>\n",
       "      <th>max</th>\n",
       "    </tr>\n",
       "    <tr>\n",
       "      <th>make_model</th>\n",
       "      <th>body_type</th>\n",
       "      <th>displacement_cc</th>\n",
       "      <th></th>\n",
       "      <th></th>\n",
       "      <th></th>\n",
       "      <th></th>\n",
       "      <th></th>\n",
       "      <th></th>\n",
       "      <th></th>\n",
       "      <th></th>\n",
       "    </tr>\n",
       "  </thead>\n",
       "  <tbody>\n",
       "    <tr>\n",
       "      <th rowspan=\"5\" valign=\"top\">Audi A1</th>\n",
       "      <th rowspan=\"5\" valign=\"top\">Compact</th>\n",
       "      <th>929.00</th>\n",
       "      <td>5.00</td>\n",
       "      <td>16364.00</td>\n",
       "      <td>1504.82</td>\n",
       "      <td>14980.00</td>\n",
       "      <td>15480.00</td>\n",
       "      <td>16240.00</td>\n",
       "      <td>16240.00</td>\n",
       "      <td>18880.00</td>\n",
       "    </tr>\n",
       "    <tr>\n",
       "      <th>995.00</th>\n",
       "      <td>2.00</td>\n",
       "      <td>21990.00</td>\n",
       "      <td>1414.21</td>\n",
       "      <td>20990.00</td>\n",
       "      <td>21490.00</td>\n",
       "      <td>21990.00</td>\n",
       "      <td>22490.00</td>\n",
       "      <td>22990.00</td>\n",
       "    </tr>\n",
       "    <tr>\n",
       "      <th>999.00</th>\n",
       "      <td>663.00</td>\n",
       "      <td>20294.10</td>\n",
       "      <td>4570.80</td>\n",
       "      <td>9950.00</td>\n",
       "      <td>16480.00</td>\n",
       "      <td>20380.00</td>\n",
       "      <td>22820.00</td>\n",
       "      <td>31990.00</td>\n",
       "    </tr>\n",
       "    <tr>\n",
       "      <th>1000.00</th>\n",
       "      <td>7.00</td>\n",
       "      <td>19498.43</td>\n",
       "      <td>5396.20</td>\n",
       "      <td>13500.00</td>\n",
       "      <td>16024.50</td>\n",
       "      <td>16800.00</td>\n",
       "      <td>22695.00</td>\n",
       "      <td>28750.00</td>\n",
       "    </tr>\n",
       "    <tr>\n",
       "      <th>1395.00</th>\n",
       "      <td>98.00</td>\n",
       "      <td>18246.62</td>\n",
       "      <td>3084.08</td>\n",
       "      <td>12550.00</td>\n",
       "      <td>15850.00</td>\n",
       "      <td>17835.00</td>\n",
       "      <td>20900.00</td>\n",
       "      <td>28880.00</td>\n",
       "    </tr>\n",
       "    <tr>\n",
       "      <th>...</th>\n",
       "      <th>...</th>\n",
       "      <th>...</th>\n",
       "      <td>...</td>\n",
       "      <td>...</td>\n",
       "      <td>...</td>\n",
       "      <td>...</td>\n",
       "      <td>...</td>\n",
       "      <td>...</td>\n",
       "      <td>...</td>\n",
       "      <td>...</td>\n",
       "    </tr>\n",
       "    <tr>\n",
       "      <th rowspan=\"5\" valign=\"top\">Renault Espace</th>\n",
       "      <th rowspan=\"5\" valign=\"top\">Van</th>\n",
       "      <th>1600.00</th>\n",
       "      <td>11.00</td>\n",
       "      <td>28226.27</td>\n",
       "      <td>6180.98</td>\n",
       "      <td>18999.00</td>\n",
       "      <td>22675.00</td>\n",
       "      <td>30650.00</td>\n",
       "      <td>33125.00</td>\n",
       "      <td>35300.00</td>\n",
       "    </tr>\n",
       "    <tr>\n",
       "      <th>1618.00</th>\n",
       "      <td>53.00</td>\n",
       "      <td>26831.98</td>\n",
       "      <td>6164.23</td>\n",
       "      <td>18480.00</td>\n",
       "      <td>25490.00</td>\n",
       "      <td>25490.00</td>\n",
       "      <td>26895.00</td>\n",
       "      <td>63477.00</td>\n",
       "    </tr>\n",
       "    <tr>\n",
       "      <th>1798.00</th>\n",
       "      <td>173.00</td>\n",
       "      <td>38147.24</td>\n",
       "      <td>7888.54</td>\n",
       "      <td>26800.00</td>\n",
       "      <td>31990.00</td>\n",
       "      <td>35990.00</td>\n",
       "      <td>40970.00</td>\n",
       "      <td>64332.00</td>\n",
       "    </tr>\n",
       "    <tr>\n",
       "      <th>1800.00</th>\n",
       "      <td>1.00</td>\n",
       "      <td>50750.00</td>\n",
       "      <td>NaN</td>\n",
       "      <td>50750.00</td>\n",
       "      <td>50750.00</td>\n",
       "      <td>50750.00</td>\n",
       "      <td>50750.00</td>\n",
       "      <td>50750.00</td>\n",
       "    </tr>\n",
       "    <tr>\n",
       "      <th>1997.00</th>\n",
       "      <td>92.00</td>\n",
       "      <td>39621.42</td>\n",
       "      <td>7514.27</td>\n",
       "      <td>12990.00</td>\n",
       "      <td>32975.00</td>\n",
       "      <td>39625.00</td>\n",
       "      <td>46262.50</td>\n",
       "      <td>56950.00</td>\n",
       "    </tr>\n",
       "  </tbody>\n",
       "</table>\n",
       "<p>296 rows × 8 columns</p>\n",
       "</div>"
      ],
      "text/plain": [
       "                                          count     mean     std      min  \\\n",
       "make_model     body_type displacement_cc                                    \n",
       "Audi A1        Compact   929.00            5.00 16364.00 1504.82 14980.00   \n",
       "                         995.00            2.00 21990.00 1414.21 20990.00   \n",
       "                         999.00          663.00 20294.10 4570.80  9950.00   \n",
       "                         1000.00           7.00 19498.43 5396.20 13500.00   \n",
       "                         1395.00          98.00 18246.62 3084.08 12550.00   \n",
       "...                                         ...      ...     ...      ...   \n",
       "Renault Espace Van       1600.00          11.00 28226.27 6180.98 18999.00   \n",
       "                         1618.00          53.00 26831.98 6164.23 18480.00   \n",
       "                         1798.00         173.00 38147.24 7888.54 26800.00   \n",
       "                         1800.00           1.00 50750.00     NaN 50750.00   \n",
       "                         1997.00          92.00 39621.42 7514.27 12990.00   \n",
       "\n",
       "                                              25%      50%      75%      max  \n",
       "make_model     body_type displacement_cc                                      \n",
       "Audi A1        Compact   929.00          15480.00 16240.00 16240.00 18880.00  \n",
       "                         995.00          21490.00 21990.00 22490.00 22990.00  \n",
       "                         999.00          16480.00 20380.00 22820.00 31990.00  \n",
       "                         1000.00         16024.50 16800.00 22695.00 28750.00  \n",
       "                         1395.00         15850.00 17835.00 20900.00 28880.00  \n",
       "...                                           ...      ...      ...      ...  \n",
       "Renault Espace Van       1600.00         22675.00 30650.00 33125.00 35300.00  \n",
       "                         1618.00         25490.00 25490.00 26895.00 63477.00  \n",
       "                         1798.00         31990.00 35990.00 40970.00 64332.00  \n",
       "                         1800.00         50750.00 50750.00 50750.00 50750.00  \n",
       "                         1997.00         32975.00 39625.00 46262.50 56950.00  \n",
       "\n",
       "[296 rows x 8 columns]"
      ]
     },
     "execution_count": 86,
     "metadata": {},
     "output_type": "execute_result"
    }
   ],
   "source": [
    "df.groupby([\"make_model\", \"body_type\",\"displacement_cc\"]).price.describe()"
   ]
  },
  {
   "cell_type": "code",
   "execution_count": 87,
   "metadata": {},
   "outputs": [
    {
     "name": "stdout",
     "output_type": "stream",
     "text": [
      "Number of NaN :  0\n",
      "------------------\n",
      "1598.00     5044\n",
      "999.00      2467\n",
      "1398.00     1387\n",
      "1399.00      768\n",
      "1229.00      678\n",
      "1956.00      670\n",
      "1461.00      667\n",
      "1490.00      559\n",
      "1422.00      467\n",
      "1197.00      372\n",
      "898.00       351\n",
      "1395.00      320\n",
      "1968.00      301\n",
      "1149.00      288\n",
      "1618.00      212\n",
      "1798.00      210\n",
      "1498.00      196\n",
      "1600.00      130\n",
      "1248.00      110\n",
      "1997.00      103\n",
      "1364.00      102\n",
      "1400.00       90\n",
      "998.00        72\n",
      "1500.00       50\n",
      "2000.00       46\n",
      "1000.00       40\n",
      "1.00          36\n",
      "1998.00       25\n",
      "2480.00       20\n",
      "1200.00       18\n",
      "1984.00       18\n",
      "1397.00       11\n",
      "899.00        11\n",
      "160.00         6\n",
      "929.00         5\n",
      "1499.00        5\n",
      "997.00         4\n",
      "1596.00        4\n",
      "139.00         4\n",
      "900.00         4\n",
      "1599.00        3\n",
      "1199.00        3\n",
      "1396.00        3\n",
      "1495.00        2\n",
      "1589.00        2\n",
      "1300.00        2\n",
      "2.00           2\n",
      "995.00         2\n",
      "1496.00        1\n",
      "890.00         1\n",
      "1580.00        1\n",
      "1995.00        1\n",
      "1333.00        1\n",
      "54.00          1\n",
      "1533.00        1\n",
      "1100.00        1\n",
      "1350.00        1\n",
      "16000.00       1\n",
      "1856.00        1\n",
      "1568.00        1\n",
      "1896.00        1\n",
      "1584.00        1\n",
      "996.00         1\n",
      "1696.00        1\n",
      "1686.00        1\n",
      "15898.00       1\n",
      "1368.00        1\n",
      "140.00         1\n",
      "973.00         1\n",
      "1239.00        1\n",
      "1369.00        1\n",
      "1390.00        1\n",
      "122.00         1\n",
      "1198.00        1\n",
      "1195.00        1\n",
      "2967.00        1\n",
      "1800.00        1\n",
      "Name: displacement_cc, dtype: int64\n"
     ]
    }
   ],
   "source": [
    "fill(df, \"make_model\", \"body_type\", \"displacement_cc\", \"mode\")"
   ]
  },
  {
   "cell_type": "markdown",
   "metadata": {},
   "source": [
    "### weight_kg"
   ]
  },
  {
   "cell_type": "code",
   "execution_count": 88,
   "metadata": {},
   "outputs": [
    {
     "name": "stdout",
     "output_type": "stream",
     "text": [
      "column name    :  weight_kg\n",
      "--------------------------------\n",
      "per_of_nulls   :  % 43.81\n",
      "num_of_nulls   :  6974\n",
      "num_of_uniques :  434\n",
      "--------------------------------\n",
      "NaN        6974\n",
      "1163.00     574\n",
      "1360.00     356\n",
      "1165.00     301\n",
      "1335.00     242\n",
      "           ... \n",
      "1960.00       1\n",
      "1258.00       1\n",
      "1167.00       1\n",
      "1331.00       1\n",
      "2037.00       1\n",
      "Name: weight_kg, Length: 435, dtype: int64\n"
     ]
    }
   ],
   "source": [
    "look_before(\"weight_kg\")"
   ]
  },
  {
   "cell_type": "code",
   "execution_count": 89,
   "metadata": {},
   "outputs": [
    {
     "data": {
      "text/html": [
       "<div>\n",
       "<style scoped>\n",
       "    .dataframe tbody tr th:only-of-type {\n",
       "        vertical-align: middle;\n",
       "    }\n",
       "\n",
       "    .dataframe tbody tr th {\n",
       "        vertical-align: top;\n",
       "    }\n",
       "\n",
       "    .dataframe thead th {\n",
       "        text-align: right;\n",
       "    }\n",
       "</style>\n",
       "<table border=\"1\" class=\"dataframe\">\n",
       "  <thead>\n",
       "    <tr style=\"text-align: right;\">\n",
       "      <th></th>\n",
       "      <th></th>\n",
       "      <th></th>\n",
       "      <th>count</th>\n",
       "      <th>mean</th>\n",
       "      <th>std</th>\n",
       "      <th>min</th>\n",
       "      <th>25%</th>\n",
       "      <th>50%</th>\n",
       "      <th>75%</th>\n",
       "      <th>max</th>\n",
       "    </tr>\n",
       "    <tr>\n",
       "      <th>make_model</th>\n",
       "      <th>body_type</th>\n",
       "      <th>weight_kg</th>\n",
       "      <th></th>\n",
       "      <th></th>\n",
       "      <th></th>\n",
       "      <th></th>\n",
       "      <th></th>\n",
       "      <th></th>\n",
       "      <th></th>\n",
       "      <th></th>\n",
       "    </tr>\n",
       "  </thead>\n",
       "  <tbody>\n",
       "    <tr>\n",
       "      <th rowspan=\"5\" valign=\"top\">Audi A1</th>\n",
       "      <th rowspan=\"5\" valign=\"top\">Compact</th>\n",
       "      <th>102.00</th>\n",
       "      <td>1.00</td>\n",
       "      <td>19229.00</td>\n",
       "      <td>NaN</td>\n",
       "      <td>19229.00</td>\n",
       "      <td>19229.00</td>\n",
       "      <td>19229.00</td>\n",
       "      <td>19229.00</td>\n",
       "      <td>19229.00</td>\n",
       "    </tr>\n",
       "    <tr>\n",
       "      <th>1010.00</th>\n",
       "      <td>2.00</td>\n",
       "      <td>15450.00</td>\n",
       "      <td>707.11</td>\n",
       "      <td>14950.00</td>\n",
       "      <td>15200.00</td>\n",
       "      <td>15450.00</td>\n",
       "      <td>15700.00</td>\n",
       "      <td>15950.00</td>\n",
       "    </tr>\n",
       "    <tr>\n",
       "      <th>1035.00</th>\n",
       "      <td>6.00</td>\n",
       "      <td>16796.67</td>\n",
       "      <td>2617.87</td>\n",
       "      <td>14390.00</td>\n",
       "      <td>15892.50</td>\n",
       "      <td>15900.00</td>\n",
       "      <td>16575.00</td>\n",
       "      <td>21900.00</td>\n",
       "    </tr>\n",
       "    <tr>\n",
       "      <th>1040.00</th>\n",
       "      <td>2.00</td>\n",
       "      <td>20424.50</td>\n",
       "      <td>2933.79</td>\n",
       "      <td>18350.00</td>\n",
       "      <td>19387.25</td>\n",
       "      <td>20424.50</td>\n",
       "      <td>21461.75</td>\n",
       "      <td>22499.00</td>\n",
       "    </tr>\n",
       "    <tr>\n",
       "      <th>1065.00</th>\n",
       "      <td>36.00</td>\n",
       "      <td>20971.78</td>\n",
       "      <td>1982.55</td>\n",
       "      <td>15500.00</td>\n",
       "      <td>18987.50</td>\n",
       "      <td>21690.00</td>\n",
       "      <td>22400.00</td>\n",
       "      <td>23550.00</td>\n",
       "    </tr>\n",
       "    <tr>\n",
       "      <th>...</th>\n",
       "      <th>...</th>\n",
       "      <th>...</th>\n",
       "      <td>...</td>\n",
       "      <td>...</td>\n",
       "      <td>...</td>\n",
       "      <td>...</td>\n",
       "      <td>...</td>\n",
       "      <td>...</td>\n",
       "      <td>...</td>\n",
       "      <td>...</td>\n",
       "    </tr>\n",
       "    <tr>\n",
       "      <th rowspan=\"5\" valign=\"top\">Renault Espace</th>\n",
       "      <th rowspan=\"5\" valign=\"top\">Van</th>\n",
       "      <th>1975.00</th>\n",
       "      <td>1.00</td>\n",
       "      <td>47580.00</td>\n",
       "      <td>NaN</td>\n",
       "      <td>47580.00</td>\n",
       "      <td>47580.00</td>\n",
       "      <td>47580.00</td>\n",
       "      <td>47580.00</td>\n",
       "      <td>47580.00</td>\n",
       "    </tr>\n",
       "    <tr>\n",
       "      <th>2037.00</th>\n",
       "      <td>1.00</td>\n",
       "      <td>47950.00</td>\n",
       "      <td>NaN</td>\n",
       "      <td>47950.00</td>\n",
       "      <td>47950.00</td>\n",
       "      <td>47950.00</td>\n",
       "      <td>47950.00</td>\n",
       "      <td>47950.00</td>\n",
       "    </tr>\n",
       "    <tr>\n",
       "      <th>2353.00</th>\n",
       "      <td>1.00</td>\n",
       "      <td>22990.00</td>\n",
       "      <td>NaN</td>\n",
       "      <td>22990.00</td>\n",
       "      <td>22990.00</td>\n",
       "      <td>22990.00</td>\n",
       "      <td>22990.00</td>\n",
       "      <td>22990.00</td>\n",
       "    </tr>\n",
       "    <tr>\n",
       "      <th>2410.00</th>\n",
       "      <td>1.00</td>\n",
       "      <td>23990.00</td>\n",
       "      <td>NaN</td>\n",
       "      <td>23990.00</td>\n",
       "      <td>23990.00</td>\n",
       "      <td>23990.00</td>\n",
       "      <td>23990.00</td>\n",
       "      <td>23990.00</td>\n",
       "    </tr>\n",
       "    <tr>\n",
       "      <th>2471.00</th>\n",
       "      <td>5.00</td>\n",
       "      <td>24738.00</td>\n",
       "      <td>8470.64</td>\n",
       "      <td>17400.00</td>\n",
       "      <td>20900.00</td>\n",
       "      <td>20900.00</td>\n",
       "      <td>25500.00</td>\n",
       "      <td>38990.00</td>\n",
       "    </tr>\n",
       "  </tbody>\n",
       "</table>\n",
       "<p>890 rows × 8 columns</p>\n",
       "</div>"
      ],
      "text/plain": [
       "                                    count     mean     std      min      25%  \\\n",
       "make_model     body_type weight_kg                                             \n",
       "Audi A1        Compact   102.00      1.00 19229.00     NaN 19229.00 19229.00   \n",
       "                         1010.00     2.00 15450.00  707.11 14950.00 15200.00   \n",
       "                         1035.00     6.00 16796.67 2617.87 14390.00 15892.50   \n",
       "                         1040.00     2.00 20424.50 2933.79 18350.00 19387.25   \n",
       "                         1065.00    36.00 20971.78 1982.55 15500.00 18987.50   \n",
       "...                                   ...      ...     ...      ...      ...   \n",
       "Renault Espace Van       1975.00     1.00 47580.00     NaN 47580.00 47580.00   \n",
       "                         2037.00     1.00 47950.00     NaN 47950.00 47950.00   \n",
       "                         2353.00     1.00 22990.00     NaN 22990.00 22990.00   \n",
       "                         2410.00     1.00 23990.00     NaN 23990.00 23990.00   \n",
       "                         2471.00     5.00 24738.00 8470.64 17400.00 20900.00   \n",
       "\n",
       "                                        50%      75%      max  \n",
       "make_model     body_type weight_kg                             \n",
       "Audi A1        Compact   102.00    19229.00 19229.00 19229.00  \n",
       "                         1010.00   15450.00 15700.00 15950.00  \n",
       "                         1035.00   15900.00 16575.00 21900.00  \n",
       "                         1040.00   20424.50 21461.75 22499.00  \n",
       "                         1065.00   21690.00 22400.00 23550.00  \n",
       "...                                     ...      ...      ...  \n",
       "Renault Espace Van       1975.00   47580.00 47580.00 47580.00  \n",
       "                         2037.00   47950.00 47950.00 47950.00  \n",
       "                         2353.00   22990.00 22990.00 22990.00  \n",
       "                         2410.00   23990.00 23990.00 23990.00  \n",
       "                         2471.00   20900.00 25500.00 38990.00  \n",
       "\n",
       "[890 rows x 8 columns]"
      ]
     },
     "execution_count": 89,
     "metadata": {},
     "output_type": "execute_result"
    }
   ],
   "source": [
    "df.groupby([\"make_model\", \"body_type\",\"weight_kg\"]).price.describe()"
   ]
  },
  {
   "cell_type": "code",
   "execution_count": 90,
   "metadata": {},
   "outputs": [
    {
     "name": "stdout",
     "output_type": "stream",
     "text": [
      "Number of NaN :  0\n",
      "------------------\n",
      "1163.00    1582\n",
      "1360.00    1406\n",
      "1487.00     957\n",
      "1135.00     828\n",
      "1425.00     731\n",
      "           ... \n",
      "1331.00       1\n",
      "1132.00       1\n",
      "1252.00       1\n",
      "1792.00       1\n",
      "2037.00       1\n",
      "Name: weight_kg, Length: 434, dtype: int64\n"
     ]
    }
   ],
   "source": [
    "fill(df, \"make_model\", \"body_type\", \"weight_kg\", \"mode\")"
   ]
  },
  {
   "cell_type": "markdown",
   "metadata": {},
   "source": [
    "### co2_emission"
   ]
  },
  {
   "cell_type": "code",
   "execution_count": 91,
   "metadata": {},
   "outputs": [
    {
     "name": "stdout",
     "output_type": "stream",
     "text": [
      "column name    :  co2_emission\n",
      "--------------------------------\n",
      "per_of_nulls   :  % 15.3\n",
      "num_of_nulls   :  2436\n",
      "num_of_uniques :  122\n",
      "--------------------------------\n",
      "NaN        2436\n",
      "120.00      740\n",
      "99.00       545\n",
      "97.00       537\n",
      "104.00      501\n",
      "           ... \n",
      "14.00         1\n",
      "1060.00       1\n",
      "51.00         1\n",
      "165.00        1\n",
      "193.00        1\n",
      "Name: co2_emission, Length: 123, dtype: int64\n"
     ]
    }
   ],
   "source": [
    "look_before(\"co2_emission\")"
   ]
  },
  {
   "cell_type": "code",
   "execution_count": 92,
   "metadata": {},
   "outputs": [
    {
     "data": {
      "text/html": [
       "<div>\n",
       "<style scoped>\n",
       "    .dataframe tbody tr th:only-of-type {\n",
       "        vertical-align: middle;\n",
       "    }\n",
       "\n",
       "    .dataframe tbody tr th {\n",
       "        vertical-align: top;\n",
       "    }\n",
       "\n",
       "    .dataframe thead th {\n",
       "        text-align: right;\n",
       "    }\n",
       "</style>\n",
       "<table border=\"1\" class=\"dataframe\">\n",
       "  <thead>\n",
       "    <tr style=\"text-align: right;\">\n",
       "      <th></th>\n",
       "      <th></th>\n",
       "      <th></th>\n",
       "      <th>count</th>\n",
       "      <th>mean</th>\n",
       "      <th>std</th>\n",
       "      <th>min</th>\n",
       "      <th>25%</th>\n",
       "      <th>50%</th>\n",
       "      <th>75%</th>\n",
       "      <th>max</th>\n",
       "    </tr>\n",
       "    <tr>\n",
       "      <th>make_model</th>\n",
       "      <th>body_type</th>\n",
       "      <th>co2_emission</th>\n",
       "      <th></th>\n",
       "      <th></th>\n",
       "      <th></th>\n",
       "      <th></th>\n",
       "      <th></th>\n",
       "      <th></th>\n",
       "      <th></th>\n",
       "      <th></th>\n",
       "    </tr>\n",
       "  </thead>\n",
       "  <tbody>\n",
       "    <tr>\n",
       "      <th rowspan=\"5\" valign=\"top\">Audi A1</th>\n",
       "      <th rowspan=\"5\" valign=\"top\">Compact</th>\n",
       "      <th>90.00</th>\n",
       "      <td>1.00</td>\n",
       "      <td>12880.00</td>\n",
       "      <td>NaN</td>\n",
       "      <td>12880.00</td>\n",
       "      <td>12880.00</td>\n",
       "      <td>12880.00</td>\n",
       "      <td>12880.00</td>\n",
       "      <td>12880.00</td>\n",
       "    </tr>\n",
       "    <tr>\n",
       "      <th>91.00</th>\n",
       "      <td>5.00</td>\n",
       "      <td>13038.00</td>\n",
       "      <td>1108.93</td>\n",
       "      <td>11800.00</td>\n",
       "      <td>11850.00</td>\n",
       "      <td>13800.00</td>\n",
       "      <td>13800.00</td>\n",
       "      <td>13940.00</td>\n",
       "    </tr>\n",
       "    <tr>\n",
       "      <th>92.00</th>\n",
       "      <td>1.00</td>\n",
       "      <td>12479.00</td>\n",
       "      <td>NaN</td>\n",
       "      <td>12479.00</td>\n",
       "      <td>12479.00</td>\n",
       "      <td>12479.00</td>\n",
       "      <td>12479.00</td>\n",
       "      <td>12479.00</td>\n",
       "    </tr>\n",
       "    <tr>\n",
       "      <th>94.00</th>\n",
       "      <td>5.00</td>\n",
       "      <td>13960.00</td>\n",
       "      <td>1232.07</td>\n",
       "      <td>12900.00</td>\n",
       "      <td>12900.00</td>\n",
       "      <td>13900.00</td>\n",
       "      <td>14200.00</td>\n",
       "      <td>15900.00</td>\n",
       "    </tr>\n",
       "    <tr>\n",
       "      <th>97.00</th>\n",
       "      <td>113.00</td>\n",
       "      <td>15449.59</td>\n",
       "      <td>2445.75</td>\n",
       "      <td>10900.00</td>\n",
       "      <td>13770.00</td>\n",
       "      <td>15400.00</td>\n",
       "      <td>16700.00</td>\n",
       "      <td>23500.00</td>\n",
       "    </tr>\n",
       "    <tr>\n",
       "      <th>...</th>\n",
       "      <th>...</th>\n",
       "      <th>...</th>\n",
       "      <td>...</td>\n",
       "      <td>...</td>\n",
       "      <td>...</td>\n",
       "      <td>...</td>\n",
       "      <td>...</td>\n",
       "      <td>...</td>\n",
       "      <td>...</td>\n",
       "      <td>...</td>\n",
       "    </tr>\n",
       "    <tr>\n",
       "      <th rowspan=\"5\" valign=\"top\">Renault Espace</th>\n",
       "      <th rowspan=\"5\" valign=\"top\">Van</th>\n",
       "      <th>175.00</th>\n",
       "      <td>6.00</td>\n",
       "      <td>36931.67</td>\n",
       "      <td>2811.67</td>\n",
       "      <td>33781.00</td>\n",
       "      <td>35630.00</td>\n",
       "      <td>35830.00</td>\n",
       "      <td>38286.75</td>\n",
       "      <td>41480.00</td>\n",
       "    </tr>\n",
       "    <tr>\n",
       "      <th>188.00</th>\n",
       "      <td>1.00</td>\n",
       "      <td>43080.00</td>\n",
       "      <td>NaN</td>\n",
       "      <td>43080.00</td>\n",
       "      <td>43080.00</td>\n",
       "      <td>43080.00</td>\n",
       "      <td>43080.00</td>\n",
       "      <td>43080.00</td>\n",
       "    </tr>\n",
       "    <tr>\n",
       "      <th>191.00</th>\n",
       "      <td>2.00</td>\n",
       "      <td>28465.00</td>\n",
       "      <td>0.00</td>\n",
       "      <td>28465.00</td>\n",
       "      <td>28465.00</td>\n",
       "      <td>28465.00</td>\n",
       "      <td>28465.00</td>\n",
       "      <td>28465.00</td>\n",
       "    </tr>\n",
       "    <tr>\n",
       "      <th>193.00</th>\n",
       "      <td>1.00</td>\n",
       "      <td>38990.00</td>\n",
       "      <td>NaN</td>\n",
       "      <td>38990.00</td>\n",
       "      <td>38990.00</td>\n",
       "      <td>38990.00</td>\n",
       "      <td>38990.00</td>\n",
       "      <td>38990.00</td>\n",
       "    </tr>\n",
       "    <tr>\n",
       "      <th>194.00</th>\n",
       "      <td>1.00</td>\n",
       "      <td>46490.00</td>\n",
       "      <td>NaN</td>\n",
       "      <td>46490.00</td>\n",
       "      <td>46490.00</td>\n",
       "      <td>46490.00</td>\n",
       "      <td>46490.00</td>\n",
       "      <td>46490.00</td>\n",
       "    </tr>\n",
       "  </tbody>\n",
       "</table>\n",
       "<p>779 rows × 8 columns</p>\n",
       "</div>"
      ],
      "text/plain": [
       "                                       count     mean     std      min  \\\n",
       "make_model     body_type co2_emission                                    \n",
       "Audi A1        Compact   90.00          1.00 12880.00     NaN 12880.00   \n",
       "                         91.00          5.00 13038.00 1108.93 11800.00   \n",
       "                         92.00          1.00 12479.00     NaN 12479.00   \n",
       "                         94.00          5.00 13960.00 1232.07 12900.00   \n",
       "                         97.00        113.00 15449.59 2445.75 10900.00   \n",
       "...                                      ...      ...     ...      ...   \n",
       "Renault Espace Van       175.00         6.00 36931.67 2811.67 33781.00   \n",
       "                         188.00         1.00 43080.00     NaN 43080.00   \n",
       "                         191.00         2.00 28465.00    0.00 28465.00   \n",
       "                         193.00         1.00 38990.00     NaN 38990.00   \n",
       "                         194.00         1.00 46490.00     NaN 46490.00   \n",
       "\n",
       "                                           25%      50%      75%      max  \n",
       "make_model     body_type co2_emission                                      \n",
       "Audi A1        Compact   90.00        12880.00 12880.00 12880.00 12880.00  \n",
       "                         91.00        11850.00 13800.00 13800.00 13940.00  \n",
       "                         92.00        12479.00 12479.00 12479.00 12479.00  \n",
       "                         94.00        12900.00 13900.00 14200.00 15900.00  \n",
       "                         97.00        13770.00 15400.00 16700.00 23500.00  \n",
       "...                                        ...      ...      ...      ...  \n",
       "Renault Espace Van       175.00       35630.00 35830.00 38286.75 41480.00  \n",
       "                         188.00       43080.00 43080.00 43080.00 43080.00  \n",
       "                         191.00       28465.00 28465.00 28465.00 28465.00  \n",
       "                         193.00       38990.00 38990.00 38990.00 38990.00  \n",
       "                         194.00       46490.00 46490.00 46490.00 46490.00  \n",
       "\n",
       "[779 rows x 8 columns]"
      ]
     },
     "execution_count": 92,
     "metadata": {},
     "output_type": "execute_result"
    }
   ],
   "source": [
    "df.groupby([\"make_model\", \"body_type\",\"co2_emission\"]).price.describe()"
   ]
  },
  {
   "cell_type": "code",
   "execution_count": 93,
   "metadata": {},
   "outputs": [
    {
     "name": "stdout",
     "output_type": "stream",
     "text": [
      "Number of NaN :  0\n",
      "------------------\n",
      "120.00     850\n",
      "119.00     694\n",
      "102.00     689\n",
      "104.00     679\n",
      "106.00     615\n",
      "          ... \n",
      "80.00        1\n",
      "990.00       1\n",
      "1060.00      1\n",
      "331.00       1\n",
      "193.00       1\n",
      "Name: co2_emission, Length: 126, dtype: int64\n"
     ]
    }
   ],
   "source": [
    "fill(df, \"make_model\", \"body_type\", \"co2_emission\", \"median\")"
   ]
  },
  {
   "cell_type": "markdown",
   "metadata": {},
   "source": [
    "### comfort_convenience"
   ]
  },
  {
   "cell_type": "code",
   "execution_count": 94,
   "metadata": {},
   "outputs": [
    {
     "name": "stdout",
     "output_type": "stream",
     "text": [
      "column name    :  comfort_convenience\n",
      "--------------------------------\n",
      "per_of_nulls   :  % 5.78\n",
      "num_of_nulls   :  920\n",
      "num_of_uniques :  6198\n",
      "--------------------------------\n",
      "NaN                                                                                                                                                                                                                                                                                                                                                                                                                                                                                                  920\n",
      "Air conditioning,Electrical side mirrors,Hill Holder,Power windows                                                                                                                                                                                                                                                                                                                                                                                                                                   216\n",
      "Air conditioning,Electrical side mirrors,Power windows                                                                                                                                                                                                                                                                                                                                                                                                                                               134\n",
      "Air conditioning,Power windows                                                                                                                                                                                                                                                                                                                                                                                                                                                                       130\n",
      "Air conditioning,Armrest,Automatic climate control,Cruise control,Electrical side mirrors,Leather steering wheel,Light sensor,Lumbar support,Multi-function steering wheel,Navigation system,Park Distance Control,Parking assist system sensors front,Parking assist system sensors rear,Power windows,Rain sensor,Seat heating,Start-stop system                                                                                                                                                   105\n",
      "                                                                                                                                                                                                                                                                                                                                                                                                                                                                                                    ... \n",
      "Air conditioning,Cruise control,Electrical side mirrors,Hill Holder,Leather steering wheel,Light sensor,Multi-function steering wheel,Navigation system,Park Distance Control,Parking assist system sensors rear,Power windows,Rain sensor,Split rear seats,Start-stop system,Tinted windows                                                                                                                                                                                                           1\n",
      "Air conditioning,Armrest,Automatic climate control,Cruise control,Electrical side mirrors,Heated steering wheel,Hill Holder,Leather steering wheel,Light sensor,Lumbar support,Multi-function steering wheel,Navigation system,Park Distance Control,Parking assist system camera,Parking assist system sensors front,Parking assist system sensors rear,Power windows,Rain sensor,Seat heating,Sunroof                                                                                                1\n",
      "Air conditioning,Armrest,Cruise control,Electrical side mirrors,Heated steering wheel,Hill Holder,Leather steering wheel,Light sensor,Multi-function steering wheel,Park Distance Control,Parking assist system camera,Parking assist system sensors front,Parking assist system sensors rear,Power windows,Rain sensor,Seat heating,Split rear seats,Start-stop system,Tinted windows                                                                                                                 1\n",
      "Air conditioning,Automatic climate control,Cruise control,Electrical side mirrors,Leather steering wheel,Light sensor,Multi-function steering wheel,Park Distance Control,Parking assist system sensors front,Parking assist system sensors rear,Power windows,Rain sensor,Seat heating                                                                                                                                                                                                                1\n",
      "Air conditioning,Automatic climate control,Cruise control,Electrically heated windshield,Electrical side mirrors,Electric tailgate,Heads-up display,Heated steering wheel,Hill Holder,Keyless central door lock,Leather steering wheel,Light sensor,Lumbar support,Navigation system,Park Distance Control,Parking assist system camera,Parking assist system self-steering,Parking assist system sensors front,Parking assist system sensors rear,Power windows,Rain sensor,Seat heating,Sunroof      1\n",
      "Name: comfort_convenience, Length: 6199, dtype: int64\n"
     ]
    }
   ],
   "source": [
    "look_before(\"comfort_convenience\")"
   ]
  },
  {
   "cell_type": "code",
   "execution_count": 95,
   "metadata": {},
   "outputs": [
    {
     "name": "stdout",
     "output_type": "stream",
     "text": [
      "Number of NaN :  0\n",
      "------------------\n",
      "Air conditioning,Electrical side mirrors,Hill Holder,Power windows                                                                                                                                                                                                                                                                                                                                                                                                                                   315\n",
      "Air conditioning,Armrest,Automatic climate control,Cruise control,Electrical side mirrors,Leather steering wheel,Light sensor,Lumbar support,Multi-function steering wheel,Navigation system,Park Distance Control,Parking assist system sensors front,Parking assist system sensors rear,Power windows,Rain sensor,Seat heating,Start-stop system                                                                                                                                                   187\n",
      "Air conditioning,Automatic climate control,Cruise control,Multi-function steering wheel,Park Distance Control,Power windows                                                                                                                                                                                                                                                                                                                                                                          158\n",
      "Air conditioning,Electrical side mirrors,Power windows                                                                                                                                                                                                                                                                                                                                                                                                                                               134\n",
      "Air conditioning,Power windows                                                                                                                                                                                                                                                                                                                                                                                                                                                                       130\n",
      "                                                                                                                                                                                                                                                                                                                                                                                                                                                                                                    ... \n",
      "Air conditioning,Armrest,Cruise control,Electrical side mirrors,Heated steering wheel,Hill Holder,Leather steering wheel,Light sensor,Multi-function steering wheel,Park Distance Control,Parking assist system camera,Parking assist system sensors rear,Power windows,Rain sensor,Seat heating,Split rear seats,Start-stop system,Sunroof,Tinted windows                                                                                                                                             1\n",
      "Air conditioning,Armrest,Cruise control,Hill Holder,Leather steering wheel,Multi-function steering wheel,Park Distance Control,Parking assist system sensors front,Parking assist system sensors rear,Power windows                                                                                                                                                                                                                                                                                    1\n",
      "Air conditioning,Armrest,Automatic climate control,Cruise control,Electrical side mirrors,Leather steering wheel,Multi-function steering wheel,Power windows,Rain sensor,Start-stop system,Tinted windows                                                                                                                                                                                                                                                                                              1\n",
      "Air conditioning,Armrest,Automatic climate control,Cruise control,Electrically adjustable seats,Leather steering wheel,Light sensor,Navigation system,Power windows,Rain sensor                                                                                                                                                                                                                                                                                                                        1\n",
      "Air conditioning,Automatic climate control,Cruise control,Electrically heated windshield,Electrical side mirrors,Electric tailgate,Heads-up display,Heated steering wheel,Hill Holder,Keyless central door lock,Leather steering wheel,Light sensor,Lumbar support,Navigation system,Park Distance Control,Parking assist system camera,Parking assist system self-steering,Parking assist system sensors front,Parking assist system sensors rear,Power windows,Rain sensor,Seat heating,Sunroof      1\n",
      "Name: comfort_convenience, Length: 6198, dtype: int64\n"
     ]
    }
   ],
   "source": [
    "fill(df, \"make_model\", \"body_type\", \"comfort_convenience\", \"mode\")"
   ]
  },
  {
   "cell_type": "markdown",
   "metadata": {},
   "source": [
    "### entertainment_media"
   ]
  },
  {
   "cell_type": "code",
   "execution_count": 96,
   "metadata": {},
   "outputs": [
    {
     "name": "stdout",
     "output_type": "stream",
     "text": [
      "column name    :  entertainment_media\n",
      "--------------------------------\n",
      "per_of_nulls   :  % 8.63\n",
      "num_of_nulls   :  1374\n",
      "num_of_uniques :  346\n",
      "--------------------------------\n",
      "NaN                                                                                                 1374\n",
      "Bluetooth,Hands-free equipment,On-board computer,Radio,USB                                          1282\n",
      "Bluetooth,Hands-free equipment,MP3,On-board computer,Radio,USB                                       982\n",
      "Bluetooth,CD player,Hands-free equipment,MP3,On-board computer,Radio,USB                             783\n",
      "On-board computer,Radio                                                                              487\n",
      "                                                                                                    ... \n",
      "Bluetooth,CD player,Digital radio,Hands-free equipment,Radio                                           1\n",
      "CD player,Hands-free equipment,MP3,Radio,USB                                                           1\n",
      "MP3,Radio,Sound system,USB                                                                             1\n",
      "Bluetooth,MP3,On-board computer,Radio,Television,USB                                                   1\n",
      "Bluetooth,CD player,Hands-free equipment,MP3,On-board computer,Radio,Sound system,Television,USB       1\n",
      "Name: entertainment_media, Length: 347, dtype: int64\n"
     ]
    }
   ],
   "source": [
    "look_before(\"entertainment_media\")"
   ]
  },
  {
   "cell_type": "code",
   "execution_count": 97,
   "metadata": {},
   "outputs": [
    {
     "name": "stdout",
     "output_type": "stream",
     "text": [
      "Number of NaN :  0\n",
      "------------------\n",
      "Bluetooth,Hands-free equipment,On-board computer,Radio,USB                      1639\n",
      "Bluetooth,Hands-free equipment,MP3,On-board computer,Radio,USB                  1063\n",
      "Bluetooth,CD player,Hands-free equipment,MP3,On-board computer,Radio,USB        1007\n",
      "On-board computer                                                                681\n",
      "Radio                                                                            558\n",
      "                                                                                ... \n",
      "Bluetooth,CD player,MP3                                                            1\n",
      "CD player,USB                                                                      1\n",
      "Bluetooth,CD player,Digital radio,Radio,USB                                        1\n",
      "Bluetooth,CD player,Digital radio,MP3,On-board computer,Radio,Television,USB       1\n",
      "Hands-free equipment,On-board computer,Radio,Sound system                          1\n",
      "Name: entertainment_media, Length: 346, dtype: int64\n"
     ]
    }
   ],
   "source": [
    "fill(df, \"make_model\", \"body_type\", \"entertainment_media\", \"mode\")"
   ]
  },
  {
   "cell_type": "markdown",
   "metadata": {},
   "source": [
    "### extras"
   ]
  },
  {
   "cell_type": "code",
   "execution_count": 98,
   "metadata": {},
   "outputs": [
    {
     "name": "stdout",
     "output_type": "stream",
     "text": [
      "column name    :  extras\n",
      "--------------------------------\n",
      "per_of_nulls   :  % 18.61\n",
      "num_of_nulls   :  2962\n",
      "num_of_uniques :  659\n",
      "--------------------------------\n",
      "Alloy wheels                                                                                               3245\n",
      "NaN                                                                                                        2962\n",
      "Alloy wheels,Touch screen                                                                                   697\n",
      "Alloy wheels,Voice Control                                                                                  577\n",
      "Alloy wheels,Touch screen,Voice Control                                                                     541\n",
      "                                                                                                           ... \n",
      "Alloy wheels,Catalytic Converter,Shift paddles,Sport package,Sport seats,Sport suspension,Voice Control       1\n",
      "Alloy wheels,Catalytic Converter,Roof rack,Sport package,Sport seats,Trailer hitch                            1\n",
      "Alloy wheels,Catalytic Converter,Ski bag,Sport package,Voice Control                                          1\n",
      "Catalytic Converter,Roof rack,Sport seats,Sport suspension                                                    1\n",
      "Alloy wheels,Shift paddles,Ski bag,Sport seats,Sport suspension,Touch screen,Voice Control                    1\n",
      "Name: extras, Length: 660, dtype: int64\n"
     ]
    }
   ],
   "source": [
    "look_before(\"extras\")"
   ]
  },
  {
   "cell_type": "code",
   "execution_count": 99,
   "metadata": {},
   "outputs": [
    {
     "name": "stdout",
     "output_type": "stream",
     "text": [
      "Number of NaN :  0\n",
      "------------------\n",
      "Alloy wheels                                                                                               5884\n",
      "Alloy wheels,Touch screen                                                                                   697\n",
      "Alloy wheels,Voice Control                                                                                  582\n",
      "Alloy wheels,Touch screen,Voice Control                                                                     544\n",
      "Roof rack                                                                                                   538\n",
      "                                                                                                           ... \n",
      "Alloy wheels,Catalytic Converter,Shift paddles,Sport package,Sport seats,Sport suspension,Voice Control       1\n",
      "Alloy wheels,Catalytic Converter,Roof rack,Sport package,Sport seats,Trailer hitch                            1\n",
      "Alloy wheels,Catalytic Converter,Ski bag,Sport package,Voice Control                                          1\n",
      "Catalytic Converter,Roof rack,Sport seats,Sport suspension                                                    1\n",
      "Alloy wheels,Shift paddles,Ski bag,Sport seats,Sport suspension,Touch screen,Voice Control                    1\n",
      "Name: extras, Length: 659, dtype: int64\n"
     ]
    }
   ],
   "source": [
    "fill(df, \"make_model\", \"body_type\", \"extras\", \"mode\")"
   ]
  },
  {
   "cell_type": "markdown",
   "metadata": {},
   "source": [
    "### safety_security"
   ]
  },
  {
   "cell_type": "code",
   "execution_count": 100,
   "metadata": {},
   "outputs": [
    {
     "name": "stdout",
     "output_type": "stream",
     "text": [
      "column name    :  safety_security\n",
      "--------------------------------\n",
      "per_of_nulls   :  % 6.17\n",
      "num_of_nulls   :  982\n",
      "num_of_uniques :  4443\n",
      "--------------------------------\n",
      "NaN                                                                                                                                                                                                                                                                                                                                                               982\n",
      "ABS,Central door lock,Daytime running lights,Driver-side airbag,Electronic stability control,Fog lights,Immobilizer,Isofix,Passenger-side airbag,Power steering,Side airbag,Tire pressure monitoring system,Traction control                                                                                                                                      538\n",
      "ABS,Central door lock,Daytime running lights,Driver-side airbag,Electronic stability control,Immobilizer,Isofix,Passenger-side airbag,Power steering,Side airbag,Tire pressure monitoring system,Traction control                                                                                                                                                 480\n",
      "ABS,Central door lock,Daytime running lights,Driver-side airbag,Electronic stability control,Immobilizer,Isofix,Passenger-side airbag,Power steering,Side airbag,Tire pressure monitoring system,Traction control,Xenon headlights                                                                                                                                275\n",
      "ABS,Central door lock,Daytime running lights,Driver-side airbag,Electronic stability control,Fog lights,Immobilizer,Isofix,LED Daytime Running Lights,Passenger-side airbag,Power steering,Side airbag,Tire pressure monitoring system,Traction control                                                                                                           272\n",
      "                                                                                                                                                                                                                                                                                                                                                                 ... \n",
      "ABS,Central door lock,Electronic stability control,Immobilizer,Isofix,Passenger-side airbag,Power steering,Side airbag                                                                                                                                                                                                                                              1\n",
      "ABS,Adaptive Cruise Control,Central door lock,Daytime running lights,Driver-side airbag,Electronic stability control,Emergency brake assistant,Immobilizer,Isofix,Passenger-side airbag,Power steering,Side airbag,Tire pressure monitoring system,Traction control                                                                                                 1\n",
      "ABS,Adaptive Cruise Control,Alarm system,Central door lock,Driver-side airbag,Electronic stability control,Fog lights,Immobilizer,Isofix,Lane departure warning system,LED Daytime Running Lights,Passenger-side airbag,Power steering,Side airbag,Tire pressure monitoring system,Traction control,Xenon headlights                                                1\n",
      "ABS,Adaptive Cruise Control,Central door lock,Daytime running lights,Driver-side airbag,Electronic stability control,Fog lights,Immobilizer,Isofix,Power steering,Tire pressure monitoring system,Traction control                                                                                                                                                  1\n",
      "ABS,Adaptive Cruise Control,Central door lock,Daytime running lights,Driver-side airbag,Electronic stability control,Emergency brake assistant,Fog lights,Immobilizer,Isofix,Lane departure warning system,LED Daytime Running Lights,LED Headlights,Passenger-side airbag,Power steering,Side airbag,Tire pressure monitoring system,Traffic sign recognition      1\n",
      "Name: safety_security, Length: 4444, dtype: int64\n"
     ]
    }
   ],
   "source": [
    "look_before(\"safety_security\")"
   ]
  },
  {
   "cell_type": "code",
   "execution_count": 101,
   "metadata": {},
   "outputs": [
    {
     "name": "stdout",
     "output_type": "stream",
     "text": [
      "Number of NaN :  0\n",
      "------------------\n",
      "ABS,Central door lock,Daytime running lights,Driver-side airbag,Electronic stability control,Fog lights,Immobilizer,Isofix,Passenger-side airbag,Power steering,Side airbag,Tire pressure monitoring system,Traction control                                                                                                                                      729\n",
      "ABS,Central door lock,Daytime running lights,Driver-side airbag,Electronic stability control,Immobilizer,Isofix,Passenger-side airbag,Power steering,Side airbag,Tire pressure monitoring system,Traction control                                                                                                                                                 480\n",
      "ABS,Central door lock,Daytime running lights,Driver-side airbag,Electronic stability control,Fog lights,Immobilizer,Isofix,LED Daytime Running Lights,Passenger-side airbag,Power steering,Side airbag,Tire pressure monitoring system,Traction control                                                                                                           373\n",
      "ABS,Central door lock,Daytime running lights,Driver-side airbag,Electronic stability control,Immobilizer,Isofix,Passenger-side airbag,Power steering,Side airbag,Tire pressure monitoring system,Traction control,Xenon headlights                                                                                                                                351\n",
      "ABS,Central door lock,Daytime running lights,Driver-side airbag,Electronic stability control,Isofix,Passenger-side airbag,Power steering,Side airbag,Tire pressure monitoring system,Traction control                                                                                                                                                             306\n",
      "                                                                                                                                                                                                                                                                                                                                                                 ... \n",
      "ABS,Central door lock,Electronic stability control,Immobilizer,Isofix,Passenger-side airbag,Power steering,Side airbag                                                                                                                                                                                                                                              1\n",
      "ABS,Adaptive Cruise Control,Central door lock,Daytime running lights,Driver-side airbag,Electronic stability control,Emergency brake assistant,Immobilizer,Isofix,Passenger-side airbag,Power steering,Side airbag,Tire pressure monitoring system,Traction control                                                                                                 1\n",
      "ABS,Adaptive Cruise Control,Alarm system,Central door lock,Driver-side airbag,Electronic stability control,Fog lights,Immobilizer,Isofix,Lane departure warning system,LED Daytime Running Lights,Passenger-side airbag,Power steering,Side airbag,Tire pressure monitoring system,Traction control,Xenon headlights                                                1\n",
      "ABS,Adaptive Cruise Control,Central door lock,Daytime running lights,Driver-side airbag,Electronic stability control,Fog lights,Immobilizer,Isofix,Power steering,Tire pressure monitoring system,Traction control                                                                                                                                                  1\n",
      "ABS,Adaptive Cruise Control,Central door lock,Daytime running lights,Driver-side airbag,Electronic stability control,Emergency brake assistant,Fog lights,Immobilizer,Isofix,Lane departure warning system,LED Daytime Running Lights,LED Headlights,Passenger-side airbag,Power steering,Side airbag,Tire pressure monitoring system,Traffic sign recognition      1\n",
      "Name: safety_security, Length: 4443, dtype: int64\n"
     ]
    }
   ],
   "source": [
    "fill(df, \"make_model\", \"body_type\", \"safety_security\", \"mode\")"
   ]
  },
  {
   "cell_type": "markdown",
   "metadata": {},
   "source": [
    "### cons_comb"
   ]
  },
  {
   "cell_type": "code",
   "execution_count": 102,
   "metadata": {},
   "outputs": [
    {
     "name": "stdout",
     "output_type": "stream",
     "text": [
      "column name    :  cons_comb\n",
      "--------------------------------\n",
      "per_of_nulls   :  % 12.77\n",
      "num_of_nulls   :  2033\n",
      "num_of_uniques :  59\n",
      "--------------------------------\n",
      "NaN     2033\n",
      "5.40     770\n",
      "3.90     733\n",
      "4.00     717\n",
      "5.10     657\n",
      "4.40     623\n",
      "5.60     618\n",
      "4.70     602\n",
      "3.80     585\n",
      "5.00     552\n",
      "4.80     546\n",
      "4.50     523\n",
      "5.20     454\n",
      "4.20     435\n",
      "4.60     426\n",
      "4.90     393\n",
      "5.50     380\n",
      "5.30     380\n",
      "3.70     369\n",
      "5.90     369\n",
      "5.70     342\n",
      "4.10     342\n",
      "6.00     331\n",
      "3.30     307\n",
      "4.30     307\n",
      "3.50     288\n",
      "6.20     216\n",
      "3.60     194\n",
      "6.30     181\n",
      "6.10     175\n",
      "5.80     164\n",
      "6.60     148\n",
      "6.80     136\n",
      "3.40     106\n",
      "6.40      75\n",
      "3.00      73\n",
      "7.40      66\n",
      "6.70      43\n",
      "6.50      43\n",
      "7.10      38\n",
      "1.00      37\n",
      "6.90      27\n",
      "3.20      25\n",
      "8.30      20\n",
      "7.60      14\n",
      "7.00      10\n",
      "3.10       7\n",
      "7.80       6\n",
      "7.20       6\n",
      "8.00       5\n",
      "8.60       4\n",
      "1.60       3\n",
      "8.70       3\n",
      "7.90       3\n",
      "8.10       2\n",
      "0.00       2\n",
      "7.30       2\n",
      "7.50       1\n",
      "9.10       1\n",
      "1.20       1\n",
      "Name: cons_comb, dtype: int64\n"
     ]
    }
   ],
   "source": [
    "look_before(\"cons_comb\")"
   ]
  },
  {
   "cell_type": "code",
   "execution_count": 103,
   "metadata": {},
   "outputs": [],
   "source": [
    "cons_comb = (df[\"cons_country\"] + df[\"cons_city\"])/2"
   ]
  },
  {
   "cell_type": "code",
   "execution_count": 104,
   "metadata": {},
   "outputs": [],
   "source": [
    "df[\"cons_comb\"] = df[\"cons_comb\"].fillna(cons_comb)"
   ]
  },
  {
   "cell_type": "code",
   "execution_count": 105,
   "metadata": {},
   "outputs": [
    {
     "data": {
      "text/plain": [
       "NaN     1925\n",
       "5.40     770\n",
       "3.90     733\n",
       "4.00     718\n",
       "5.10     657\n",
       "4.40     623\n",
       "5.60     618\n",
       "4.70     602\n",
       "3.80     585\n",
       "5.00     558\n",
       "4.80     546\n",
       "4.50     526\n",
       "5.20     455\n",
       "4.60     445\n",
       "4.20     435\n",
       "4.90     393\n",
       "5.50     380\n",
       "5.30     380\n",
       "3.70     369\n",
       "5.90     369\n",
       "5.70     342\n",
       "4.10     342\n",
       "6.00     331\n",
       "3.30     326\n",
       "4.30     307\n",
       "3.50     307\n",
       "6.20     216\n",
       "3.60     194\n",
       "6.30     181\n",
       "6.10     175\n",
       "5.80     164\n",
       "6.60     148\n",
       "3.40     143\n",
       "6.80     136\n",
       "6.40      75\n",
       "3.00      73\n",
       "7.40      66\n",
       "6.70      45\n",
       "6.50      43\n",
       "7.10      39\n",
       "1.00      37\n",
       "6.90      27\n",
       "3.20      25\n",
       "8.30      20\n",
       "7.60      14\n",
       "7.00      10\n",
       "3.10       7\n",
       "7.80       6\n",
       "7.20       6\n",
       "8.00       5\n",
       "8.60       4\n",
       "1.60       3\n",
       "8.70       3\n",
       "7.90       3\n",
       "8.10       2\n",
       "0.00       2\n",
       "7.30       2\n",
       "7.50       1\n",
       "9.10       1\n",
       "1.20       1\n",
       "Name: cons_comb, dtype: int64"
      ]
     },
     "execution_count": 105,
     "metadata": {},
     "output_type": "execute_result"
    }
   ],
   "source": [
    "df[\"cons_comb\"].value_counts(dropna=False)"
   ]
  },
  {
   "cell_type": "code",
   "execution_count": 106,
   "metadata": {},
   "outputs": [
    {
     "data": {
      "text/html": [
       "<div>\n",
       "<style scoped>\n",
       "    .dataframe tbody tr th:only-of-type {\n",
       "        vertical-align: middle;\n",
       "    }\n",
       "\n",
       "    .dataframe tbody tr th {\n",
       "        vertical-align: top;\n",
       "    }\n",
       "\n",
       "    .dataframe thead th {\n",
       "        text-align: right;\n",
       "    }\n",
       "</style>\n",
       "<table border=\"1\" class=\"dataframe\">\n",
       "  <thead>\n",
       "    <tr style=\"text-align: right;\">\n",
       "      <th></th>\n",
       "      <th></th>\n",
       "      <th></th>\n",
       "      <th>count</th>\n",
       "      <th>mean</th>\n",
       "      <th>std</th>\n",
       "      <th>min</th>\n",
       "      <th>25%</th>\n",
       "      <th>50%</th>\n",
       "      <th>75%</th>\n",
       "      <th>max</th>\n",
       "    </tr>\n",
       "    <tr>\n",
       "      <th>make_model</th>\n",
       "      <th>body_type</th>\n",
       "      <th>cons_comb</th>\n",
       "      <th></th>\n",
       "      <th></th>\n",
       "      <th></th>\n",
       "      <th></th>\n",
       "      <th></th>\n",
       "      <th></th>\n",
       "      <th></th>\n",
       "      <th></th>\n",
       "    </tr>\n",
       "  </thead>\n",
       "  <tbody>\n",
       "    <tr>\n",
       "      <th rowspan=\"5\" valign=\"top\">Audi A1</th>\n",
       "      <th rowspan=\"5\" valign=\"top\">Compact</th>\n",
       "      <th>1.00</th>\n",
       "      <td>1.00</td>\n",
       "      <td>12990.00</td>\n",
       "      <td>NaN</td>\n",
       "      <td>12990.00</td>\n",
       "      <td>12990.00</td>\n",
       "      <td>12990.00</td>\n",
       "      <td>12990.00</td>\n",
       "      <td>12990.00</td>\n",
       "    </tr>\n",
       "    <tr>\n",
       "      <th>3.00</th>\n",
       "      <td>4.00</td>\n",
       "      <td>14370.25</td>\n",
       "      <td>4481.39</td>\n",
       "      <td>11100.00</td>\n",
       "      <td>11242.50</td>\n",
       "      <td>12840.50</td>\n",
       "      <td>15968.25</td>\n",
       "      <td>20700.00</td>\n",
       "    </tr>\n",
       "    <tr>\n",
       "      <th>3.40</th>\n",
       "      <td>6.00</td>\n",
       "      <td>12755.00</td>\n",
       "      <td>900.75</td>\n",
       "      <td>11800.00</td>\n",
       "      <td>11987.50</td>\n",
       "      <td>12640.00</td>\n",
       "      <td>13570.00</td>\n",
       "      <td>13800.00</td>\n",
       "    </tr>\n",
       "    <tr>\n",
       "      <th>3.50</th>\n",
       "      <td>3.00</td>\n",
       "      <td>14613.00</td>\n",
       "      <td>1848.10</td>\n",
       "      <td>12479.00</td>\n",
       "      <td>14079.50</td>\n",
       "      <td>15680.00</td>\n",
       "      <td>15680.00</td>\n",
       "      <td>15680.00</td>\n",
       "    </tr>\n",
       "    <tr>\n",
       "      <th>3.60</th>\n",
       "      <td>5.00</td>\n",
       "      <td>13960.00</td>\n",
       "      <td>1232.07</td>\n",
       "      <td>12900.00</td>\n",
       "      <td>12900.00</td>\n",
       "      <td>13900.00</td>\n",
       "      <td>14200.00</td>\n",
       "      <td>15900.00</td>\n",
       "    </tr>\n",
       "    <tr>\n",
       "      <th>...</th>\n",
       "      <th>...</th>\n",
       "      <th>...</th>\n",
       "      <td>...</td>\n",
       "      <td>...</td>\n",
       "      <td>...</td>\n",
       "      <td>...</td>\n",
       "      <td>...</td>\n",
       "      <td>...</td>\n",
       "      <td>...</td>\n",
       "      <td>...</td>\n",
       "    </tr>\n",
       "    <tr>\n",
       "      <th rowspan=\"5\" valign=\"top\">Renault Espace</th>\n",
       "      <th rowspan=\"5\" valign=\"top\">Van</th>\n",
       "      <th>6.20</th>\n",
       "      <td>22.00</td>\n",
       "      <td>25804.73</td>\n",
       "      <td>4058.01</td>\n",
       "      <td>18480.00</td>\n",
       "      <td>23050.00</td>\n",
       "      <td>26225.00</td>\n",
       "      <td>27673.75</td>\n",
       "      <td>33800.00</td>\n",
       "    </tr>\n",
       "    <tr>\n",
       "      <th>6.50</th>\n",
       "      <td>1.00</td>\n",
       "      <td>68320.00</td>\n",
       "      <td>NaN</td>\n",
       "      <td>68320.00</td>\n",
       "      <td>68320.00</td>\n",
       "      <td>68320.00</td>\n",
       "      <td>68320.00</td>\n",
       "      <td>68320.00</td>\n",
       "    </tr>\n",
       "    <tr>\n",
       "      <th>6.80</th>\n",
       "      <td>115.00</td>\n",
       "      <td>34032.31</td>\n",
       "      <td>7847.72</td>\n",
       "      <td>25490.00</td>\n",
       "      <td>28237.50</td>\n",
       "      <td>31990.00</td>\n",
       "      <td>37470.00</td>\n",
       "      <td>58950.00</td>\n",
       "    </tr>\n",
       "    <tr>\n",
       "      <th>7.40</th>\n",
       "      <td>60.00</td>\n",
       "      <td>38088.47</td>\n",
       "      <td>6433.34</td>\n",
       "      <td>28975.00</td>\n",
       "      <td>33709.50</td>\n",
       "      <td>37128.00</td>\n",
       "      <td>39990.00</td>\n",
       "      <td>54500.00</td>\n",
       "    </tr>\n",
       "    <tr>\n",
       "      <th>7.60</th>\n",
       "      <td>14.00</td>\n",
       "      <td>52019.21</td>\n",
       "      <td>7596.27</td>\n",
       "      <td>38990.00</td>\n",
       "      <td>48387.50</td>\n",
       "      <td>51350.00</td>\n",
       "      <td>54982.00</td>\n",
       "      <td>64332.00</td>\n",
       "    </tr>\n",
       "  </tbody>\n",
       "</table>\n",
       "<p>583 rows × 8 columns</p>\n",
       "</div>"
      ],
      "text/plain": [
       "                                    count     mean     std      min      25%  \\\n",
       "make_model     body_type cons_comb                                             \n",
       "Audi A1        Compact   1.00        1.00 12990.00     NaN 12990.00 12990.00   \n",
       "                         3.00        4.00 14370.25 4481.39 11100.00 11242.50   \n",
       "                         3.40        6.00 12755.00  900.75 11800.00 11987.50   \n",
       "                         3.50        3.00 14613.00 1848.10 12479.00 14079.50   \n",
       "                         3.60        5.00 13960.00 1232.07 12900.00 12900.00   \n",
       "...                                   ...      ...     ...      ...      ...   \n",
       "Renault Espace Van       6.20       22.00 25804.73 4058.01 18480.00 23050.00   \n",
       "                         6.50        1.00 68320.00     NaN 68320.00 68320.00   \n",
       "                         6.80      115.00 34032.31 7847.72 25490.00 28237.50   \n",
       "                         7.40       60.00 38088.47 6433.34 28975.00 33709.50   \n",
       "                         7.60       14.00 52019.21 7596.27 38990.00 48387.50   \n",
       "\n",
       "                                        50%      75%      max  \n",
       "make_model     body_type cons_comb                             \n",
       "Audi A1        Compact   1.00      12990.00 12990.00 12990.00  \n",
       "                         3.00      12840.50 15968.25 20700.00  \n",
       "                         3.40      12640.00 13570.00 13800.00  \n",
       "                         3.50      15680.00 15680.00 15680.00  \n",
       "                         3.60      13900.00 14200.00 15900.00  \n",
       "...                                     ...      ...      ...  \n",
       "Renault Espace Van       6.20      26225.00 27673.75 33800.00  \n",
       "                         6.50      68320.00 68320.00 68320.00  \n",
       "                         6.80      31990.00 37470.00 58950.00  \n",
       "                         7.40      37128.00 39990.00 54500.00  \n",
       "                         7.60      51350.00 54982.00 64332.00  \n",
       "\n",
       "[583 rows x 8 columns]"
      ]
     },
     "execution_count": 106,
     "metadata": {},
     "output_type": "execute_result"
    }
   ],
   "source": [
    "df.groupby([\"make_model\", \"body_type\",\"cons_comb\"]).price.describe()"
   ]
  },
  {
   "cell_type": "code",
   "execution_count": 107,
   "metadata": {},
   "outputs": [
    {
     "name": "stdout",
     "output_type": "stream",
     "text": [
      "Number of NaN :  0\n",
      "------------------\n",
      "4.00    1010\n",
      "5.60     941\n",
      "5.40     899\n",
      "5.00     807\n",
      "4.70     760\n",
      "3.90     733\n",
      "4.50     720\n",
      "5.10     677\n",
      "4.40     667\n",
      "3.80     585\n",
      "4.20     569\n",
      "4.80     546\n",
      "4.90     534\n",
      "5.30     530\n",
      "5.20     467\n",
      "4.60     445\n",
      "5.50     388\n",
      "3.70     369\n",
      "5.90     369\n",
      "4.10     362\n",
      "5.70     342\n",
      "6.00     331\n",
      "3.30     326\n",
      "4.30     317\n",
      "3.50     307\n",
      "6.20     219\n",
      "3.60     194\n",
      "6.30     181\n",
      "6.10     175\n",
      "5.80     164\n",
      "6.60     148\n",
      "3.40     143\n",
      "6.80     136\n",
      "6.40      75\n",
      "3.00      73\n",
      "7.40      66\n",
      "6.70      45\n",
      "6.50      43\n",
      "7.10      39\n",
      "1.00      38\n",
      "6.90      27\n",
      "3.20      25\n",
      "8.30      20\n",
      "3.45      19\n",
      "7.60      14\n",
      "5.15      11\n",
      "7.00      10\n",
      "3.10       7\n",
      "7.20       6\n",
      "7.80       6\n",
      "4.75       5\n",
      "8.00       5\n",
      "8.60       4\n",
      "1.60       3\n",
      "8.70       3\n",
      "7.90       3\n",
      "0.00       2\n",
      "8.10       2\n",
      "7.30       2\n",
      "4.30       1\n",
      "4.55       1\n",
      "9.10       1\n",
      "7.50       1\n",
      "1.20       1\n",
      "Name: cons_comb, dtype: int64\n"
     ]
    }
   ],
   "source": [
    "fill(df, \"make_model\", \"body_type\", \"cons_comb\", \"median\")"
   ]
  },
  {
   "cell_type": "markdown",
   "metadata": {},
   "source": [
    "### cons_country"
   ]
  },
  {
   "cell_type": "code",
   "execution_count": 108,
   "metadata": {},
   "outputs": [],
   "source": [
    "df.drop(\"cons_country\", axis = 1, inplace = True)"
   ]
  },
  {
   "cell_type": "markdown",
   "metadata": {},
   "source": [
    "### cons_city"
   ]
  },
  {
   "cell_type": "code",
   "execution_count": 109,
   "metadata": {},
   "outputs": [],
   "source": [
    "df.drop(\"cons_city\", axis = 1, inplace = True)"
   ]
  },
  {
   "cell_type": "markdown",
   "metadata": {},
   "source": [
    "### warranty"
   ]
  },
  {
   "cell_type": "code",
   "execution_count": 110,
   "metadata": {},
   "outputs": [
    {
     "name": "stdout",
     "output_type": "stream",
     "text": [
      "column name    :  warranty\n",
      "--------------------------------\n",
      "per_of_nulls   :  % 69.51\n",
      "num_of_nulls   :  11066\n",
      "num_of_uniques :  41\n",
      "--------------------------------\n",
      "NaN      11066\n",
      "12.00     2594\n",
      "24.00     1118\n",
      "60.00      401\n",
      "36.00      279\n",
      "48.00      149\n",
      "6.00       125\n",
      "72.00       59\n",
      "3.00        33\n",
      "23.00       11\n",
      "18.00       10\n",
      "20.00        7\n",
      "25.00        6\n",
      "2.00         5\n",
      "50.00        4\n",
      "26.00        4\n",
      "16.00        4\n",
      "4.00         3\n",
      "1.00         3\n",
      "19.00        3\n",
      "34.00        3\n",
      "13.00        3\n",
      "28.00        2\n",
      "22.00        2\n",
      "14.00        2\n",
      "11.00        2\n",
      "46.00        2\n",
      "21.00        2\n",
      "9.00         2\n",
      "17.00        2\n",
      "45.00        2\n",
      "33.00        1\n",
      "40.00        1\n",
      "65.00        1\n",
      "10.00        1\n",
      "15.00        1\n",
      "7.00         1\n",
      "8.00         1\n",
      "56.00        1\n",
      "49.00        1\n",
      "47.00        1\n",
      "30.00        1\n",
      "Name: warranty, dtype: int64\n"
     ]
    }
   ],
   "source": [
    "look_before(\"warranty\")"
   ]
  },
  {
   "cell_type": "code",
   "execution_count": 111,
   "metadata": {},
   "outputs": [
    {
     "data": {
      "text/html": [
       "<div>\n",
       "<style scoped>\n",
       "    .dataframe tbody tr th:only-of-type {\n",
       "        vertical-align: middle;\n",
       "    }\n",
       "\n",
       "    .dataframe tbody tr th {\n",
       "        vertical-align: top;\n",
       "    }\n",
       "\n",
       "    .dataframe thead th {\n",
       "        text-align: right;\n",
       "    }\n",
       "</style>\n",
       "<table border=\"1\" class=\"dataframe\">\n",
       "  <thead>\n",
       "    <tr style=\"text-align: right;\">\n",
       "      <th></th>\n",
       "      <th></th>\n",
       "      <th>count</th>\n",
       "      <th>mean</th>\n",
       "      <th>std</th>\n",
       "      <th>min</th>\n",
       "      <th>25%</th>\n",
       "      <th>50%</th>\n",
       "      <th>75%</th>\n",
       "      <th>max</th>\n",
       "    </tr>\n",
       "    <tr>\n",
       "      <th>make_model</th>\n",
       "      <th>warranty</th>\n",
       "      <th></th>\n",
       "      <th></th>\n",
       "      <th></th>\n",
       "      <th></th>\n",
       "      <th></th>\n",
       "      <th></th>\n",
       "      <th></th>\n",
       "      <th></th>\n",
       "    </tr>\n",
       "  </thead>\n",
       "  <tbody>\n",
       "    <tr>\n",
       "      <th rowspan=\"5\" valign=\"top\">Renault Espace</th>\n",
       "      <th>48.00</th>\n",
       "      <td>14.00</td>\n",
       "      <td>39806.79</td>\n",
       "      <td>8058.50</td>\n",
       "      <td>19490.00</td>\n",
       "      <td>37035.00</td>\n",
       "      <td>40692.50</td>\n",
       "      <td>46095.00</td>\n",
       "      <td>47990.00</td>\n",
       "    </tr>\n",
       "    <tr>\n",
       "      <th>16.00</th>\n",
       "      <td>1.00</td>\n",
       "      <td>38890.00</td>\n",
       "      <td>NaN</td>\n",
       "      <td>38890.00</td>\n",
       "      <td>38890.00</td>\n",
       "      <td>38890.00</td>\n",
       "      <td>38890.00</td>\n",
       "      <td>38890.00</td>\n",
       "    </tr>\n",
       "    <tr>\n",
       "      <th>45.00</th>\n",
       "      <td>1.00</td>\n",
       "      <td>37950.00</td>\n",
       "      <td>NaN</td>\n",
       "      <td>37950.00</td>\n",
       "      <td>37950.00</td>\n",
       "      <td>37950.00</td>\n",
       "      <td>37950.00</td>\n",
       "      <td>37950.00</td>\n",
       "    </tr>\n",
       "    <tr>\n",
       "      <th>23.00</th>\n",
       "      <td>1.00</td>\n",
       "      <td>37600.00</td>\n",
       "      <td>NaN</td>\n",
       "      <td>37600.00</td>\n",
       "      <td>37600.00</td>\n",
       "      <td>37600.00</td>\n",
       "      <td>37600.00</td>\n",
       "      <td>37600.00</td>\n",
       "    </tr>\n",
       "    <tr>\n",
       "      <th>25.00</th>\n",
       "      <td>1.00</td>\n",
       "      <td>36498.00</td>\n",
       "      <td>NaN</td>\n",
       "      <td>36498.00</td>\n",
       "      <td>36498.00</td>\n",
       "      <td>36498.00</td>\n",
       "      <td>36498.00</td>\n",
       "      <td>36498.00</td>\n",
       "    </tr>\n",
       "    <tr>\n",
       "      <th>...</th>\n",
       "      <th>...</th>\n",
       "      <td>...</td>\n",
       "      <td>...</td>\n",
       "      <td>...</td>\n",
       "      <td>...</td>\n",
       "      <td>...</td>\n",
       "      <td>...</td>\n",
       "      <td>...</td>\n",
       "      <td>...</td>\n",
       "    </tr>\n",
       "    <tr>\n",
       "      <th rowspan=\"5\" valign=\"top\">Audi A1</th>\n",
       "      <th>23.00</th>\n",
       "      <td>2.00</td>\n",
       "      <td>16560.00</td>\n",
       "      <td>6208.40</td>\n",
       "      <td>12170.00</td>\n",
       "      <td>14365.00</td>\n",
       "      <td>16560.00</td>\n",
       "      <td>18755.00</td>\n",
       "      <td>20950.00</td>\n",
       "    </tr>\n",
       "    <tr>\n",
       "      <th>47.00</th>\n",
       "      <td>1.00</td>\n",
       "      <td>16370.00</td>\n",
       "      <td>NaN</td>\n",
       "      <td>16370.00</td>\n",
       "      <td>16370.00</td>\n",
       "      <td>16370.00</td>\n",
       "      <td>16370.00</td>\n",
       "      <td>16370.00</td>\n",
       "    </tr>\n",
       "    <tr>\n",
       "      <th>49.00</th>\n",
       "      <td>1.00</td>\n",
       "      <td>16270.00</td>\n",
       "      <td>NaN</td>\n",
       "      <td>16270.00</td>\n",
       "      <td>16270.00</td>\n",
       "      <td>16270.00</td>\n",
       "      <td>16270.00</td>\n",
       "      <td>16270.00</td>\n",
       "    </tr>\n",
       "    <tr>\n",
       "      <th>46.00</th>\n",
       "      <td>1.00</td>\n",
       "      <td>15980.00</td>\n",
       "      <td>NaN</td>\n",
       "      <td>15980.00</td>\n",
       "      <td>15980.00</td>\n",
       "      <td>15980.00</td>\n",
       "      <td>15980.00</td>\n",
       "      <td>15980.00</td>\n",
       "    </tr>\n",
       "    <tr>\n",
       "      <th>26.00</th>\n",
       "      <td>1.00</td>\n",
       "      <td>15840.00</td>\n",
       "      <td>NaN</td>\n",
       "      <td>15840.00</td>\n",
       "      <td>15840.00</td>\n",
       "      <td>15840.00</td>\n",
       "      <td>15840.00</td>\n",
       "      <td>15840.00</td>\n",
       "    </tr>\n",
       "  </tbody>\n",
       "</table>\n",
       "<p>121 rows × 8 columns</p>\n",
       "</div>"
      ],
      "text/plain": [
       "                         count     mean     std      min      25%      50%  \\\n",
       "make_model     warranty                                                      \n",
       "Renault Espace 48.00     14.00 39806.79 8058.50 19490.00 37035.00 40692.50   \n",
       "               16.00      1.00 38890.00     NaN 38890.00 38890.00 38890.00   \n",
       "               45.00      1.00 37950.00     NaN 37950.00 37950.00 37950.00   \n",
       "               23.00      1.00 37600.00     NaN 37600.00 37600.00 37600.00   \n",
       "               25.00      1.00 36498.00     NaN 36498.00 36498.00 36498.00   \n",
       "...                        ...      ...     ...      ...      ...      ...   \n",
       "Audi A1        23.00      2.00 16560.00 6208.40 12170.00 14365.00 16560.00   \n",
       "               47.00      1.00 16370.00     NaN 16370.00 16370.00 16370.00   \n",
       "               49.00      1.00 16270.00     NaN 16270.00 16270.00 16270.00   \n",
       "               46.00      1.00 15980.00     NaN 15980.00 15980.00 15980.00   \n",
       "               26.00      1.00 15840.00     NaN 15840.00 15840.00 15840.00   \n",
       "\n",
       "                             75%      max  \n",
       "make_model     warranty                    \n",
       "Renault Espace 48.00    46095.00 47990.00  \n",
       "               16.00    38890.00 38890.00  \n",
       "               45.00    37950.00 37950.00  \n",
       "               23.00    37600.00 37600.00  \n",
       "               25.00    36498.00 36498.00  \n",
       "...                          ...      ...  \n",
       "Audi A1        23.00    18755.00 20950.00  \n",
       "               47.00    16370.00 16370.00  \n",
       "               49.00    16270.00 16270.00  \n",
       "               46.00    15980.00 15980.00  \n",
       "               26.00    15840.00 15840.00  \n",
       "\n",
       "[121 rows x 8 columns]"
      ]
     },
     "execution_count": 111,
     "metadata": {},
     "output_type": "execute_result"
    }
   ],
   "source": [
    "df.groupby([\"make_model\", \"warranty\"]).price.describe().sort_values(by = [\"make_model\", \"mean\"], ascending=False)"
   ]
  },
  {
   "cell_type": "code",
   "execution_count": 112,
   "metadata": {},
   "outputs": [],
   "source": [
    "# There are too many missing values. This column can be dropped:\n",
    "\n",
    "df.drop(\"warranty\", axis=1, inplace=True)"
   ]
  },
  {
   "cell_type": "markdown",
   "metadata": {},
   "source": [
    "## Final DataFrame After Handling Missing Values"
   ]
  },
  {
   "cell_type": "code",
   "execution_count": 113,
   "metadata": {},
   "outputs": [
    {
     "data": {
      "text/plain": [
       "(15919, 27)"
      ]
     },
     "execution_count": 113,
     "metadata": {},
     "output_type": "execute_result"
    }
   ],
   "source": [
    "# There were 33 columns at the begining of the handling mıissing values process.\n",
    "# There remained 27 features for further analysis.\n",
    "\n",
    "df.shape"
   ]
  },
  {
   "cell_type": "code",
   "execution_count": 114,
   "metadata": {},
   "outputs": [
    {
     "name": "stdout",
     "output_type": "stream",
     "text": [
      "<class 'pandas.core.frame.DataFrame'>\n",
      "RangeIndex: 15919 entries, 0 to 15918\n",
      "Data columns (total 27 columns):\n",
      " #   Column               Non-Null Count  Dtype  \n",
      "---  ------               --------------  -----  \n",
      " 0   make_model           15919 non-null  object \n",
      " 1   body_type            15919 non-null  object \n",
      " 2   price                15919 non-null  int64  \n",
      " 3   vat                  15919 non-null  object \n",
      " 4   km                   15919 non-null  float64\n",
      " 5   hp_kw                15919 non-null  float64\n",
      " 6   type                 15919 non-null  object \n",
      " 7   previous_owners      15919 non-null  float64\n",
      " 8   inspection_new       15919 non-null  int64  \n",
      " 9   age                  15919 non-null  float64\n",
      " 10  body_color           15919 non-null  object \n",
      " 11  paint_type           15919 non-null  object \n",
      " 12  upholstery_type      15919 non-null  object \n",
      " 13  nr_of_doors          15919 non-null  float64\n",
      " 14  nr_of_seats          15919 non-null  float64\n",
      " 15  gearing_type         15919 non-null  object \n",
      " 16  displacement_cc      15919 non-null  float64\n",
      " 17  weight_kg            15919 non-null  float64\n",
      " 18  drive_chain          15919 non-null  object \n",
      " 19  fuel                 15919 non-null  object \n",
      " 20  cons_comb            15919 non-null  float64\n",
      " 21  co2_emission         15919 non-null  float64\n",
      " 22  comfort_convenience  15919 non-null  object \n",
      " 23  entertainment_media  15919 non-null  object \n",
      " 24  extras               15919 non-null  object \n",
      " 25  safety_security      15919 non-null  object \n",
      " 26  gears                15919 non-null  float64\n",
      "dtypes: float64(11), int64(2), object(14)\n",
      "memory usage: 3.3+ MB\n"
     ]
    }
   ],
   "source": [
    "df.info()"
   ]
  },
  {
   "cell_type": "code",
   "execution_count": 115,
   "metadata": {},
   "outputs": [
    {
     "data": {
      "text/plain": [
       "make_model            0.00\n",
       "body_type             0.00\n",
       "price                 0.00\n",
       "vat                   0.00\n",
       "km                    0.00\n",
       "hp_kw                 0.00\n",
       "type                  0.00\n",
       "previous_owners       0.00\n",
       "inspection_new        0.00\n",
       "age                   0.00\n",
       "body_color            0.00\n",
       "paint_type            0.00\n",
       "upholstery_type       0.00\n",
       "nr_of_doors           0.00\n",
       "nr_of_seats           0.00\n",
       "gearing_type          0.00\n",
       "displacement_cc       0.00\n",
       "weight_kg             0.00\n",
       "drive_chain           0.00\n",
       "fuel                  0.00\n",
       "cons_comb             0.00\n",
       "co2_emission          0.00\n",
       "comfort_convenience   0.00\n",
       "entertainment_media   0.00\n",
       "extras                0.00\n",
       "safety_security       0.00\n",
       "gears                 0.00\n",
       "dtype: float64"
      ]
     },
     "execution_count": 115,
     "metadata": {},
     "output_type": "execute_result"
    }
   ],
   "source": [
    "df.isnull().sum()/df.shape[0]*100"
   ]
  },
  {
   "cell_type": "markdown",
   "metadata": {},
   "source": [
    "## The End of Part-2"
   ]
  },
  {
   "cell_type": "code",
   "execution_count": 116,
   "metadata": {},
   "outputs": [],
   "source": [
    "df.to_csv(\"scout_filled.csv\", index=False)"
   ]
  }
 ],
 "metadata": {
  "colab": {
   "name": "DAwPy-Capstone_Project_(AutoScout)_Student.ipynb",
   "provenance": []
  },
  "kernelspec": {
   "display_name": "Python 3 (ipykernel)",
   "language": "python",
   "name": "python3"
  },
  "language_info": {
   "codemirror_mode": {
    "name": "ipython",
    "version": 3
   },
   "file_extension": ".py",
   "mimetype": "text/x-python",
   "name": "python",
   "nbconvert_exporter": "python",
   "pygments_lexer": "ipython3",
   "version": "3.9.7"
  },
  "toc": {
   "base_numbering": 1,
   "nav_menu": {},
   "number_sections": false,
   "sideBar": true,
   "skip_h1_title": false,
   "title_cell": "Table of Contents",
   "title_sidebar": "Contents",
   "toc_cell": false,
   "toc_position": {},
   "toc_section_display": true,
   "toc_window_display": false
  }
 },
 "nbformat": 4,
 "nbformat_minor": 1
}
